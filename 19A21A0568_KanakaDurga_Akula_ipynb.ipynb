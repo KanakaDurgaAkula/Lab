{
  "nbformat": 4,
  "nbformat_minor": 0,
  "metadata": {
    "colab": {
      "name": "19A21A0568-KanakaDurga Akula. ipynb",
      "provenance": [],
      "collapsed_sections": [],
      "authorship_tag": "ABX9TyPjVqx77BAoZx8CLzMKwpg2",
      "include_colab_link": true
    },
    "kernelspec": {
      "display_name": "Python 3",
      "name": "python3"
    },
    "language_info": {
      "name": "python"
    }
  },
  "cells": [
    {
      "cell_type": "markdown",
      "metadata": {
        "id": "view-in-github",
        "colab_type": "text"
      },
      "source": [
        "<a href=\"https://colab.research.google.com/github/KanakaDurgaAkula/Lab/blob/main/19A21A0568_KanakaDurga_Akula_ipynb.ipynb\" target=\"_parent\"><img src=\"https://colab.research.google.com/assets/colab-badge.svg\" alt=\"Open In Colab\"/></a>"
      ]
    },
    {
      "cell_type": "markdown",
      "metadata": {
        "id": "6ie-3L0Mvx8V"
      },
      "source": [
        " EXERCISE 1:BASICS \n",
        "a)Running  instructions  in interactive, interpreter, python script mode"
      ]
    },
    {
      "cell_type": "code",
      "metadata": {
        "colab": {
          "base_uri": "https://localhost:8080/"
        },
        "id": "8fhe5PvlwOmy",
        "outputId": "9e40245d-504a-4eff-bf9f-6817c023c3e7"
      },
      "source": [
        "a=\"hello\"\n",
        "b=67.9\n",
        "print(type(a)) \n",
        "print(type(b))\n",
        "x=y=10\n",
        "print(id(x)) \n",
        "print(id(y)) \n",
        "print(\"welcome to devi's house\") \n",
        "print('Hello \"devi\"')"
      ],
      "execution_count": null,
      "outputs": [
        {
          "output_type": "stream",
          "text": [
            "<class 'str'>\n",
            "<class 'float'>\n",
            "94775883385632\n",
            "94775883385632\n",
            "welcome to devi's house\n",
            "Hello \"devi\"\n"
          ],
          "name": "stdout"
        }
      ]
    },
    {
      "cell_type": "markdown",
      "metadata": {
        "id": "D5WR0YzKw1-8"
      },
      "source": [
        "b)write a program to purposefully raise Indentation Error and Correct it"
      ]
    },
    {
      "cell_type": "code",
      "metadata": {
        "colab": {
          "base_uri": "https://localhost:8080/",
          "height": 163
        },
        "id": "pqXRWQMqw_jf",
        "outputId": "b3e2db6c-e3b2-4589-9c5b-866cea81ee66"
      },
      "source": [
        " \n",
        "#raise of indentation\n",
        "a=int(input(\" Enter a number :\")) \n",
        "  Print(\"value of a :\", a)\n",
        "if a>0 :\n",
        "print(a, \" is positive number\") \n",
        "#correction of it \n",
        "a=int(input(\" Enter a number :\")) \n",
        "Print(\"value of a :\", a)\n",
        "if a>0 : \n",
        "  print(a, \"is positive number\")"
      ],
      "execution_count": null,
      "outputs": [
        {
          "output_type": "error",
          "ename": "IndentationError",
          "evalue": "ignored",
          "traceback": [
            "\u001b[0;36m  File \u001b[0;32m\"<ipython-input-4-819ddb1268a8>\"\u001b[0;36m, line \u001b[0;32m4\u001b[0m\n\u001b[0;31m    Print(\"value of a :\", a)\u001b[0m\n\u001b[0m    ^\u001b[0m\n\u001b[0;31mIndentationError\u001b[0m\u001b[0;31m:\u001b[0m unexpected indent\n"
          ]
        }
      ]
    },
    {
      "cell_type": "markdown",
      "metadata": {
        "id": "i26U-TeNyb1J"
      },
      "source": [
        "EXERCISE-2 :Opeartions\n",
        "a)write a program to compute distance between two points , taking user input"
      ]
    },
    {
      "cell_type": "code",
      "metadata": {
        "colab": {
          "base_uri": "https://localhost:8080/"
        },
        "id": "TKcvJL64ysA4",
        "outputId": "3ae5a168-0fa5-4e06-c6a1-aa58afd55053"
      },
      "source": [
        "import math\n",
        "x1=int(input(\"Enter x1 value:\")) \n",
        "y1=int(input(\"Enter y1 value:\")) \n",
        "x2=int(input(\"\\nEnter x2 value:\")) \n",
        "y2=int(input(\"\\nEnter y2 value:\")) \n",
        "d=math.sqrt((x2-x1)**2+(y2-y1)**2) \n",
        "print(\"\\nDistance of two points (%d, %d) and (%d, %d) is %f \"%(x1, y1, x2, y2, d))"
      ],
      "execution_count": null,
      "outputs": [
        {
          "output_type": "stream",
          "text": [
            "Enter x1 value:4\n",
            "\n",
            "Enter y1 value:6\n",
            "\n",
            "Enter x2 value:3\n",
            "\n",
            "Enter y2 value:9\n",
            "\n",
            "Distance of two points (4, 6) and (3, 9) is 3.162278 \n"
          ],
          "name": "stdout"
        }
      ]
    },
    {
      "cell_type": "code",
      "metadata": {
        "id": "-h6n077tG6qd"
      },
      "source": [
        " \n",
        "#another way\n",
        "from math import  sqrt,pow\n",
        "x1=int(input(\"Enter x1 value:\")) \n",
        "y1=int(input(\"\\nEnter y1 value:\")) \n",
        "x2=int(input(\"\\nEnter x2 value:\")) \n",
        "y2=int(input(\"\\nEnter y2 value:\")) \n",
        "d=sqrt(pow((x2-x1),2)+pow((y2-y1),2) )\n",
        "print(\"\\nDistance of two points (%d, %d) and (%d, %d) is %f \"%(x1, y1, x2, y2, d))"
      ],
      "execution_count": null,
      "outputs": []
    },
    {
      "cell_type": "code",
      "metadata": {
        "id": "PAyfUowfG_ho"
      },
      "source": [
        "from math import  *\n",
        "x1=int(input(\"Enter x1 value:\")) \n",
        "y1=int(input(\"\\nEnter y1 value:\")) \n",
        "x2=int(input(\"\\nEnter x2 value:\")) \n",
        "y2=int(input(\"\\nEnter y2 value:\")) \n",
        "d=sqrt((x2-x1)**2+(y2-y1)**2) \n",
        "print(\"\\nDistance of two points (%d, %d) and (%d, %d) is %f \"%(x1, y1, x2, y2, d))"
      ],
      "execution_count": null,
      "outputs": []
    },
    {
      "cell_type": "markdown",
      "metadata": {
        "id": "VUms_4AdzDLM"
      },
      "source": [
        "b)Write a program add. Py that takes two numbers on command line arguments and print the sum"
      ]
    },
    {
      "cell_type": "code",
      "metadata": {
        "id": "h3KEve58zTTB"
      },
      "source": [
        "import sys\n",
        "n1=int(sys.argv[1]) \n",
        "n2=int(sys.argv[2]) \n",
        "print(\" sum is :\", (n1+n2)) \n",
        "#in cmd python add.py 10 20"
      ],
      "execution_count": null,
      "outputs": []
    },
    {
      "cell_type": "code",
      "metadata": {
        "colab": {
          "base_uri": "https://localhost:8080/"
        },
        "id": "n-yHQM7tqGgi",
        "outputId": "cc772c80-9ac6-4616-fe99-1eaff05d06f5"
      },
      "source": [
        "!bash"
      ],
      "execution_count": null,
      "outputs": [
        {
          "output_type": "stream",
          "text": [
            "bash: cannot set terminal process group (62): Inappropriate ioctl for device\n",
            "bash: no job control in this shell\n",
            "\u001b[01;34m/content\u001b[00m# "
          ],
          "name": "stdout"
        }
      ]
    },
    {
      "cell_type": "markdown",
      "metadata": {
        "id": "VsXdpWjDzs8C"
      },
      "source": [
        "EXCERSCISE-3: Control Flow\n",
        " a) Write a Program for checking whether the given number is an even number or not."
      ]
    },
    {
      "cell_type": "code",
      "metadata": {
        "colab": {
          "base_uri": "https://localhost:8080/"
        },
        "id": "vbuybd8lz0Pl",
        "outputId": "ab439bbb-5179-4b62-8f69-47b0ffdd8e61"
      },
      "source": [
        "n=int(input(\"Enter a number:\")) \n",
        "if n%2==0:\n",
        "    print(\"Given number is even\") \n",
        "else:\n",
        "  print(\"Given number is odd\")"
      ],
      "execution_count": null,
      "outputs": [
        {
          "output_type": "stream",
          "text": [
            "Entera number:10\n",
            "Given number is even\n"
          ],
          "name": "stdout"
        }
      ]
    },
    {
      "cell_type": "markdown",
      "metadata": {
        "id": "vSlHFB-uz_dJ"
      },
      "source": [
        " b) Using a for loop, write a program that prints out the decimal equivalents of 1/2, 1/3, 1/4, . . .1/10"
      ]
    },
    {
      "cell_type": "code",
      "metadata": {
        "colab": {
          "base_uri": "https://localhost:8080/"
        },
        "id": "AuW_fpDD0EcD",
        "outputId": "54db4737-38fc-4b1f-8a20-eee400ed4550"
      },
      "source": [
        "n=int(input(\"Enter a number:\")) \n",
        "for i in range(2, n+1) :\n",
        "   de=1/i\n",
        "   print(\"1/\"+str(i) +\"=\", de)\n",
        "   #print(\"1/\"+str(i) +\"=\", str(1/i))"
      ],
      "execution_count": null,
      "outputs": [
        {
          "output_type": "stream",
          "text": [
            "Enter a number:10\n",
            "1/2= 0.5\n",
            "1/3= 0.3333333333333333\n",
            "1/4= 0.25\n",
            "1/5= 0.2\n",
            "1/6= 0.16666666666666666\n",
            "1/7= 0.14285714285714285\n",
            "1/8= 0.125\n",
            "1/9= 0.1111111111111111\n",
            "1/10= 0.1\n"
          ],
          "name": "stdout"
        }
      ]
    },
    {
      "cell_type": "markdown",
      "metadata": {
        "id": "Qx6ssPU90bOo"
      },
      "source": [
        " c) Write a program using a for loop that loops over a sequence. What is sequence?"
      ]
    },
    {
      "cell_type": "code",
      "metadata": {
        "colab": {
          "base_uri": "https://localhost:8080/"
        },
        "id": "BRvWyyjK0hMS",
        "outputId": "cd0636d3-7ab6-46ee-aae4-e54fbedef4b3"
      },
      "source": [
        "print(\"Number sequence:\",end=' ') \n",
        "num=[45, 2,6,-7]\n",
        "for i in num:\n",
        "  print(i,end=' ') \n",
        "print(\"\\nString sequence:\",end=' ') \n",
        "days=[\"sun\",\"mon\" ,\"tues\"]\n",
        "for i in days:\n",
        "  print(i, end=' ')\n",
        "print(\"\\nMulti Data:\",end =' ') \n",
        "arr=[45,\"abc\",'c', -7]\n",
        "for i in arr:\n",
        "  print(i, end=' ')"
      ],
      "execution_count": null,
      "outputs": [
        {
          "output_type": "stream",
          "text": [
            "Number sequence: 45 2 6 -7 \n",
            "String sequence: sun mon tues \n",
            "Multi Data: 45 abc c -7 "
          ],
          "name": "stdout"
        }
      ]
    },
    {
      "cell_type": "markdown",
      "metadata": {
        "id": "2HEf0-Hr06CB"
      },
      "source": [
        " d) Write a program using a while loop that asks the user for a number, and prints a countdownfrom that number to zero"
      ]
    },
    {
      "cell_type": "code",
      "metadata": {
        "colab": {
          "base_uri": "https://localhost:8080/"
        },
        "id": "6-Bsyorb0-fa",
        "outputId": "65c1ba6c-a3a2-43af-89cd-2d36bdf737bd"
      },
      "source": [
        "n=int(input(\"Enter a number:\")) \n",
        "print(\" Countdown from given number to zero:\", end=' ') \n",
        "while n>0:\n",
        "  print(n, end=' ') \n",
        "  n=n-1"
      ],
      "execution_count": null,
      "outputs": [
        {
          "output_type": "stream",
          "text": [
            "Enter a number:5\n",
            " Countdown from given number to zero: 5 4 3 2 1 "
          ],
          "name": "stdout"
        }
      ]
    },
    {
      "cell_type": "markdown",
      "metadata": {
        "id": "mz7NRTzA1V9W"
      },
      "source": [
        " Write a program to print given number below even numbers"
      ]
    },
    {
      "cell_type": "code",
      "metadata": {
        "colab": {
          "base_uri": "https://localhost:8080/"
        },
        "id": "znyMxDSM1cQv",
        "outputId": "66408563-e00b-45d8-e73b-557399cd5973"
      },
      "source": [
        "n=int(input(\"Enter a number:\")) \n",
        "i=1\n",
        "pt=\" \"\n",
        "print(\"Even numbers below\",n,\"are\",end=' ') \n",
        "while i<=n:\n",
        "     if i%2==0:\n",
        "          pt+=str(i)+' '\n",
        "          \n",
        "     i=i+1\n",
        "print(pt, end=' ')"
      ],
      "execution_count": null,
      "outputs": [
        {
          "output_type": "stream",
          "text": [
            "Enter a number:10\n",
            "Even numbers below 10 are  2 4 6 8 10  "
          ],
          "name": "stdout"
        }
      ]
    },
    {
      "cell_type": "markdown",
      "metadata": {
        "id": "u1wDgLzn3RBI"
      },
      "source": [
        " Write a program to print sum of all even numbers below the given number"
      ]
    },
    {
      "cell_type": "code",
      "metadata": {
        "colab": {
          "base_uri": "https://localhost:8080/"
        },
        "id": "JkTQHnWh3WMO",
        "outputId": "35e5fa77-5d73-4f0d-cfd7-61ed0a2b0aa5"
      },
      "source": [
        "n=int(input(\"Enter a number:\")) \n",
        "i,sum=1,0\n",
        "while i<=n:\n",
        "     if i%2==0:\n",
        "          sum+=i\n",
        "     i=i+1\n",
        "print(\"even number sum:\",sum)"
      ],
      "execution_count": null,
      "outputs": [
        {
          "output_type": "stream",
          "text": [
            "Entera number:15\n",
            "even number sum: 56\n"
          ],
          "name": "stdout"
        }
      ]
    },
    {
      "cell_type": "markdown",
      "metadata": {
        "id": "R6cvx-VI3cSy"
      },
      "source": [
        " program for even number sum odd number sum, allnumbersum below the given number"
      ]
    },
    {
      "cell_type": "code",
      "metadata": {
        "colab": {
          "base_uri": "https://localhost:8080/"
        },
        "id": "MxpBblts3gRX",
        "outputId": "e986a0f7-1574-4f16-cb5d-368182b7ab57"
      },
      "source": [
        "n=int(input(\"Enter a number:\")) \n",
        "i=1\n",
        "esum=osum=numsum=0\n",
        "while i<=n:\n",
        "     if i%2==0:\n",
        "          esum+=i\n",
        "     else:\n",
        "          osum+=i\n",
        "     numsum+=i\n",
        "     i=i+1\n",
        "print(\"even number sum:\",esum)\n",
        "print(\"odd number sum:\",osum)\n",
        "print(\"sum of all numbers below given number:\",numsum)\n",
        "#print(\"sum of numbers is:\", (n*(n+1)) /2)"
      ],
      "execution_count": null,
      "outputs": [
        {
          "output_type": "stream",
          "text": [
            "Enter a number:10\n",
            "even number sum: 30\n",
            "odd number sum: 25\n",
            "sum of all numbers below given number: 55\n"
          ],
          "name": "stdout"
        }
      ]
    },
    {
      "cell_type": "markdown",
      "metadata": {
        "id": "Jecntmog4Br_"
      },
      "source": [
        " Program to find roots of the given Quadratic equation"
      ]
    },
    {
      "cell_type": "code",
      "metadata": {
        "colab": {
          "base_uri": "https://localhost:8080/"
        },
        "id": "AylTttBy4FJ8",
        "outputId": "cc272c23-635f-46b1-d776-cae0295a4bc4"
      },
      "source": [
        "import math\n",
        "# roits of ax^2+bx+c=0\n",
        "a=int(input(\"Enter value of a:\")) \n",
        "b=int(input(\"\\nEnter value of b:\")) \n",
        "c=int(input(\"\\nEnter value of c:\")) \n",
        "d=b*b-4*a*c\n",
        "if d>0:\n",
        "    r1=(-b+math.sqrt(d)) /(2*a) \n",
        "    r2=(-b-math.sqrt(d)) /(2*a) \n",
        "    print(\"roots are real and distinct ,root1:\", r1,\" root2:\",r2) \n",
        "elif d==0:\n",
        "    r=-b/(2*a) \n",
        "    print(\"Roots are real and equal\", r) \n",
        "else:\n",
        "   print(\"roots are imaginary \")"
      ],
      "execution_count": null,
      "outputs": [
        {
          "output_type": "stream",
          "text": [
            "Enter value of a:1\n",
            "\n",
            "Enter value of b:-5\n",
            "\n",
            "Enter value of c:6\n",
            "roots are real and distinct ,root1: 3.0  root2: 2.0\n"
          ],
          "name": "stdout"
        }
      ]
    },
    {
      "cell_type": "code",
      "metadata": {
        "colab": {
          "base_uri": "https://localhost:8080/"
        },
        "id": "P8TTjmQV4ghm",
        "outputId": "c1f3ee2f-7568-4834-df63-95c84a323b16"
      },
      "source": [
        "#Biggest of two numbers\n",
        "a=int(input(\"Enter value of a:\")) \n",
        "b=int(input(\"\\nEnter value of b:\")) \n",
        "print(\"Big is a :\",a) if a>b else print(\"Big is b:\",b)"
      ],
      "execution_count": null,
      "outputs": [
        {
          "output_type": "stream",
          "text": [
            "Enter value of a:4\n",
            "\n",
            "Enter value of b:9\n",
            "Big is  9\n"
          ],
          "name": "stdout"
        }
      ]
    },
    {
      "cell_type": "code",
      "metadata": {
        "colab": {
          "base_uri": "https://localhost:8080/"
        },
        "id": "xqyfwttA462B",
        "outputId": "d369429a-7c1a-457d-bb8d-2b6bcd13ef86"
      },
      "source": [
        "#minimum of 3 numbers\n",
        "a=int(input(\"Enter value of a:\")) \n",
        "b=int(input(\"\\nEnter value of b:\")) \n",
        "c=int(input(\"\\nEnter value of c:\")) \n",
        "m=a if a<b else b\n",
        "min=m if m<c else c\n",
        "print(\" minimum is :\", min)"
      ],
      "execution_count": null,
      "outputs": [
        {
          "output_type": "stream",
          "text": [
            "Enter value of a:10\n",
            "\n",
            "Enter value of b:20\n",
            "\n",
            "Enter value of c:30\n",
            " minimum is : 10\n"
          ],
          "name": "stdout"
        }
      ]
    },
    {
      "cell_type": "markdown",
      "metadata": {
        "id": "zK3KaTjN5Bqs"
      },
      "source": [
        "Write  a program to print the number is prime number  or not"
      ]
    },
    {
      "cell_type": "code",
      "metadata": {
        "colab": {
          "base_uri": "https://localhost:8080/"
        },
        "id": "Ktx3k4_j5IFq",
        "outputId": "fca16a5c-d49a-4520-d63b-cb16a929ce47"
      },
      "source": [
        "n=int(input(\"Enter a number:\")) \n",
        "if n>1 :\n",
        "   for i in range(2, n) :\n",
        "       if n%i==0:\n",
        "         print(n,\" is not a prime number \") \n",
        "         break\n",
        "   else:\n",
        "       print(n, \"is a prime number \")\n",
        "# entered number is less than or equal to 1\n",
        "else:\n",
        "  print(n, \" is not a prime number \")"
      ],
      "execution_count": null,
      "outputs": [
        {
          "output_type": "stream",
          "text": [
            "Enter a number:-7\n",
            "-7  is not a prime number \n"
          ],
          "name": "stdout"
        }
      ]
    },
    {
      "cell_type": "code",
      "metadata": {
        "colab": {
          "base_uri": "https://localhost:8080/"
        },
        "id": "6wgCrBlo5pOV",
        "outputId": "3c62d683-04b5-4b33-bc0e-04f816dc8f84"
      },
      "source": [
        "#prime number or not \n",
        "n=int(input(\"Entera number:\")) \n",
        "state=True\n",
        "for i in range(2, n) :\n",
        "       if n%i==0:\n",
        "          state=False\n",
        "          break\n",
        "if state:\n",
        "     print(n,\" is  a prime number \") \n",
        "else:\n",
        "    print(n, \" is not a prime number \")"
      ],
      "execution_count": null,
      "outputs": [
        {
          "output_type": "stream",
          "text": [
            "Entera number:6\n",
            "6  is not a prime number \n"
          ],
          "name": "stdout"
        }
      ]
    },
    {
      "cell_type": "markdown",
      "metadata": {
        "id": "vBWmcjTw5wA9"
      },
      "source": [
        "Write a program to print given number below prime numbers and it's count"
      ]
    },
    {
      "cell_type": "code",
      "metadata": {
        "colab": {
          "base_uri": "https://localhost:8080/"
        },
        "id": "32ugB9Km51v1",
        "outputId": "43d50ca6-76b4-45b7-8fac-54969720fffb"
      },
      "source": [
        "n=int(input(\"Enter a number:\")) \n",
        "c=0\n",
        "st=\" \"\n",
        "for i in range(2, n) :\n",
        "      state=True\n",
        "      for j in range(2,i) :\n",
        "           if i%j==0:\n",
        "              state=False \n",
        "              break\n",
        "      if state==True :\n",
        "         st+=\" \" +str(i) \n",
        "         c+=1\n",
        "print(\"prime numbers are\",st,end=' ') \n",
        "print(\"\\nTotal count of prime numbers :\", c)"
      ],
      "execution_count": null,
      "outputs": [
        {
          "output_type": "stream",
          "text": [
            "Enter a number:10\n",
            "prime numbers are   2 3 5 7 \n",
            "Total count of prime numbers : 4\n"
          ],
          "name": "stdout"
        }
      ]
    },
    {
      "cell_type": "markdown",
      "metadata": {
        "id": "zQDd9Pvp6Vg0"
      },
      "source": [
        " Write a program to print prime numbers between range (m to n)"
      ]
    },
    {
      "cell_type": "code",
      "metadata": {
        "colab": {
          "base_uri": "https://localhost:8080/"
        },
        "id": "S3ozcKE56b4U",
        "outputId": "9243a8ce-91b1-4bb3-d69a-88ee58ce8c12"
      },
      "source": [
        "m=int(input(\"Enter value of m:\")) \n",
        "n=int(input(\"\\nEnter value of n:\")) \n",
        "st=\" \"\n",
        "for i in range (m, n) :\n",
        "    state=True\n",
        "    for j in range(2, i) :\n",
        "         if (i%j==0) :\n",
        "             state=False\n",
        "             break\n",
        "    if state==True :\n",
        "         st+=\" \" +str(i) \n",
        "print(\"prime numbers in between:\", m, \"and\", n,\"are\",end=' ') \n",
        "print(st, end=' ')"
      ],
      "execution_count": null,
      "outputs": [
        {
          "output_type": "stream",
          "text": [
            "Enter value of m:10\n",
            "\n",
            "Enter value of n:20\n",
            "prime numbers in between: 10 and 20 are   11 13 17 19 "
          ],
          "name": "stdout"
        }
      ]
    },
    {
      "cell_type": "markdown",
      "metadata": {
        "id": "8B8mBUoU68IN"
      },
      "source": [
        " EXCERCISE-4 \n",
        "a) Find the sum of all the primes below two million."
      ]
    },
    {
      "cell_type": "code",
      "metadata": {
        "colab": {
          "base_uri": "https://localhost:8080/"
        },
        "id": "b5lBjzsn7K1G",
        "outputId": "b081fa27-f768-4eef-d938-a87b8305448e"
      },
      "source": [
        "n=int(input(\"Enter a number:\")) \n",
        "sum=0\n",
        "st=\" \"\n",
        "for i in range(2, n) :\n",
        "      state=True\n",
        "      for j in range(2,i) :\n",
        "           if i%j==0:\n",
        "              state=False \n",
        "              break\n",
        "      if state==True :\n",
        "         st+=\" \" +str(i) \n",
        "         sum+=i\n",
        "print(\"sum of prime numbers below \",n, \" is :\",sum)"
      ],
      "execution_count": null,
      "outputs": [
        {
          "output_type": "stream",
          "text": [
            "Enter a number:15\n",
            "sum of prime numbers below  15  is : 41\n"
          ],
          "name": "stdout"
        }
      ]
    },
    {
      "cell_type": "markdown",
      "metadata": {
        "id": "ClGssaZ77x3l"
      },
      "source": [
        " b)Each new term in the Fibonacci sequence is generated by adding the previous two terms. Bystarting with 1 and 2, the first 10 terms will be: 1, 2, 3, 5, 8, 13, 21, 34, 55, 89, ..."
      ]
    },
    {
      "cell_type": "code",
      "metadata": {
        "colab": {
          "base_uri": "https://localhost:8080/"
        },
        "id": "bRAiq_m-74Vg",
        "outputId": "d84d1491-2e41-4903-f6a2-903686a83dea"
      },
      "source": [
        "n=int(input(\"Enter a number(term) :\")) \n",
        "a, b=0, 1\n",
        "c=a+b\n",
        "st=\" \"\n",
        "while c<n:\n",
        "   st+=\" \"+ str(c) \n",
        "   a=b\n",
        "   b=c\n",
        "   c=a+b\n",
        "print(\"Fibonacci sequence for the term\", n, \":\",end=' ') \n",
        "print(st)"
      ],
      "execution_count": null,
      "outputs": [
        {
          "output_type": "stream",
          "text": [
            "Enter a number(term) :10\n",
            " Fibonacci sequence for the term 10 :   1 2 3 5 8\n"
          ],
          "name": "stdout"
        }
      ]
    },
    {
      "cell_type": "markdown",
      "metadata": {
        "id": "bDEx3cK19cpG"
      },
      "source": [
        "Write a program to count of fibonacci series upto given number"
      ]
    },
    {
      "cell_type": "code",
      "metadata": {
        "colab": {
          "base_uri": "https://localhost:8080/"
        },
        "id": "_6dNTchx9fOO",
        "outputId": "e191d4ca-2794-4f2b-97db-f83f4f919a52"
      },
      "source": [
        "n=int(input(\"Enter a number:\")) \n",
        "a, b=0, 1\n",
        "c=a+b\n",
        "st=\" \"\n",
        "count=0\n",
        "while count<n:\n",
        "   st+=\" \"+ str(c) \n",
        "   a=b\n",
        "   b=c\n",
        "   c=a+b\n",
        "   count+=1\n",
        "print(\"count of fibonnaci numbers :\", count)"
      ],
      "execution_count": null,
      "outputs": [
        {
          "output_type": "stream",
          "text": [
            "Enter a number:5\n",
            "count of fibonnaci numbers : 5\n"
          ],
          "name": "stdout"
        }
      ]
    },
    {
      "cell_type": "markdown",
      "metadata": {
        "id": "Z2PeC_xg-A-1"
      },
      "source": [
        " c) By considering the terms in the Fibonacci sequence whose values do not exceed four million,find the sum of the even-valued terms."
      ]
    },
    {
      "cell_type": "code",
      "metadata": {
        "colab": {
          "base_uri": "https://localhost:8080/"
        },
        "id": "qHWxDVA9-Huc",
        "outputId": "7a8b11e8-a58f-47fd-bc76-80a428400f27"
      },
      "source": [
        "n=int(input(\"Entera number:\")) \n",
        "a, b=0, 1\n",
        "c=a+b\n",
        "st=\" \"\n",
        "sum=0\n",
        "while c<n:\n",
        "   st+=\" \"+ str(c) \n",
        "   if c%2==0:\n",
        "       sum+=c\n",
        "   a=b\n",
        "   b=c\n",
        "   c=a+b\n",
        "   count+=1\n",
        "print(\"sum of evenvalued terms in fibonnaci numbers :\", sum)"
      ],
      "execution_count": null,
      "outputs": [
        {
          "output_type": "stream",
          "text": [
            "Entera number:10\n",
            "sum of evenvalued terms in fibonnaci numbers : 10\n"
          ],
          "name": "stdout"
        }
      ]
    },
    {
      "cell_type": "markdown",
      "metadata": {
        "id": "wQA45rpQ-PaG"
      },
      "source": [
        "Program to Display factors  of given number"
      ]
    },
    {
      "cell_type": "code",
      "metadata": {
        "colab": {
          "base_uri": "https://localhost:8080/"
        },
        "id": "Q7HjkPAl-TNN",
        "outputId": "e32880c2-60f1-4f7a-8f21-d00331bc1872"
      },
      "source": [
        "n=int(input(\"Enter a number:\")) \n",
        "for i in range(1, n) :\n",
        "     if n%i==0:\n",
        "        print(i, end=' ')"
      ],
      "execution_count": null,
      "outputs": [
        {
          "output_type": "stream",
          "text": [
            "Enter a number:10\n",
            "1 2 5 "
          ],
          "name": "stdout"
        }
      ]
    },
    {
      "cell_type": "markdown",
      "metadata": {
        "id": "AgJz0KCl-ccM"
      },
      "source": [
        "Program to find sum of factors of a given number"
      ]
    },
    {
      "cell_type": "code",
      "metadata": {
        "colab": {
          "base_uri": "https://localhost:8080/"
        },
        "id": "HrE8a1F1-gd4",
        "outputId": "c4ed22c5-b6fc-42d8-e1c4-9e0440ee2642"
      },
      "source": [
        "n=int(input(\"Entera number:\")) \n",
        "sum=0\n",
        "for i in range(1, n) :\n",
        "     if n%i==0:\n",
        "        sum+=i\n",
        "print(\"sum of factors :\",sum)"
      ],
      "execution_count": null,
      "outputs": [
        {
          "output_type": "stream",
          "text": [
            "Entera number:10\n",
            " sum of factors : 8\n"
          ],
          "name": "stdout"
        }
      ]
    },
    {
      "cell_type": "markdown",
      "metadata": {
        "id": "-QjMW4DU-qbt"
      },
      "source": [
        " Program to find given number is perfect number or not"
      ]
    },
    {
      "cell_type": "code",
      "metadata": {
        "colab": {
          "base_uri": "https://localhost:8080/"
        },
        "id": "avyBrnKB-t0I",
        "outputId": "d86065b1-070a-4099-ce36-aca7c27d56ff"
      },
      "source": [
        "n=int(input(\"Entera number:\")) \n",
        "sum=0\n",
        "for i in range(1, n) :\n",
        "     if n%i==0:\n",
        "        sum+=i\n",
        "if n==sum:\n",
        "  print(\"Given number is a perfect number\")\n",
        "else :\n",
        "  print(\"Given number is not a perfect number\")"
      ],
      "execution_count": null,
      "outputs": [
        {
          "output_type": "stream",
          "text": [
            "Entera number:6\n",
            "Given number is a perfect number\n"
          ],
          "name": "stdout"
        }
      ]
    },
    {
      "cell_type": "markdown",
      "metadata": {
        "id": "Z2IlfLbF-0iz"
      },
      "source": [
        " display given number below perfect numbers"
      ]
    },
    {
      "cell_type": "code",
      "metadata": {
        "colab": {
          "base_uri": "https://localhost:8080/"
        },
        "id": "ZwzyQ7fA-35I",
        "outputId": "8fd9f60d-46a2-4d1c-c9e5-6447e4c0b192"
      },
      "source": [
        "n=int(input(\"Enter a number:\")) \n",
        "st=\" \"\n",
        "for x in range(1, n) :\n",
        "     sum=0\n",
        "     for i in range(1, x) :\n",
        "        if  x%i==0:\n",
        "           sum+=i\n",
        "     if x==sum:\n",
        "          st+=\" \"+str(x) \n",
        "print(st, end=' ')"
      ],
      "execution_count": null,
      "outputs": [
        {
          "output_type": "stream",
          "text": [
            "Enter a number:10\n",
            "  6 "
          ],
          "name": "stdout"
        }
      ]
    },
    {
      "cell_type": "markdown",
      "metadata": {
        "id": "hED1ILAk_r9H"
      },
      "source": [
        " Program to find given number is Armstrong  number or not"
      ]
    },
    {
      "cell_type": "code",
      "metadata": {
        "colab": {
          "base_uri": "https://localhost:8080/"
        },
        "id": "2X0OyXsO_vq7",
        "outputId": "4e126fcc-da76-4c86-9d63-92c9812b6876"
      },
      "source": [
        "num=int(input(\"Entera number:\")) \n",
        "sum=0\n",
        "temp=num\n",
        "while temp>0:\n",
        "    digit=temp%10\n",
        "    sum+=digit**3\n",
        "    temp//=10\n",
        "if num==sum:\n",
        "  print(\"Given numberis anArmstrong number\")\n",
        "else :\n",
        "  print(\"Given number is not an Armstrong number\")"
      ],
      "execution_count": null,
      "outputs": [
        {
          "output_type": "stream",
          "text": [
            "Entera number:153\n",
            "Given numberis anArmstrong number\n"
          ],
          "name": "stdout"
        }
      ]
    },
    {
      "cell_type": "markdown",
      "metadata": {
        "id": "PClmR1uq_2Uh"
      },
      "source": [
        " Find reverse of the given number"
      ]
    },
    {
      "cell_type": "code",
      "metadata": {
        "colab": {
          "base_uri": "https://localhost:8080/"
        },
        "id": "XmnmbuJY_5CN",
        "outputId": "67a7300e-a516-4ed0-d5da-3cda7c4fd272"
      },
      "source": [
        "n=int(input(\"Enter a number:\")) \n",
        "reversed_num=0\n",
        "while n!=0:\n",
        "    digit=n%10\n",
        "    reversed_num=reversed_num*10+digit\n",
        "    n=n//10\n",
        "print(\"Reversed number:\",(reversed_num)) \n",
        "#print(str(n)[::-1])"
      ],
      "execution_count": null,
      "outputs": [
        {
          "output_type": "stream",
          "text": [
            "Enter a number:675\n",
            "Reversed number: 576\n"
          ],
          "name": "stdout"
        }
      ]
    },
    {
      "cell_type": "markdown",
      "metadata": {
        "id": "oaZP1Ug0AaLU"
      },
      "source": [
        " Find the factorial of the number"
      ]
    },
    {
      "cell_type": "code",
      "metadata": {
        "colab": {
          "base_uri": "https://localhost:8080/"
        },
        "id": "XBQC_DpvAdkn",
        "outputId": "799a229c-3628-4b50-e484-d3306d58ba7f"
      },
      "source": [
        "n=int(input(\"Entera number:\")) \n",
        "factorial=1\n",
        "if n<0:\n",
        "  print(\" no factorial for negative numbers\") \n",
        "elif n==0:\n",
        "   print(\"The factorial of 0 is 1\") \n",
        "else :\n",
        "  for i in range(1,n+1) :\n",
        "      factorial=factorial*i\n",
        "  print(\" The Factorial of \", n, \" is \", factorial)"
      ],
      "execution_count": null,
      "outputs": [
        {
          "output_type": "stream",
          "text": [
            "Entera number:4\n",
            " The Factorial of  4  is  24\n"
          ],
          "name": "stdout"
        }
      ]
    },
    {
      "cell_type": "markdown",
      "metadata": {
        "id": "FQh9fpMxI7wJ"
      },
      "source": [
        "Recursion example without base condition"
      ]
    },
    {
      "cell_type": "code",
      "metadata": {
        "id": "Bj22DnocJAam",
        "colab": {
          "base_uri": "https://localhost:8080/",
          "height": 510
        },
        "outputId": "9adc3b40-ad71-43b0-e468-a7389424e923"
      },
      "source": [
        "def factorial(n) :\n",
        "    return n*factorial(n-1) \n",
        "print(factorial (5))"
      ],
      "execution_count": null,
      "outputs": [
        {
          "output_type": "error",
          "ename": "RecursionError",
          "evalue": "ignored",
          "traceback": [
            "\u001b[0;31m---------------------------------------------------------------------------\u001b[0m",
            "\u001b[0;31mRecursionError\u001b[0m                            Traceback (most recent call last)",
            "\u001b[0;32m<ipython-input-30-bae3a941bb0d>\u001b[0m in \u001b[0;36m<module>\u001b[0;34m()\u001b[0m\n\u001b[1;32m      1\u001b[0m \u001b[0;32mdef\u001b[0m \u001b[0mfactorial\u001b[0m\u001b[0;34m(\u001b[0m\u001b[0mn\u001b[0m\u001b[0;34m)\u001b[0m \u001b[0;34m:\u001b[0m\u001b[0;34m\u001b[0m\u001b[0;34m\u001b[0m\u001b[0m\n\u001b[1;32m      2\u001b[0m     \u001b[0;32mreturn\u001b[0m \u001b[0mn\u001b[0m\u001b[0;34m*\u001b[0m\u001b[0mfactorial\u001b[0m\u001b[0;34m(\u001b[0m\u001b[0mn\u001b[0m\u001b[0;34m-\u001b[0m\u001b[0;36m1\u001b[0m\u001b[0;34m)\u001b[0m\u001b[0;34m\u001b[0m\u001b[0;34m\u001b[0m\u001b[0m\n\u001b[0;32m----> 3\u001b[0;31m \u001b[0mprint\u001b[0m\u001b[0;34m(\u001b[0m\u001b[0mfactorial\u001b[0m \u001b[0;34m(\u001b[0m\u001b[0;36m5\u001b[0m\u001b[0;34m)\u001b[0m\u001b[0;34m)\u001b[0m\u001b[0;34m\u001b[0m\u001b[0;34m\u001b[0m\u001b[0m\n\u001b[0m",
            "\u001b[0;32m<ipython-input-30-bae3a941bb0d>\u001b[0m in \u001b[0;36mfactorial\u001b[0;34m(n)\u001b[0m\n\u001b[1;32m      1\u001b[0m \u001b[0;32mdef\u001b[0m \u001b[0mfactorial\u001b[0m\u001b[0;34m(\u001b[0m\u001b[0mn\u001b[0m\u001b[0;34m)\u001b[0m \u001b[0;34m:\u001b[0m\u001b[0;34m\u001b[0m\u001b[0;34m\u001b[0m\u001b[0m\n\u001b[0;32m----> 2\u001b[0;31m     \u001b[0;32mreturn\u001b[0m \u001b[0mn\u001b[0m\u001b[0;34m*\u001b[0m\u001b[0mfactorial\u001b[0m\u001b[0;34m(\u001b[0m\u001b[0mn\u001b[0m\u001b[0;34m-\u001b[0m\u001b[0;36m1\u001b[0m\u001b[0;34m)\u001b[0m\u001b[0;34m\u001b[0m\u001b[0;34m\u001b[0m\u001b[0m\n\u001b[0m\u001b[1;32m      3\u001b[0m \u001b[0mprint\u001b[0m\u001b[0;34m(\u001b[0m\u001b[0mfactorial\u001b[0m \u001b[0;34m(\u001b[0m\u001b[0;36m5\u001b[0m\u001b[0;34m)\u001b[0m\u001b[0;34m)\u001b[0m\u001b[0;34m\u001b[0m\u001b[0;34m\u001b[0m\u001b[0m\n",
            "... last 1 frames repeated, from the frame below ...\n",
            "\u001b[0;32m<ipython-input-30-bae3a941bb0d>\u001b[0m in \u001b[0;36mfactorial\u001b[0;34m(n)\u001b[0m\n\u001b[1;32m      1\u001b[0m \u001b[0;32mdef\u001b[0m \u001b[0mfactorial\u001b[0m\u001b[0;34m(\u001b[0m\u001b[0mn\u001b[0m\u001b[0;34m)\u001b[0m \u001b[0;34m:\u001b[0m\u001b[0;34m\u001b[0m\u001b[0;34m\u001b[0m\u001b[0m\n\u001b[0;32m----> 2\u001b[0;31m     \u001b[0;32mreturn\u001b[0m \u001b[0mn\u001b[0m\u001b[0;34m*\u001b[0m\u001b[0mfactorial\u001b[0m\u001b[0;34m(\u001b[0m\u001b[0mn\u001b[0m\u001b[0;34m-\u001b[0m\u001b[0;36m1\u001b[0m\u001b[0;34m)\u001b[0m\u001b[0;34m\u001b[0m\u001b[0;34m\u001b[0m\u001b[0m\n\u001b[0m\u001b[1;32m      3\u001b[0m \u001b[0mprint\u001b[0m\u001b[0;34m(\u001b[0m\u001b[0mfactorial\u001b[0m \u001b[0;34m(\u001b[0m\u001b[0;36m5\u001b[0m\u001b[0;34m)\u001b[0m\u001b[0;34m)\u001b[0m\u001b[0;34m\u001b[0m\u001b[0;34m\u001b[0m\u001b[0m\n",
            "\u001b[0;31mRecursionError\u001b[0m: maximum recursion depth exceeded"
          ]
        }
      ]
    },
    {
      "cell_type": "markdown",
      "metadata": {
        "id": "0VLgscTDAmXO"
      },
      "source": [
        " Find the entered number is strong number"
      ]
    },
    {
      "cell_type": "code",
      "metadata": {
        "colab": {
          "base_uri": "https://localhost:8080/"
        },
        "id": "byk0ViihApiq",
        "outputId": "d1cd227e-7b45-48d6-ec51-ed9f325a3048"
      },
      "source": [
        "num=int(input(\"Entera number:\")) \n",
        "sum=0\n",
        "temp=num\n",
        "while num:\n",
        "     i=1\n",
        "     fact=1\n",
        "     rem=num%10\n",
        "     while i<=rem:\n",
        "         fact=fact*i\n",
        "         i=i+1\n",
        "     sum=sum+fact\n",
        "     num=num//10\n",
        "if sum==temp:\n",
        "  print(\"Given numberis an strong number\")\n",
        "else :\n",
        "  print(\"Given number is not an strong number\")"
      ],
      "execution_count": null,
      "outputs": [
        {
          "output_type": "stream",
          "text": [
            "Entera number:145\n",
            "Given numberis an strong number\n"
          ],
          "name": "stdout"
        }
      ]
    },
    {
      "cell_type": "markdown",
      "metadata": {
        "id": "P10yPE6WAuR4"
      },
      "source": [
        " \n",
        "Exercise-5\n",
        " a) Write a program to count the numbers of characters in the string and store them in adictionary data structure"
      ]
    },
    {
      "cell_type": "code",
      "metadata": {
        "colab": {
          "base_uri": "https://localhost:8080/"
        },
        "id": "AN3NQgnaBDTX",
        "outputId": "a3278730-7326-469e-dafa-3e5bac9a81b6"
      },
      "source": [
        "name=input(\"Enter a Name:\") \n",
        "dic={}\n",
        "for ch in name:\n",
        "   keys=dic.keys() \n",
        "   if ch in keys:\n",
        "     dic[ch]=dic[ch]+1\n",
        "   else:\n",
        "      dic[ch]=1\n",
        "print(\" Dictionary is :\", dic)"
      ],
      "execution_count": null,
      "outputs": [
        {
          "output_type": "stream",
          "text": [
            "Enter a Name:Kanaka\n",
            " Dictionary is : {'K': 1, 'a': 3, 'n': 1, 'k': 1}\n"
          ],
          "name": "stdout"
        }
      ]
    },
    {
      "cell_type": "code",
      "metadata": {
        "colab": {
          "base_uri": "https://localhost:8080/"
        },
        "id": "aD-PZu-bBP8A",
        "outputId": "de103892-f77e-4fee-ad79-6bf027dd0f4a"
      },
      "source": [
        " \n",
        "lst=[]\n",
        "for i in range(1, 4) :\n",
        " \n",
        "  lst.append(input(\" enter the name:\")) \n",
        " \n",
        "print(\"List is:\", lst) \n",
        " \n",
        "dic={}\n",
        " \n",
        "for na in lst:\n",
        " \n",
        "   dic[na]=len(na) \n",
        " \n",
        "print(\"Dictionary is :\", dic)"
      ],
      "execution_count": null,
      "outputs": [
        {
          "output_type": "stream",
          "text": [
            " enter the name:Kanaka\n",
            " enter the name:Durga\n",
            " enter the name:Akula\n",
            "List is: ['Kanaka', 'Durga', 'Akula']\n",
            "Dictionary is : {'Kanaka': 6, 'Durga': 5, 'Akula': 5}\n"
          ],
          "name": "stdout"
        }
      ]
    },
    {
      "cell_type": "markdown",
      "metadata": {
        "id": "fzDgpQ-2Besh"
      },
      "source": [
        "b) Write a program to use split and join methods in the string and trace a birthday with adictionary data structure."
      ]
    },
    {
      "cell_type": "code",
      "metadata": {
        "colab": {
          "base_uri": "https://localhost:8080/",
          "height": 370
        },
        "id": "gMfCFEl4B0D1",
        "outputId": "7861c8ef-d3cc-4616-8197-aa1880889c67"
      },
      "source": [
        "dob={\"Mr.k\":\"01-01-2010\", \"Mr.D\":\" 01-12-2007\"}\n",
        "name =input(\"which person DoB you want to know:\")\n",
        "l=name.split()\n",
        "birth=\"\"\n",
        "for i in l:\n",
        "    if i in dob.keys():\n",
        "        pers=i\n",
        " \n",
        "print(\"\".join([pers,\"birthdayis:\",dob[pers]]))"
      ],
      "execution_count": null,
      "outputs": [
        {
          "output_type": "stream",
          "text": [
            "which person DoB you want to know:D\n"
          ],
          "name": "stdout"
        },
        {
          "output_type": "error",
          "ename": "NameError",
          "evalue": "ignored",
          "traceback": [
            "\u001b[0;31m---------------------------------------------------------------------------\u001b[0m",
            "\u001b[0;31mNameError\u001b[0m                                 Traceback (most recent call last)",
            "\u001b[0;32m<ipython-input-1-9c1e91610715>\u001b[0m in \u001b[0;36m<module>\u001b[0;34m()\u001b[0m\n\u001b[1;32m      7\u001b[0m         \u001b[0mpers\u001b[0m\u001b[0;34m=\u001b[0m\u001b[0mi\u001b[0m\u001b[0;34m\u001b[0m\u001b[0;34m\u001b[0m\u001b[0m\n\u001b[1;32m      8\u001b[0m \u001b[0;34m\u001b[0m\u001b[0m\n\u001b[0;32m----> 9\u001b[0;31m \u001b[0mprint\u001b[0m\u001b[0;34m(\u001b[0m\u001b[0;34m\"\"\u001b[0m\u001b[0;34m.\u001b[0m\u001b[0mjoin\u001b[0m\u001b[0;34m(\u001b[0m\u001b[0;34m[\u001b[0m\u001b[0mpers\u001b[0m\u001b[0;34m,\u001b[0m\u001b[0;34m\"birthdayis:\"\u001b[0m\u001b[0;34m,\u001b[0m\u001b[0mdob\u001b[0m\u001b[0;34m[\u001b[0m\u001b[0mpers\u001b[0m\u001b[0;34m]\u001b[0m\u001b[0;34m]\u001b[0m\u001b[0;34m)\u001b[0m\u001b[0;34m)\u001b[0m\u001b[0;34m\u001b[0m\u001b[0;34m\u001b[0m\u001b[0m\n\u001b[0m",
            "\u001b[0;31mNameError\u001b[0m: name 'pers' is not defined"
          ]
        }
      ]
    },
    {
      "cell_type": "markdown",
      "metadata": {
        "id": "SaEgkUUhC7VS"
      },
      "source": [
        " Exercise-6\n",
        "a) Write a program combinelists that combines these lists into a dictionary."
      ]
    },
    {
      "cell_type": "code",
      "metadata": {
        "colab": {
          "base_uri": "https://localhost:8080/"
        },
        "id": "HArJBalHDKi8",
        "outputId": "3c1a0c69-e535-4b54-a1f0-08116210f994"
      },
      "source": [
        "subj=[\" DAA\", \"OS\", \"DBMS\", \"P&S\", \"SE\"]\n",
        "marks=[85, 96,78,68,98,56]\n",
        "print(\"Subjects:\",subj)\n",
        "print(\"Marks:\", marks)\n",
        "dic=dict(zip(subj, marks))\n",
        "print(\"As Dictionary :\",dic)"
      ],
      "execution_count": null,
      "outputs": [
        {
          "output_type": "stream",
          "text": [
            "Subjects: [' DAA', 'OS', 'DBMS', 'P&S', 'SE']\n",
            "Marks: [85, 96, 78, 68, 98, 56]\n",
            "As Dictionary : {' DAA': 85, 'OS': 96, 'DBMS': 78, 'P&S': 68, 'SE': 98}\n"
          ],
          "name": "stdout"
        }
      ]
    },
    {
      "cell_type": "markdown",
      "metadata": {
        "id": "eCYNSFbSDPHv"
      },
      "source": [
        " combines two dictionaries"
      ]
    },
    {
      "cell_type": "markdown",
      "metadata": {
        "id": "uTnpMqk_DqVS"
      },
      "source": [
        " b) Write a program to count frequency of characters in a given file. Can you use characterfrequency to\n",
        " \n",
        "tell whether the given file is a Python program file, C program file or a text file"
      ]
    },
    {
      "cell_type": "code",
      "metadata": {
        "id": "3-HTEOyUDv_B"
      },
      "source": [
        "filetypes=['.py', '.c','.txt']\n",
        "fn=input(\" Enter the  filename:\") \n",
        "f=open(fn, \"r\") \n",
        "count=dict() \n",
        "for ft in filetypes:\n",
        "    if ft in fn:\n",
        "         if ft=='.py' :\n",
        "            print(\" python file\") \n",
        "         elif ft=='.c':\n",
        "             print(\"c file\") \n",
        "         elif ft=='.txt' :\n",
        "             print(\" Text file\") \n",
        "for line in f:\n",
        "    for ch in line:\n",
        "        if ch in count:\n",
        "            count[ch]=count[ch]+1\n",
        "        else:\n",
        "            count[ch]=1\n",
        "print(count)\n",
        "f.close()"
      ],
      "execution_count": null,
      "outputs": []
    },
    {
      "cell_type": "code",
      "metadata": {
        "colab": {
          "base_uri": "https://localhost:8080/"
        },
        "id": "67kN8H7aD3dP",
        "outputId": "e7f4d76e-6930-444a-9952-aa3c85ece6a5"
      },
      "source": [
        "#First element and last element same or not\n",
        "lst1=[5, 6,9,7,8]\n",
        "lst2=[9, 45,69,8,9,78,9]\n",
        "print(lst1[0]==lst1[-1])\n",
        "print(lst2[0]==lst2[-1]) \n",
        "print(8 in lst1 or 9 in lst2)"
      ],
      "execution_count": null,
      "outputs": [
        {
          "output_type": "stream",
          "text": [
            "False\n",
            "True\n",
            "True\n"
          ],
          "name": "stdout"
        }
      ]
    },
    {
      "cell_type": "code",
      "metadata": {
        "colab": {
          "base_uri": "https://localhost:8080/"
        },
        "id": "wfSa2FVtD4v8",
        "outputId": "ff2c2e69-9e5f-453f-b49f-38bf3e365cac"
      },
      "source": [
        "#Rotate the list by 1 index\n",
        "lst=[10, 20,30,40,50,60]\n",
        "res=lst[1:]\n",
        "res.append(lst[0]) \n",
        "print(res)\n",
        "res=lst[3:]\n",
        "res.append(lst[0:3]) \n",
        "print(res)"
      ],
      "execution_count": null,
      "outputs": [
        {
          "output_type": "stream",
          "text": [
            "[20, 30, 40, 50, 60, 10]\n",
            "[40, 50, 60, [10, 20, 30]]\n"
          ],
          "name": "stdout"
        }
      ]
    },
    {
      "cell_type": "code",
      "metadata": {
        "colab": {
          "base_uri": "https://localhost:8080/"
        },
        "id": "De5BYdYwD-nh",
        "outputId": "550378fc-4253-4d98-ce1c-b2fe9f1fe375"
      },
      "source": [
        "#Rotate the list by 1 index using function\n",
        "lst=[10, 20,30,40,50,60]\n",
        "def rotate (lst):\n",
        "    res=lst[1:]\n",
        "    res.append(lst[0]) \n",
        "    print(res)\n",
        "    return res\n",
        "for i in range(1, 4):\n",
        "    lst=rotate(lst)"
      ],
      "execution_count": null,
      "outputs": [
        {
          "output_type": "stream",
          "text": [
            "[20, 30, 40, 50, 60, 10]\n",
            "[30, 40, 50, 60, 10, 20]\n",
            "[40, 50, 60, 10, 20, 30]\n"
          ],
          "name": "stdout"
        }
      ]
    },
    {
      "cell_type": "code",
      "metadata": {
        "colab": {
          "base_uri": "https://localhost:8080/"
        },
        "id": "erj6omoVEADG",
        "outputId": "637d032b-a524-4cdf-97d3-7494441b0eb7"
      },
      "source": [
        "#Rotate the list by n index\n",
        "lst=[10, 20,30,40,50,60]\n",
        "def rotate (lst):\n",
        "    res=lst[1:]\n",
        "    res.append(lst[0]) \n",
        "    return res\n",
        "n=int(input(\"Enter index :\")) \n",
        "for i in range(1, 4):\n",
        "    lst=rotate(lst)  \n",
        "print(\"After rotating list  is \", lst)"
      ],
      "execution_count": null,
      "outputs": [
        {
          "output_type": "stream",
          "text": [
            "Enter index :2\n",
            "After rotating list  is  [40, 50, 60, 10, 20, 30]\n"
          ],
          "name": "stdout"
        }
      ]
    },
    {
      "cell_type": "code",
      "metadata": {
        "colab": {
          "base_uri": "https://localhost:8080/"
        },
        "id": "6d-mLNMFEGJ3",
        "outputId": "efa2559d-c59f-4ecd-8350-5e2eabf1537c"
      },
      "source": [
        "#reverse  of list\n",
        "lst=[10,20, 30,40,50,60]\n",
        "print(\" Given list is :\", lst)\n",
        "print(\"Reverse of the list  is :\", lst[-1:-7:-1])\n",
        "print(\"Reverse of list is:\", lst[: :-1])\n",
        "print(\"Reverse  of the list:\", sep=' ')\n",
        "for i in reversed(lst):\n",
        "  print(i, end=' ') \n",
        "lst. reverse()\n",
        "print(\"\\nReverse of list :\", lst)"
      ],
      "execution_count": null,
      "outputs": [
        {
          "output_type": "stream",
          "text": [
            " Given list is : [10, 20, 30, 40, 50, 60]\n",
            "Reverse of the list  is : [60, 50, 40, 30, 20, 10]\n",
            "Reverse of list is: [60, 50, 40, 30, 20, 10]\n",
            "Reverse  of the list:\n",
            "60 50 40 30 20 10 \n",
            "Reverse of list : [60, 50, 40, 30, 20, 10]\n"
          ],
          "name": "stdout"
        }
      ]
    },
    {
      "cell_type": "code",
      "metadata": {
        "colab": {
          "base_uri": "https://localhost:8080/"
        },
        "id": "FSxKSngEEMNR",
        "outputId": "3e8246f8-663f-4eda-c8e4-af63c21dc64c"
      },
      "source": [
        "#pi value\n",
        "import math\n",
        "print(math.pi)\n",
        "print(type(math.pi))\n",
        "#removing point\n",
        "lst=[]\n",
        "lst=list(str(math.pi))\n",
        "lst.remove('.')\n",
        "for i in lst:\n",
        "    print(i, end=' ')"
      ],
      "execution_count": null,
      "outputs": [
        {
          "output_type": "stream",
          "text": [
            "3.141592653589793\n",
            "<class 'float'>\n",
            "3 1 4 1 5 9 2 6 5 3 5 8 9 7 9 3 "
          ],
          "name": "stdout"
        }
      ]
    },
    {
      "cell_type": "code",
      "metadata": {
        "colab": {
          "base_uri": "https://localhost:8080/"
        },
        "id": "2jFHjABZEQlP",
        "outputId": "9ca1f3fd-afaa-4984-9096-0af2a3f5baae"
      },
      "source": [
        "# program for maximum, minimum element and sorting in both orders\n",
        "lst=[110,70,80,100,50,60]\n",
        "print(\"Maximum element in the list:\",max(lst))\n",
        "print(\"Minimum element in the list:\",min(lst))\n",
        "lst.sort()\n",
        "print(\"Ascending order :\", lst)\n",
        "lst.sort(reverse=True)\n",
        "print(\"Descending order :\", lst)"
      ],
      "execution_count": null,
      "outputs": [
        {
          "output_type": "stream",
          "text": [
            "Maximum element in the list: 110\n",
            "Minimum element in the list: 50\n",
            "Ascending order : [50, 60, 70, 80, 100, 110]\n",
            "Descending order : [110, 100, 80, 70, 60, 50]\n"
          ],
          "name": "stdout"
        }
      ]
    },
    {
      "cell_type": "code",
      "metadata": {
        "colab": {
          "base_uri": "https://localhost:8080/"
        },
        "id": "jWtCdncEEms1",
        "outputId": "e142f4d9-20d1-4e41-e0a9-3e9cc06b949f"
      },
      "source": [
        "#cube of the numbers  upto a number\n",
        "n=int(input(\"Enter n value:\")) \n",
        "dict_A=dict()\n",
        "for i in range(1, n+1) :\n",
        "     dict_A[i]=i*i*i\n",
        "print(dict_A)"
      ],
      "execution_count": null,
      "outputs": [
        {
          "output_type": "stream",
          "text": [
            "Enter n value:12\n",
            "{1: 1, 2: 8, 3: 27, 4: 64, 5: 125, 6: 216, 7: 343, 8: 512, 9: 729, 10: 1000, 11: 1331, 12: 1728}\n"
          ],
          "name": "stdout"
        }
      ]
    },
    {
      "cell_type": "code",
      "metadata": {
        "colab": {
          "base_uri": "https://localhost:8080/"
        },
        "id": "1bct8z7EEzaR",
        "outputId": "45ec602e-4a35-4709-fa70-1205696f70ec"
      },
      "source": [
        "#set operations\n",
        "A=set([1,2,3])\n",
        "B=set([4,5,6])\n",
        "C=A.union(B)\n",
        "print(\"union of A and B:\",C)\n",
        "D=A.intersection(B)\n",
        "print(\"Intersection of A and B:\",D)\n",
        "E=set([4, 6,7,8])\n",
        "I=B-E\n",
        "print(\"Difference of A and B:\", I)"
      ],
      "execution_count": null,
      "outputs": [
        {
          "output_type": "stream",
          "text": [
            "union of A and B: {1, 2, 3, 4, 5, 6}\n",
            "Intersection of A and B: set()\n",
            "Difference of A and B: {5}\n"
          ],
          "name": "stdout"
        }
      ]
    },
    {
      "cell_type": "markdown",
      "metadata": {
        "id": "gelxljexFFFm"
      },
      "source": [
        " Exercise-7\n",
        "a) Write a program to print each line of a file in reverse order."
      ]
    },
    {
      "cell_type": "code",
      "metadata": {
        "id": "XGGEJHmVFH25"
      },
      "source": [
        "obj=open(\"abc.txt\", \"r\") \n",
        "if obj:\n",
        "    st=obj.read()\n",
        "    print(\" File content is :\\n\", st)\n",
        "obj. close()\n",
        "lines=st.spilt(\"\\n\") \n",
        "for ln in  lines:\n",
        "   i=len(ln) -1\n",
        "   while(i>=0) :\n",
        "      print(ln[ch], end=' ')\n",
        "      i-=1\n",
        "   print()\n",
        "#7a another\n",
        " \n",
        "obj= open(\"pqr.txt\", \"r\") \n",
        " \n",
        "lines=obj.readlines()\n",
        " \n",
        "for ln in lines :\n",
        " \n",
        "     print(ln[::-1])"
      ],
      "execution_count": null,
      "outputs": []
    },
    {
      "cell_type": "markdown",
      "metadata": {
        "id": "BJ_3PjZ7FUZ8"
      },
      "source": [
        " b) Write a program to compute the number of characters, words and lines in a file."
      ]
    },
    {
      "cell_type": "code",
      "metadata": {
        "id": "7f11JSqMFYJK"
      },
      "source": [
        "obj=open(\"abc.txt\", \" r\")\n",
        "if obj:\n",
        "    st=obj.read()\n",
        "    print(\" File content is :\\n\", st)\n",
        "obj. close()\n",
        "print()\n",
        "nc=nw=nl=0\n",
        "for ch in st:\n",
        "   if(ch):\n",
        "       nc=nc+1\n",
        "   if(ch==' ') :\n",
        "      nw=nw+1\n",
        "   if(ch=='\\n'):\n",
        "      nw=nw+1\n",
        "      nl=nl+1\n",
        "print(\"Number of characters in a file is :\", nc)\n",
        "print(\"Number of words in a file is :\", nw) \n",
        "print(\"Number of lines in a file is :\", nl+1)"
      ],
      "execution_count": null,
      "outputs": []
    },
    {
      "cell_type": "markdown",
      "metadata": {
        "id": "63s5VugyFcmG"
      },
      "source": [
        " Given string is palindrome or not"
      ]
    },
    {
      "cell_type": "code",
      "metadata": {
        "colab": {
          "base_uri": "https://localhost:8080/"
        },
        "id": "wy1khSoSFirt",
        "outputId": "7114dcf9-9f07-40d5-e29b-774afd84715e"
      },
      "source": [
        "st=input(\"Enter a string:\") \n",
        "if st==st[::-1] :\n",
        "   print(\"Given string is palindrome\") \n",
        "else :\n",
        "  print(\"Given string is  not a palindrome\")"
      ],
      "execution_count": null,
      "outputs": [
        {
          "output_type": "stream",
          "text": [
            "Enter a string:madam\n",
            "Given string is palindrome\n"
          ],
          "name": "stdout"
        }
      ]
    },
    {
      "cell_type": "markdown",
      "metadata": {
        "id": "6sFn5BzPFuXx"
      },
      "source": [
        " passing parameter to function"
      ]
    },
    {
      "cell_type": "code",
      "metadata": {
        "colab": {
          "base_uri": "https://localhost:8080/"
        },
        "id": "YGjOh2wUF2iZ",
        "outputId": "54958850-ad5d-4697-eb29-8b16a6fd0ef3"
      },
      "source": [
        "def display(f) :\n",
        "    return \"Hai \"+f\n",
        "def message () :\n",
        "      return \"welcome\"\n",
        "fun=display(message()) \n",
        "print(fun)"
      ],
      "execution_count": null,
      "outputs": [
        {
          "output_type": "stream",
          "text": [
            "Hai welcome\n"
          ],
          "name": "stdout"
        }
      ]
    },
    {
      "cell_type": "markdown",
      "metadata": {
        "id": "NTCC52C6F548"
      },
      "source": [
        "Program to return a function"
      ]
    },
    {
      "cell_type": "code",
      "metadata": {
        "colab": {
          "base_uri": "https://localhost:8080/"
        },
        "id": "G2qztt4EF8oV",
        "outputId": "83129e56-fadd-4e33-fc17-c602e3b3da3f"
      },
      "source": [
        "def display() :\n",
        "  def message () :\n",
        "      return \"hi\"\n",
        "  return message() +\" \"+ \"hello\"\n",
        "fun=display()\n",
        "print(fun)"
      ],
      "execution_count": null,
      "outputs": [
        {
          "output_type": "stream",
          "text": [
            "hi hello\n"
          ],
          "name": "stdout"
        }
      ]
    },
    {
      "cell_type": "markdown",
      "metadata": {
        "id": "nY7W8dVxF_8x"
      },
      "source": [
        "Program for addition using nested functions"
      ]
    },
    {
      "cell_type": "code",
      "metadata": {
        "colab": {
          "base_uri": "https://localhost:8080/"
        },
        "id": "VmhC2SJ-GDII",
        "outputId": "c12d845e-4d6f-4734-c07c-098c15de4649"
      },
      "source": [
        "def add(a, b) :\n",
        "     def disp() :\n",
        "         return \"sum is \"\n",
        "     return disp() +str(a+b)   \n",
        "print(add(1, 3))"
      ],
      "execution_count": null,
      "outputs": [
        {
          "output_type": "stream",
          "text": [
            "sum is 4\n"
          ],
          "name": "stdout"
        }
      ]
    },
    {
      "cell_type": "code",
      "metadata": {
        "colab": {
          "base_uri": "https://localhost:8080/"
        },
        "id": "AZ-jG3VZGLiS",
        "outputId": "40aae0d1-6f5d-4227-ceed-bc07695bca68"
      },
      "source": [
        "def add(a, b) :\n",
        "  def disp() :\n",
        "     return \"sum is \"\n",
        "  return  disp,a+b\n",
        "print(add(1, 3))"
      ],
      "execution_count": null,
      "outputs": [
        {
          "output_type": "stream",
          "text": [
            "(<function add.<locals>.disp at 0x7fa3be6bfe60>, 4)\n"
          ],
          "name": "stdout"
        }
      ]
    },
    {
      "cell_type": "code",
      "metadata": {
        "colab": {
          "base_uri": "https://localhost:8080/"
        },
        "id": "v1mvyeqCGM5Q",
        "outputId": "5964fc9b-aa37-44f4-bb3c-aa2a74c30ce6"
      },
      "source": [
        "def add(a,b) :\n",
        "  def disp() :\n",
        "     return \"sum is \"\n",
        "  return disp(),(a+b) \n",
        "print(add(1,3))"
      ],
      "execution_count": null,
      "outputs": [
        {
          "output_type": "stream",
          "text": [
            "('sum is ', 4)\n"
          ],
          "name": "stdout"
        }
      ]
    },
    {
      "cell_type": "markdown",
      "metadata": {
        "id": "wpf0hGwuGPvc"
      },
      "source": [
        " Demonstrate actual arguments used in function call"
      ]
    },
    {
      "cell_type": "code",
      "metadata": {
        "colab": {
          "base_uri": "https://localhost:8080/"
        },
        "id": "cfGvaKQlGVok",
        "outputId": "ca8b1d08-b1a4-4c22-ef9f-ab28121050dd"
      },
      "source": [
        "def add(a, b):\n",
        "  print(\"a=\", a, \"b=\", b, \" sum is \", (a+b))\n",
        "def add1(a, b=5):\n",
        "  print(\"a=\", a, \"b=\", b, \" sum is \", (a+b))\n",
        "def disp(*arg):\n",
        "   print(\"\\nDisplay the arguments which are passed:\",end=' ') \n",
        "   for i in arg:\n",
        "      print(i, end=' ')\n",
        "add(12, 9)#positional arguments\n",
        "add(b=12, a=9) #keyword arguments\n",
        "add1(10) #defualt arguments\n",
        "#variable length arguments\n",
        "disp(10)\n",
        "disp(10, 20)\n",
        "disp(10, 20,30,\"M\")"
      ],
      "execution_count": null,
      "outputs": [
        {
          "output_type": "stream",
          "text": [
            "a= 12 b= 9  sum is  21\n",
            "a= 9 b= 12  sum is  21\n",
            "a= 10 b= 5  sum is  15\n",
            "\n",
            "Display the arguments which are passed: 10 \n",
            "Display the arguments which are passed: 10 20 \n",
            "Display the arguments which are passed: 10 20 30 M "
          ],
          "name": "stdout"
        }
      ]
    },
    {
      "cell_type": "markdown",
      "metadata": {
        "id": "yz-BRIR2Gera"
      },
      "source": [
        " Exercise-8\n",
        "a) Write a function ball collide that takes two balls as parameters and computes if they arecolliding. Your function should return a Boolean representing whether or not the balls arecolliding. Hint: Represent a ball on a plane as a tuple of (x, y, r), r being the radius If (distance between two balls centers) <= (sum of their radii) then (they are colliding)"
      ]
    },
    {
      "cell_type": "code",
      "metadata": {
        "colab": {
          "base_uri": "https://localhost:8080/"
        },
        "id": "FdGeXyrhGxEc",
        "outputId": "7c92f269-a64c-420d-b8af-e90e18e683d9"
      },
      "source": [
        "import math\n",
        "def ballcollide(b1tup,b2tup):\n",
        "    x1,y1,r1=b1tup\n",
        "    x2, y2,r2=b2tup\n",
        " \n",
        "    d=math.sqrt((x2-x1)**2+(y2-y1)**2)\n",
        "    if(d<=r1+r2):\n",
        "      return True\n",
        "    else:\n",
        "        return False\n",
        " \n",
        "ball1=(1,2,3)\n",
        "ball2=(3,2,1)\n",
        "c=ballcollide(ball1,ball2)\n",
        "if(c):\n",
        "    print(\"balls are collide\")\n",
        "else:\n",
        "    print(\"ball are not collide\")"
      ],
      "execution_count": null,
      "outputs": [
        {
          "output_type": "stream",
          "text": [
            "balls are collide\n"
          ],
          "name": "stdout"
        }
      ]
    },
    {
      "cell_type": "markdown",
      "metadata": {
        "id": "je_F-mQGG6z9"
      },
      "source": [
        "Taking input from user for 8a"
      ]
    },
    {
      "cell_type": "code",
      "metadata": {
        "colab": {
          "base_uri": "https://localhost:8080/"
        },
        "id": "FxOwg7rmG_lC",
        "outputId": "b01ab363-ef0c-4c1f-e115-e03283cc12ca"
      },
      "source": [
        "import math\n",
        "def ball(b1tup, b2tup):\n",
        "     x1=int(b1tup[0])\n",
        "     y1=int(b1tup[1])\n",
        "     r1=int(b1tup[2])\n",
        "     x2=int(b2tup[0])\n",
        "     y2=int(b2tup[1]) \n",
        "     r2=int(b2tup[2])\n",
        "    #print(x1, y1, r1, sep=' ') \n",
        "     d=math.sqrt((x2-x1) **2+(y2-y1)**2)\n",
        "     if d<=r1+r2 :\n",
        "        return  True\n",
        "     else :\n",
        "        return False\n",
        "def  input_taking():\n",
        "      print(\"Input ball coordinates and radius  seprated by comma: \")\n",
        "      tup=tuple(map(int,input().split(',')))\n",
        "      return tup\n",
        "x=input_taking()\n",
        "y=input_taking()\n",
        "print(\" ball1:\",x)\n",
        "print(\" ball2:\",y)\n",
        " \n",
        "collision=ball(x, y)\n",
        "if collision:\n",
        "   print(\"Balls are collide\") \n",
        "else :\n",
        "  print(\"Balls are not collide\")"
      ],
      "execution_count": null,
      "outputs": [
        {
          "output_type": "stream",
          "text": [
            "Input ball coordinates and radius  seprated by comma: \n",
            "10,20,30\n",
            "Input ball coordinates and radius  seprated by comma: \n",
            "5,15,25\n",
            " ball1: (10, 20, 30)\n",
            " ball2: (5, 15, 25)\n",
            "Balls are collide\n"
          ],
          "name": "stdout"
        }
      ]
    },
    {
      "cell_type": "code",
      "metadata": {
        "colab": {
          "base_uri": "https://localhost:8080/"
        },
        "id": "sxsWAnmdHS-V",
        "outputId": "5629d0c6-9158-4502-e668-70617ed59ebf"
      },
      "source": [
        "import math\n",
        "def ball(b1tup, b2tup):\n",
        "     x1, y1, r1=b1tup\n",
        "     x2, y2, r2=b2tup\n",
        "     d=math.sqrt((x2-x1) **2+(y2-y1)**2)\n",
        "     if d<=r1+r2 :\n",
        "        return  True\n",
        "     else :\n",
        "        return False\n",
        "#takes string input then converts to  int then to tuple    \n",
        "def  input_taking():\n",
        "     input_string = input('Enter elements of a list separated by space ')\n",
        "     print()\n",
        "     user_list = input_string.split()\n",
        "     #printing list (strings)\n",
        "     print(\"list strings:\", user_list)\n",
        "     for i in range(len(user_list)):\n",
        "          # converting string to  int\n",
        "          user_list[i] = int(user_list[i])\n",
        "     #print list (integers)\n",
        "     print(\"list integers:\",user_list) \n",
        "     #converting list to tuple\n",
        "     user_list= tuple(user_list)\n",
        "     #print tuple(integers) \n",
        "     print(\" tuple integers:\", user_list)\n",
        "     return user_list\n",
        "     \n",
        "      \n",
        "x=input_taking() \n",
        "y=input_taking()\n",
        "print(\" Ball1:\",x)\n",
        "print(\" Ball2:\",y)\n",
        "collision=ball(x, y)\n",
        " \n",
        "if collision:\n",
        " \n",
        "   print(\"Balls are collide\") \n",
        " \n",
        "else :\n",
        " \n",
        "  print(\"Balls are not collide\")"
      ],
      "execution_count": null,
      "outputs": [
        {
          "output_type": "stream",
          "text": [
            "Enter elements of a list separated by space 1 2 3\n",
            "\n",
            "list strings: ['1', '2', '3']\n",
            "list integers: [1, 2, 3]\n",
            " tuple integers: (1, 2, 3)\n",
            "Enter elements of a list separated by space 5 6 7\n",
            "\n",
            "list strings: ['5', '6', '7']\n",
            "list integers: [5, 6, 7]\n",
            " tuple integers: (5, 6, 7)\n",
            " Ball1: (1, 2, 3)\n",
            " Ball2: (5, 6, 7)\n",
            "Balls are collide\n"
          ],
          "name": "stdout"
        }
      ]
    },
    {
      "cell_type": "code",
      "metadata": {
        "colab": {
          "base_uri": "https://localhost:8080/"
        },
        "id": "_7IehPzdHy-C",
        "outputId": "500fb08b-adb6-48e9-e3cf-636ebf09c401"
      },
      "source": [
        "import math\n",
        "def ball(b1tup, b2tup):\n",
        "     x1, y1, r1=b1tup\n",
        "     x2, y2, r2=b2tup\n",
        "     d=math.sqrt((x2-x1) **2+(y2-y1)**2)\n",
        "     if d<=r1+r2 :\n",
        "        return  True\n",
        "     else :\n",
        "        return False\n",
        "def  input_taking():\n",
        " \n",
        "      print(\"Input ball coordinates and radius  seprated by comma: \")\n",
        " \n",
        "      tup=tuple(int(x.strip()) for x in input().split(','))\n",
        " \n",
        "      return tup\n",
        " \n",
        "x=input_taking() \n",
        " \n",
        "y=input_taking()\n",
        " \n",
        "print(\" Ball1:\",x)\n",
        " \n",
        "print(\" Ball2:\",y)\n",
        " \n",
        "collision=ball(x, y)\n",
        " \n",
        "if collision:\n",
        " \n",
        "   print(\"Balls are collide\") \n",
        " \n",
        "else :\n",
        " \n",
        "  print(\"Balls are not collide\")"
      ],
      "execution_count": null,
      "outputs": [
        {
          "output_type": "stream",
          "text": [
            "Input ball coordinates and radius  seprated by comma: \n",
            "-2, -4, 4\n",
            "Input ball coordinates and radius  seprated by comma: \n",
            "4,6,4\n",
            " Ball1: (-2, -4, 4)\n",
            " Ball2: (4, 6, 4)\n",
            "Balls are not collide\n"
          ],
          "name": "stdout"
        }
      ]
    },
    {
      "cell_type": "markdown",
      "metadata": {
        "id": "xhb3KcfzKLqI"
      },
      "source": [
        " b) Find mean, median, mode for the given set of numbers in a list."
      ]
    },
    {
      "cell_type": "code",
      "metadata": {
        "colab": {
          "base_uri": "https://localhost:8080/"
        },
        "id": "We6R9Fa8KbbG",
        "outputId": "aa069edc-87b5-40c6-c4a8-56af7c8bbb94"
      },
      "source": [
        "def mean(lst):\n",
        "   return sum(lst)/len(lst) \n",
        "def listmedian(lst):\n",
        "   lst. sort()\n",
        "   print(lst)\n",
        "   n=len(lst)\n",
        "   print(\"Total no of elements\", n) \n",
        "   mid=n//2\n",
        "   print(\"mid:\", mid)\n",
        "   if n%2==1 :\n",
        "       return lst(mid)\n",
        "   else :\n",
        "       return((lst[mid-1]+lst[mid])/2) \n",
        "def modef(lst):\n",
        "  lst. sort() \n",
        "  temp=[]\n",
        "  i=0\n",
        "  while i<len(lst):\n",
        "    temp. append(lst.count(lst[i])) \n",
        "    i+=1\n",
        "  dic=dict(zip(lst,temp))\n",
        "  print(\"frequency of each \",dic)\n",
        "  mode ={k for (k,v) in dic.items() if v==max(temp)}\n",
        "  return mode\n",
        "lst=[1,2,2,2,3,3,4,5]\n",
        "print(\"mean:\",mean(lst))\n",
        "print(\"median:\",listmedian(lst))\n",
        "print(\"mode:\",modef(lst))"
      ],
      "execution_count": null,
      "outputs": [
        {
          "output_type": "stream",
          "text": [
            "mean: 2.75\n",
            "[1, 2, 2, 2, 3, 3, 4, 5]\n",
            "Total no of elements 8\n",
            "mid: 4\n",
            "median: 2.5\n",
            "frequency of each  {1: 1, 2: 3, 3: 2, 4: 1, 5: 1}\n",
            "mode: {2}\n"
          ],
          "name": "stdout"
        }
      ]
    },
    {
      "cell_type": "markdown",
      "metadata": {
        "id": "lyzx2lmSK_Ud"
      },
      "source": [
        " \n",
        "Exercise -9\n",
        "a) Write a function nearly equal to test whether two strings are nearly equal. Two strings a and bare nearly equal when a can be generated by a single mutation on b"
      ]
    },
    {
      "cell_type": "code",
      "metadata": {
        "colab": {
          "base_uri": "https://localhost:8080/"
        },
        "id": "KMjjMRdmLCXl",
        "outputId": "ec576449-0364-4829-dfbd-80aa913b857d"
      },
      "source": [
        "def nearly_eq(str1, str2):\n",
        "       count=i=j=0\n",
        "       while (i<len(str1) and j<len(str2)):\n",
        "             if(str1[i]!=str2[j]):\n",
        "                 count+=1\n",
        "                 if(len(str1)>len(str2)):\n",
        "                      i+=1\n",
        "                 elif(len(str1)==len(str2)):\n",
        "                     pass\n",
        "                 else :\n",
        "                     i-=1\n",
        "             if(count>1):\n",
        "                 return False\n",
        "             i+=1\n",
        "             j+=1\n",
        "       if(count<2):\n",
        "           return True\n",
        "s1=input(\"Enter string1:\") \n",
        "s2=input (\"\\nEnter string2:\") \n",
        "print()\n",
        "b=nearly_eq(s1, s2)\n",
        "if b:\n",
        "  print(\"strings are nearly equal\")  \n",
        "else :\n",
        "  print(\"strings are not equal \")"
      ],
      "execution_count": null,
      "outputs": [
        {
          "output_type": "stream",
          "text": [
            "Enter string1:Kanaka\n",
            "\n",
            "Enter string2:Nalka\n",
            "\n",
            "strings are not equal \n"
          ],
          "name": "stdout"
        }
      ]
    },
    {
      "cell_type": "markdown",
      "metadata": {
        "id": "o-8IneKuLN-p"
      },
      "source": [
        " b) Write a function dup to find all duplicates in the list."
      ]
    },
    {
      "cell_type": "code",
      "metadata": {
        "colab": {
          "base_uri": "https://localhost:8080/"
        },
        "id": "ZSprAKCALSYW",
        "outputId": "63973351-e342-4cfb-9ce2-d538aaa2826f"
      },
      "source": [
        "def dup(lst):\n",
        "  lst. sort() \n",
        "  temp=[]\n",
        "  i=0\n",
        "  while i<len(lst):\n",
        "    temp. append(lst.count(lst[i])) \n",
        "    i+=1\n",
        "  dic=dict(zip(lst,temp))\n",
        "  mode ={k for (k,v) in dic.items() if v!=1}\n",
        "  return mode\n",
        "lst=[1, 2,6,9,1,3,5,2,1,6]\n",
        "print(\"Duplicates :\",dup(lst))"
      ],
      "execution_count": null,
      "outputs": [
        {
          "output_type": "stream",
          "text": [
            "Duplicates : {1, 2, 6}\n"
          ],
          "name": "stdout"
        }
      ]
    },
    {
      "cell_type": "markdown",
      "metadata": {
        "id": "ifVFdEYALlQR"
      },
      "source": [
        " c) Write a function unique to find all the unique elements of a list."
      ]
    },
    {
      "cell_type": "code",
      "metadata": {
        "colab": {
          "base_uri": "https://localhost:8080/"
        },
        "id": "H99Q-IKoLo8x",
        "outputId": "b702176c-4b35-43d6-85df-77a3850ddd83"
      },
      "source": [
        "def unique(lst):\n",
        "  lst. sort() \n",
        "  temp=[]\n",
        "  i=0\n",
        "  while i<len(lst):\n",
        "    temp. append(lst.count(lst[i])) \n",
        "    i+=1\n",
        "  dic=dict(zip(lst,temp))\n",
        "  mode ={k for (k,v) in dic.items() if v==1}\n",
        "  return mode\n",
        "lst=[1, 2,6,9,1,3,5,2,1,6]\n",
        "print(\"unique elements:\",unique(lst))"
      ],
      "execution_count": null,
      "outputs": [
        {
          "output_type": "stream",
          "text": [
            "unique elements: {9, 3, 5}\n"
          ],
          "name": "stdout"
        }
      ]
    },
    {
      "cell_type": "code",
      "metadata": {
        "colab": {
          "base_uri": "https://localhost:8080/"
        },
        "id": "TnkSEvTSLuyc",
        "outputId": "b97bd766-55b0-4b03-8d0f-7f0ef2c2b966"
      },
      "source": [
        "def unique(lst, cond):\n",
        "  lst. sort() \n",
        "  temp=[]\n",
        "  i=0\n",
        "  while i<len(lst):\n",
        "    temp. append(lst.count(lst[i])) \n",
        "    i+=1\n",
        "  dic=dict(zip(lst,temp))\n",
        "  mode ={k for (k,v) in dic.items() if v==int(cond) }\n",
        "  return mode\n",
        "lst=[1, 2,6,9,1,3,5,2,1,6]\n",
        "print(\"unquie elements:\",unique(lst, 1))"
      ],
      "execution_count": null,
      "outputs": [
        {
          "output_type": "stream",
          "text": [
            "unquie elements: {9, 3, 5}\n"
          ],
          "name": "stdout"
        }
      ]
    },
    {
      "cell_type": "markdown",
      "metadata": {
        "id": "w9ETrxKuL5Ws"
      },
      "source": [
        " Finding duplicates and unique elements using lists"
      ]
    },
    {
      "cell_type": "code",
      "metadata": {
        "colab": {
          "base_uri": "https://localhost:8080/"
        },
        "id": "uEJ3e0gxMHLk",
        "outputId": "73d0511a-e8ad-4078-c45f-5bd0daa92d6a"
      },
      "source": [
        " \n",
        "def dups(numlist):\n",
        " \n",
        "  temp1=[]\n",
        " \n",
        "  temp2=[]\n",
        " \n",
        "  for i in numlist:\n",
        " \n",
        "      cnt=numlist.count(i)\n",
        " \n",
        "      if (cnt>1 and ( i not in temp1)) :\n",
        " \n",
        "          temp1.append(i) \n",
        " \n",
        "      if cnt==1 :\n",
        " \n",
        "          if i not in temp2:\n",
        " \n",
        "             temp2.append(i)\n",
        " \n",
        "  print(\"Duplicates :\", temp1)     \n",
        " \n",
        "  print(\"unquie :\", temp2)\n",
        " \n",
        "  \n",
        " \n",
        "lst=[1, 2,6,9,1,3,5,2,1,6]\n",
        " \n",
        "print(\"list:\", lst)\n",
        " \n",
        "dups(lst)"
      ],
      "execution_count": null,
      "outputs": [
        {
          "output_type": "stream",
          "text": [
            "list: [1, 2, 6, 9, 1, 3, 5, 2, 1, 6]\n",
            "Duplicates : [1, 2, 6]\n",
            "unquie : [9, 3, 5]\n"
          ],
          "name": "stdout"
        }
      ]
    },
    {
      "cell_type": "markdown",
      "metadata": {
        "id": "XgH177gHMJR9"
      },
      "source": [
        "Finding unique and duplicate elements using Dictionaries"
      ]
    },
    {
      "cell_type": "code",
      "metadata": {
        "colab": {
          "base_uri": "https://localhost:8080/"
        },
        "id": "WSwEc7KOMOol",
        "outputId": "1d2be7de-7ff8-4f66-dbfd-f178c1b2af5a"
      },
      "source": [
        "def dups(numlist):\n",
        "  temp1={}\n",
        "  temp2={}\n",
        "  for i in numlist:\n",
        "      cnt=numlist.count(i) \n",
        "      if cnt>1:\n",
        "        temp1[i]=cnt\n",
        "      else :\n",
        "         temp2[i]=cnt\n",
        "  print(\"Duplicates :\", temp1)    \n",
        "  print(\"unquie :\", temp2)\n",
        " \n",
        "lst=[1, 2,6,9,1,3,5,2,1,6]\n",
        "print(\"list:\", lst)\n",
        "dups(lst)"
      ],
      "execution_count": null,
      "outputs": [
        {
          "output_type": "stream",
          "text": [
            "list: [1, 2, 6, 9, 1, 3, 5, 2, 1, 6]\n",
            "Duplicates : {1: 3, 2: 2, 6: 2}\n",
            "unquie : {9: 1, 3: 1, 5: 1}\n"
          ],
          "name": "stdout"
        }
      ]
    },
    {
      "cell_type": "markdown",
      "metadata": {
        "id": "457K5bXsMUuy"
      },
      "source": [
        " Exercise -10\n",
        "a) Write a function cumulative product to compute cumulative product of a list of numbers."
      ]
    },
    {
      "cell_type": "code",
      "metadata": {
        "colab": {
          "base_uri": "https://localhost:8080/"
        },
        "id": "JtNoVyFLMeD-",
        "outputId": "d9055296-c0a8-4693-a7d1-de9f4a5622a2"
      },
      "source": [
        "def cum_prod(numlist):\n",
        "      prod=1\n",
        "      temp=[]\n",
        "      for i in numlist:\n",
        "           prod*=i\n",
        "           temp. append(prod)\n",
        "      return temp\n",
        "lst=[1, 2,3,4 ,5]\n",
        "print(\"Given list is :\", lst)\n",
        "print(\"Cumulative product list is :\", cum_prod(lst))"
      ],
      "execution_count": null,
      "outputs": [
        {
          "output_type": "stream",
          "text": [
            "Given list is : [1, 2, 3, 4, 5]\n",
            "Cumulative product list is : [1, 2, 6, 24, 120]\n"
          ],
          "name": "stdout"
        }
      ]
    },
    {
      "cell_type": "markdown",
      "metadata": {
        "id": "ccSlgSS_MkbF"
      },
      "source": [
        " b) Write a function reverse to reverse a list. Without using the reverse function"
      ]
    },
    {
      "cell_type": "code",
      "metadata": {
        "colab": {
          "base_uri": "https://localhost:8080/"
        },
        "id": "5SFaRJkzMp59",
        "outputId": "ff472c52-4951-47c8-a94d-8d3136482b8f"
      },
      "source": [
        "def reverse_list(numlist):\n",
        "      temp=lst[::-1]\n",
        "      numlist=temp\n",
        "      return temp\n",
        "lst=[1, 2,3,4]\n",
        "print(\"Given list is :\", lst)\n",
        "print(\"Reverse of list is :\", reverse_list(lst))\n",
        "print(\"After reverse of list is ,the list is :\", lst)"
      ],
      "execution_count": null,
      "outputs": [
        {
          "output_type": "stream",
          "text": [
            "Given list is : [1, 2, 3, 4]\n",
            "Reverse of list is : [4, 3, 2, 1]\n",
            "After reverse of list is ,the list is : [1, 2, 3, 4]\n"
          ],
          "name": "stdout"
        }
      ]
    },
    {
      "cell_type": "code",
      "metadata": {
        "colab": {
          "base_uri": "https://localhost:8080/"
        },
        "id": "3T3ba-eoMvK0",
        "outputId": "fd75d711-d712-4e47-85f4-ad6553a793ee"
      },
      "source": [
        "def reverse_list(numlist):\n",
        "      i=0\n",
        "      j=len(numlist)-1\n",
        "      while(i<=j):\n",
        "          temp=numlist[i]\n",
        "          numlist[i]=numlist[j]\n",
        "          numlist[j]=temp\n",
        "          j-=1\n",
        "          i+=1\n",
        "      return numlist\n",
        "lst=[1, 2,3,4]\n",
        "print(\"Given list is :\", lst)\n",
        "print(\"Reverse of list is :\", reverse_list(lst))\n",
        "print(\"After reverse of list is ,the list is :\", lst)"
      ],
      "execution_count": null,
      "outputs": [
        {
          "output_type": "stream",
          "text": [
            "Given list is : [1, 2, 3, 4]\n",
            "Reverse of list is : [4, 3, 2, 1]\n",
            "After reverse of list is ,the list is : [4, 3, 2, 1]\n"
          ],
          "name": "stdout"
        }
      ]
    },
    {
      "cell_type": "markdown",
      "metadata": {
        "id": "FSZAq_yMM4-V"
      },
      "source": [
        "c) Write function to compute gcd, lcm of two numbers. Each function shouldn’t exceed one line"
      ]
    },
    {
      "cell_type": "code",
      "metadata": {
        "colab": {
          "base_uri": "https://localhost:8080/"
        },
        "id": "QqAadfD0M52R",
        "outputId": "f08f1f2a-2e50-48fb-d48d-d1854f90105b"
      },
      "source": [
        "gcd=lambda a,b:a if b==0 else gcd(a, a%b)\n",
        "lcm=lambda a,b: (a*b)/gcd(a, b)\n",
        "x=int(input(\"Enter first number:\")) \n",
        "y=int(input(\"Enter second number :\")) \n",
        "print(\"GCD=\", gcd(x, y))\n",
        "print(\"LCM=\",lcm(x, y))"
      ],
      "execution_count": null,
      "outputs": [
        {
          "output_type": "stream",
          "text": [
            "Enter first number:4\n",
            "Enter second number :24\n",
            "GCD= 4\n",
            "LCM= 24.0\n"
          ],
          "name": "stdout"
        }
      ]
    },
    {
      "cell_type": "markdown",
      "metadata": {
        "id": "67Akyh-hM8oF"
      },
      "source": [
        "Gcd and Lcm using recursion"
      ]
    },
    {
      "cell_type": "code",
      "metadata": {
        "colab": {
          "base_uri": "https://localhost:8080/"
        },
        "id": "rdw7JxAqM_rq",
        "outputId": "b5086b62-3fee-424e-8d60-bfe83a23c58b"
      },
      "source": [
        "def gcd(a, b) :\n",
        "   if b==0:\n",
        "      return a\n",
        "   else:\n",
        "     return gcd(a, a//b) \n",
        "print(\"Gcd:\" ,gcd(4, 24))\n",
        "def lcm(a, b) :\n",
        "   if b==0:\n",
        "      return a\n",
        "   else:\n",
        "     return (a*b)/gcd(a,b) \n",
        "print(\"Lcm:\",lcm(4, 24) )"
      ],
      "execution_count": null,
      "outputs": [
        {
          "output_type": "stream",
          "text": [
            "Gcd: 4\n",
            "Lcm: 24.0\n"
          ],
          "name": "stdout"
        }
      ]
    },
    {
      "cell_type": "markdown",
      "metadata": {
        "id": "GxO0cvXz0TQ2"
      },
      "source": [
        " EXERCISE- 11:Multi-D List\n",
        "a) write a program that defines  a matrix and prints"
      ]
    },
    {
      "cell_type": "code",
      "metadata": {
        "colab": {
          "base_uri": "https://localhost:8080/"
        },
        "id": "oLvtEX000oJz",
        "outputId": "34aadb88-b78e-41ed-d46c-c352f785fb27"
      },
      "source": [
        " \n",
        "A=[[]]\n",
        "B=[[]]\n",
        "r=int(input(\"enter row size:\"))\n",
        "c=int(input(\"enter column size :\"))\n",
        "A=[[int(input(\"enter matrix A [%d,%d]:\"%(i,j))) for j in range (c)] for i in range(r)]\n",
        "B=[[int(input(\"enter matrix B [%d,%d] :\"%(i,j))) for j in range (c)] for i in range(r)] \n",
        "print(\"Matrix A:\") \n",
        "for i in range(r):\n",
        "   for j in range(c):\n",
        "     print(A[i][j],end=' ')\n",
        "   print() \n",
        "print(\"Matrix B:\") \n",
        "for i in range(r):\n",
        "   for j in range(c):\n",
        "       print(B[i][j],end=' ')\n",
        "   print()"
      ],
      "execution_count": null,
      "outputs": [
        {
          "output_type": "stream",
          "text": [
            "enter row size:2\n",
            "enter column size :2\n",
            "enter matrix A [0,0]:1\n",
            "enter matrix A [0,1]:2\n",
            "enter matrix A [1,0]:3\n",
            "enter matrix A [1,1]:4\n",
            "enter matrix B [0,0] :8\n",
            "enter matrix B [0,1] :7\n",
            "enter matrix B [1,0] :6\n",
            "enter matrix B [1,1] :5\n",
            "Matrix A:\n",
            "1 2 \n",
            "3 4 \n",
            "Matrix B:\n",
            "8 7 \n",
            "6 5 \n"
          ],
          "name": "stdout"
        }
      ]
    },
    {
      "cell_type": "markdown",
      "metadata": {
        "id": "ulNI5WmvCm3S"
      },
      "source": [
        " b) write a program to perform addition of two  square matrices"
      ]
    },
    {
      "cell_type": "code",
      "metadata": {
        "colab": {
          "base_uri": "https://localhost:8080/"
        },
        "id": "w3JkBsSuCv6W",
        "outputId": "cd4cda00-5f99-415e-fa7d-d50aa1bb10f8"
      },
      "source": [
        "A=[[]]\n",
        "B=[[]]\n",
        "Sum=[[]]\n",
        "r=int(input(\"enter row size:\"))\n",
        "c=int(input(\"enter column size :\"))\n",
        "if r==c:\n",
        "   A=[[int(input(\"enter matrix A [%d,%d]:\"%(i,j))) for j in range (c)] for i in range(r)]\n",
        "   B=[[int(input(\"enter matrix B [%d,%d] :\"%(i,j))) for j in range (c)] for i in range(r)] \n",
        "else :\n",
        "    print(\" Matrices Addition is not possible\") \n",
        "Sum=[[A[i][j]+B[i][j] for j in range (c)] for i in range(r)] \n",
        "print(\"sum of matrices :\") \n",
        "for i in range(r):\n",
        "  for j in range(c):\n",
        "    print(Sum[i][j],end=' ')\n",
        "  print()"
      ],
      "execution_count": null,
      "outputs": [
        {
          "output_type": "stream",
          "text": [
            "enter row size:2\n",
            "enter column size :2\n",
            "enter matrix A [0,0]:1\n",
            "enter matrix A [0,1]:2\n",
            "enter matrix A [1,0]:3\n",
            "enter matrix A [1,1]:4\n",
            "enter matrix B [0,0] :5\n",
            "enter matrix B [0,1] :6\n",
            "enter matrix B [1,0] :7\n",
            "enter matrix B [1,1] :8\n",
            "sum of matrices :\n",
            "6 8 \n",
            "10 12 \n"
          ],
          "name": "stdout"
        }
      ]
    },
    {
      "cell_type": "code",
      "metadata": {
        "colab": {
          "base_uri": "https://localhost:8080/"
        },
        "id": "bbpGQyxjDF7I",
        "outputId": "2f180dfb-bd6c-4b99-a307-bb0dd18f745c"
      },
      "source": [
        "def mathDisp(mat, r, c):\n",
        "  for i in range(r):\n",
        "      for j in range(c):\n",
        "        print(mat[i][j],end=' ')\n",
        "      print() \n",
        "A=[[]]\n",
        "B=[[]]\n",
        "Sum=[[]]\n",
        "r=int(input(\"enter row size:\"))\n",
        "c=int(input(\"enter column size :\"))\n",
        "if r==c:\n",
        "   A=[[int(input(\"enter matrix A [%d,%d]:\"%(i,j))) for j in range (c)] for i in range(r)]\n",
        "   B=[[int(input(\"enter matrix B [%d,%d] :\"%(i,j))) for j in range (c)] for i in range(r)] \n",
        "else :\n",
        "    print(\" Matrices Addition is not possible\") \n",
        "print(\"Matrix A is :\") \n",
        "mathDisp(A, r, c)\n",
        "print(\"Matrix B is :\") \n",
        "mathDisp(B, r, c)\n",
        "Sum=[[A[i][j]+B[i][j] for j in range (c)] for i in range(r)] \n",
        "print(\"Addition of A and B matrices is :\") \n",
        "mathDisp(Sum, r, c)"
      ],
      "execution_count": null,
      "outputs": [
        {
          "output_type": "stream",
          "text": [
            "enter row size:2\n",
            "enter column size :2\n",
            "enter matrix A [0,0]:7\n",
            "enter matrix A [0,1]:5\n",
            "enter matrix A [1,0]:3\n",
            "enter matrix A [1,1]:1\n",
            "enter matrix B [0,0] :2\n",
            "enter matrix B [0,1] :4\n",
            "enter matrix B [1,0] :6\n",
            "enter matrix B [1,1] :8\n",
            "Matrix A is :\n",
            "7 5 \n",
            "3 1 \n",
            "Matrix B is :\n",
            "2 4 \n",
            "6 8 \n",
            "Addition of A and B matrices is :\n",
            "9 9 \n",
            "9 9 \n"
          ],
          "name": "stdout"
        }
      ]
    },
    {
      "cell_type": "markdown",
      "metadata": {
        "id": "GbIo93fwEDny"
      },
      "source": [
        " c) write a program to perform multiplication of two  square matrices"
      ]
    },
    {
      "cell_type": "code",
      "metadata": {
        "colab": {
          "base_uri": "https://localhost:8080/",
          "height": 146
        },
        "id": "dtQiW9v1EHqc",
        "outputId": "23801888-0975-4064-9d10-8c0e73a17af4"
      },
      "source": [
        "def matRead(r, c): \n",
        "   return [[int(input(\"enter value of [%d,%d]:\"%(i,j))) for j in range (c)] for i in range(r)]\n",
        "def mathDisp(mat, r, c):\n",
        "  for i in range(r):\n",
        "      for j in range(c):\n",
        "        print(mat[i][j],end=' ')\n",
        "      print() \n",
        "A=B==Mul=[[]]\n",
        "r=int(input(\"enter row size:\"))\n",
        "c=int(input(\"enter column size :\"))\n",
        "if r==c:\n",
        "   print(\"Matrix A input :\") \n",
        "   A=matRead(r, c)\n",
        "   print(\"Matrix B input :\") \n",
        "   B=matRead(r, c)\n",
        "#Mul=[[0 for j in range (c)] for i in range(r)] \n",
        "for i in range(r):\n",
        "      for j in range(c):\n",
        "         Mul[i][j]=0 \n",
        "         for k in range(c):\n",
        "            Mul[i][j]=Mul[i][j]+[A[i][k]*B[k][j] \n",
        " \n",
        "print(\"Matrix A is:\") \n",
        "mathDisp(A, r, c)\n",
        "print(\"Matrix B is :\") \n",
        "mathDisp(B, r, c)\n",
        "Sum=[[A[i][j]+B[i][j] for j in range (c)] for i in range(r)] \n",
        "print(\"Multiplicationof A and B matrices is :\") \n",
        "mathDisp(Mul, r, c)"
      ],
      "execution_count": null,
      "outputs": [
        {
          "output_type": "error",
          "ename": "SyntaxError",
          "evalue": "ignored",
          "traceback": [
            "\u001b[0;36m  File \u001b[0;32m\"<ipython-input-16-1ecb5b38813d>\"\u001b[0;36m, line \u001b[0;32m23\u001b[0m\n\u001b[0;31m    print(\"Matrix A is:\")\u001b[0m\n\u001b[0m        ^\u001b[0m\n\u001b[0;31mSyntaxError\u001b[0m\u001b[0;31m:\u001b[0m invalid syntax\n"
          ]
        }
      ]
    },
    {
      "cell_type": "markdown",
      "metadata": {
        "id": "JIChydhKFLAF"
      },
      "source": [
        "Module example"
      ]
    },
    {
      "cell_type": "code",
      "metadata": {
        "colab": {
          "base_uri": "https://localhost:8080/"
        },
        "id": "Gzg0Nbc2H-EQ",
        "outputId": "2593328f-18cf-46a5-b0f2-12a4d7b226f7"
      },
      "source": [
        "import math\n",
        "print(\"List of math module entities:\") \n",
        "print(dir(math))\n",
        "#for syntax of the particular function\n",
        "print(help(math.sqrt))"
      ],
      "execution_count": null,
      "outputs": [
        {
          "output_type": "stream",
          "text": [
            "List of math module entities:\n",
            "['__doc__', '__loader__', '__name__', '__package__', '__spec__', 'acos', 'acosh', 'asin', 'asinh', 'atan', 'atan2', 'atanh', 'ceil', 'copysign', 'cos', 'cosh', 'degrees', 'e', 'erf', 'erfc', 'exp', 'expm1', 'fabs', 'factorial', 'floor', 'fmod', 'frexp', 'fsum', 'gamma', 'gcd', 'hypot', 'inf', 'isclose', 'isfinite', 'isinf', 'isnan', 'ldexp', 'lgamma', 'log', 'log10', 'log1p', 'log2', 'modf', 'nan', 'pi', 'pow', 'radians', 'remainder', 'sin', 'sinh', 'sqrt', 'tan', 'tanh', 'tau', 'trunc']\n",
            "Help on built-in function sqrt in module math:\n",
            "\n",
            "sqrt(x, /)\n",
            "    Return the square root of x.\n",
            "\n",
            "None\n"
          ],
          "name": "stdout"
        }
      ]
    },
    {
      "cell_type": "code",
      "metadata": {
        "colab": {
          "base_uri": "https://localhost:8080/"
        },
        "id": "PyuySEEQks1T",
        "outputId": "8fe82dbf-bed0-4a70-f54f-1fcd2ffd1d14"
      },
      "source": [
        " \n",
        "from math import ceil, floor,trunc\n",
        " \n",
        "x=1.4\n",
        " \n",
        "y=2.6\n",
        " \n",
        "print(\"ceil positive values\", end=' ') \n",
        " \n",
        "print(\"for x:\" ,ceil(x), \"for y:\",ceil(y)) \n",
        " \n",
        "print(\"ceil negative values\", end=' ') \n",
        " \n",
        "print(\"for x:\" ,ceil(-x), \"for y:\",ceil(-y)) \n",
        " \n",
        "print(\"floor positive values\", end=' ') \n",
        " \n",
        "print(\"for x:\" ,floor(x), \"for y:\",floor(y)) \n",
        " \n",
        "print(\"floor negative values\", end=' ') \n",
        " \n",
        "print(\"for x:\" ,floor(-x), \"for y:\",floor(-y)) \n",
        " \n",
        "print(\"trunc positive values\", end=' ') \n",
        " \n",
        "print(\"for x:\" ,trunc(x), \"for y:\",trunc(y)) \n",
        " \n",
        "print(\"trunc negative values\", end=' ') \n",
        " \n",
        "print(\"for x:\" ,floor(-x), \"for y:\",floor(-y))"
      ],
      "execution_count": null,
      "outputs": [
        {
          "output_type": "stream",
          "text": [
            "ceil positive values for x: 2 for y: 3\n",
            "ceil negative values for x: -1 for y: -2\n",
            "floor positive values for x: 1 for y: 2\n",
            "floor negative values for x: -2 for y: -3\n",
            "trunc positive values for x: 1 for y: 2\n",
            "trunc negative values for x: -2 for y: -3\n"
          ],
          "name": "stdout"
        }
      ]
    },
    {
      "cell_type": "code",
      "metadata": {
        "colab": {
          "base_uri": "https://localhost:8080/"
        },
        "id": "UD5tEkS1IQsR",
        "outputId": "4e5ca90e-5fa4-45b3-c4c7-9df00847881b"
      },
      "source": [
        "from platform import version\n",
        "print(\"version:\", end=' ') \n",
        "print(version())"
      ],
      "execution_count": null,
      "outputs": [
        {
          "output_type": "stream",
          "text": [
            "version: #1 SMP Sat Jun 5 09:50:34 PDT 2021\n"
          ],
          "name": "stdout"
        }
      ]
    },
    {
      "cell_type": "code",
      "metadata": {
        "id": "WK5LJVKYFL_O"
      },
      "source": [
        "def check(n) :\n",
        "   if n%2==0:\n",
        "      print(\"even number \") \n",
        "   else :\n",
        "      print(\" odd number\") \n",
        "def even(n):\n",
        "   for i in range(1, n+1) :\n",
        "       if i%2==0:\n",
        "          print(i, end=' ') \n",
        "def odd(n):\n",
        "   for i in range(1, n+1) :\n",
        "       if i%2==1:\n",
        "          print(i, end=' ')   \n",
        "#1.in another file import moduleex  moduleex. check(18)like that or in command prompt"
      ],
      "execution_count": null,
      "outputs": []
    },
    {
      "cell_type": "code",
      "metadata": {
        "colab": {
          "base_uri": "https://localhost:8080/"
        },
        "id": "R9oGcu3SGpZj",
        "outputId": "776f92f3-9e29-4a3e-ee3a-c8332a35bdcb"
      },
      "source": [
        "import time\n",
        "for i in range(1, 6) :\n",
        "      print(\"hello\") \n",
        "      time.sleep (1)"
      ],
      "execution_count": null,
      "outputs": [
        {
          "output_type": "stream",
          "text": [
            "hello\n",
            "hello\n",
            "hello\n",
            "hello\n",
            "hello\n"
          ],
          "name": "stdout"
        }
      ]
    },
    {
      "cell_type": "markdown",
      "metadata": {
        "id": "R_TKfoTyFRCb"
      },
      "source": [
        " Demonstration of class without  creating object"
      ]
    },
    {
      "cell_type": "code",
      "metadata": {
        "colab": {
          "base_uri": "https://localhost:8080/"
        },
        "id": "61zAv3aCFV8w",
        "outputId": "c241b2e6-e7c0-4b0b-940b-cb9b9e96510c"
      },
      "source": [
        "print(\"Before the class definition\") \n",
        "class Demo:\n",
        "   print(\"within the class \") \n",
        "   def __init__(self) :\n",
        "          self.rno=4\n",
        "   def display():\n",
        "       print(\" Rollno :\", self.rno)\n",
        "print(\"After the class Demo\")"
      ],
      "execution_count": null,
      "outputs": [
        {
          "output_type": "stream",
          "text": [
            "Before the class definition\n",
            "within the class \n",
            "After the class Demo\n"
          ],
          "name": "stdout"
        }
      ]
    },
    {
      "cell_type": "markdown",
      "metadata": {
        "id": "K-9cnVx1Hco6"
      },
      "source": [
        "class behavior with instancevariables"
      ]
    },
    {
      "cell_type": "code",
      "metadata": {
        "colab": {
          "base_uri": "https://localhost:8080/"
        },
        "id": "zjdf0M7HHiy0",
        "outputId": "6b1fd9da-7a54-4f2c-80f6-048d132125f2"
      },
      "source": [
        " \n",
        "class Demo:\n",
        " \n",
        "   print(\"within the class \") \n",
        " \n",
        "   x=10\n",
        " \n",
        "   def __init__(self) :\n",
        " \n",
        "          print(\"x value intially :\",self.x)\n",
        " \n",
        "          self.x=9\n",
        " \n",
        "          print(\"value of x now:\",self.x)\n",
        " \n",
        "   def display(self,b):\n",
        " \n",
        "       self.x=100\n",
        " \n",
        "       print(\"value of x now:\",self.x)\n",
        " \n",
        "       self.y=b\n",
        " \n",
        "       print(\"value of y :\", self.y)\n",
        " \n",
        "       self.y=122\n",
        " \n",
        "       print(\"y value modified :\",self.y)\n",
        " \n",
        "print(\"After the class Demo\")\n",
        " \n",
        "d=Demo()\n",
        " \n",
        "d.display(3)\n",
        " \n",
        "print(\"outside the class x value:\",d.x)\n",
        " \n",
        "print(\"outside the class y value:\",d.y)"
      ],
      "execution_count": null,
      "outputs": [
        {
          "output_type": "stream",
          "text": [
            "within the class \n",
            "After the class Demo\n",
            "x value intially : 10\n",
            "value of x now: 9\n",
            "value of x now: 100\n",
            "value of y : 3\n",
            "y value modified : 122\n",
            "outside the class x value: 100\n",
            "outside the class y value: 122\n"
          ],
          "name": "stdout"
        }
      ]
    },
    {
      "cell_type": "markdown",
      "metadata": {
        "id": "cfZhV065LMq7"
      },
      "source": [
        "EXERCISE- 12:Modules\n",
        "a) install packages requests, flask, and explore them using pip(python installation packages)"
      ]
    },
    {
      "cell_type": "code",
      "metadata": {
        "id": "YWawS_p3Lekd"
      },
      "source": [
        "Open cmd and set python installation path\n",
        "Check pip is installed or not by>pip\n",
        "#requests and flask\n",
        ">pip install requests\n",
        ">pip install flask\n",
        "#for exploration \n",
        ">pip show requests\n",
        ">pip show flask\n",
        "(It shows name, version and other properties)"
      ],
      "execution_count": null,
      "outputs": []
    },
    {
      "cell_type": "markdown",
      "metadata": {
        "id": "fV3kvYjRL88X"
      },
      "source": [
        "b) write a program to script that imports requests and fetch content from page eg:wiki"
      ]
    },
    {
      "cell_type": "code",
      "metadata": {
        "id": "TuRPnnxkMGgK"
      },
      "source": [
        "#first you need to install the page which you want to fetch content of it\n",
        "import requests\n",
        "r=requests.get('http://www.google.com') \n",
        "print(\"status code :\", r. status_code) \n",
        "print(\" Header content:\", r. headers['content-type']) \n",
        "print(r.text)"
      ],
      "execution_count": null,
      "outputs": []
    },
    {
      "cell_type": "markdown",
      "metadata": {
        "id": "XN0TNj4uMpbS"
      },
      "source": [
        "c) write a simple script that serves a simple http response and a simple HTML page"
      ]
    },
    {
      "cell_type": "code",
      "metadata": {
        "id": "PqyKo9dHMxkD",
        "colab": {
          "base_uri": "https://localhost:8080/"
        },
        "outputId": "bc581682-cea3-47f5-ed5c-29dcc574970e"
      },
      "source": [
        "from flask import Flask, render_template\n",
        "app=Flask(__name__) \n",
        "print(app) \n",
        "@app.route(\"/\") \n",
        "def main() :\n",
        "    return render_template(\"login.html\") \n",
        "if __name__==\"__main__\" :\n",
        "   app. run(host=\"127.0.0.1\", port=2500)"
      ],
      "execution_count": null,
      "outputs": [
        {
          "output_type": "stream",
          "text": [
            "<Flask '__main__'>\n",
            " * Serving Flask app \"__main__\" (lazy loading)\n",
            " * Environment: production\n",
            "\u001b[31m   WARNING: This is a development server. Do not use it in a production deployment.\u001b[0m\n",
            "\u001b[2m   Use a production WSGI server instead.\u001b[0m\n",
            " * Debug mode: off\n"
          ],
          "name": "stdout"
        },
        {
          "output_type": "stream",
          "text": [
            " * Running on http://127.0.0.1:2500/ (Press CTRL+C to quit)\n"
          ],
          "name": "stderr"
        }
      ]
    },
    {
      "cell_type": "markdown",
      "metadata": {
        "id": "0R8DEVxaFaiY"
      },
      "source": [
        " \n",
        "EXERCISE -13:OOPS\n",
        "a) class variables and instances variable and illustration of the self variable"
      ]
    },
    {
      "cell_type": "code",
      "metadata": {
        "colab": {
          "base_uri": "https://localhost:8080/"
        },
        "id": "_PO-kwP9FnuZ",
        "outputId": "96e10076-7635-41c2-c8c1-3b8ca27d5b3c"
      },
      "source": [
        " \n",
        "#Robot\n",
        " \n",
        "class Robot:\n",
        " \n",
        "    what=\"Machine\"\n",
        " \n",
        "    name=\"Chitti\"\n",
        " \n",
        "    version=1.0\n",
        " \n",
        "    speed=\"1THz\"\n",
        " \n",
        "    memory=\"1ZB\"\n",
        " \n",
        "    def update(upd):\n",
        " \n",
        "        upd.version=2.0\n",
        " \n",
        "        upd.speed=\"2THz\"\n",
        " \n",
        "        upd.memory=\"2ZB\"\n",
        " \n",
        "    def disp(self):\n",
        " \n",
        "        print(\"Myself is a\",robj.what)\n",
        " \n",
        "        print(\"MyName is a\",robj.name)\n",
        " \n",
        "        print(\"Version :\",robj.version)\n",
        " \n",
        "        print(\"Speed : \",robj.speed)\n",
        " \n",
        "        print(\"Memory: \",robj.memory)\n",
        " \n",
        "robj=Robot()\n",
        " \n",
        "robj.disp()\n",
        " \n",
        "print(\"---------------Update---------\")\n",
        " \n",
        "robj.update()\n",
        " \n",
        "robj.disp()"
      ],
      "execution_count": null,
      "outputs": [
        {
          "output_type": "stream",
          "text": [
            "Myself is a Machine\n",
            "MyName is a Chitti\n",
            "Version : 1.0\n",
            "Speed :  1THz\n",
            "Memory:  1ZB\n",
            "---------------Update---------\n",
            "Myself is a Machine\n",
            "MyName is a Chitti\n",
            "Version : 2.0\n",
            "Speed :  2THz\n",
            "Memory:  2ZB\n"
          ],
          "name": "stdout"
        }
      ]
    },
    {
      "cell_type": "code",
      "metadata": {
        "colab": {
          "base_uri": "https://localhost:8080/"
        },
        "id": "WzyjO96JFwx-",
        "outputId": "e9774787-4daa-45eb-d29e-e5ced1c19566"
      },
      "source": [
        "#ATM\n",
        "class ATM:\n",
        "    def __init__(self):\n",
        "        self.balance=0\n",
        "        print(\"New Account\")\n",
        "        \n",
        "    def enquire(self):\n",
        "        print(\"Balance: \",self.balance)\n",
        "        \n",
        "    def deposit(self):\n",
        "        amount=int(input(\"Enter the Deposit Amount:\"))\n",
        "        self.balance+=amount\n",
        "        self.enquire()\n",
        " \n",
        "    def withdraw(self):\n",
        "        amount=int(input(\"Enter the Withdraw Amount: \"))\n",
        "        if self.balance<amount:\n",
        "            print(\"Insufficient Balance.....!\")\n",
        "        else:\n",
        "            self.balance-=amount\n",
        "            self.enquire()\n",
        "aobj=ATM()\n",
        "while(True):\n",
        "    print(\"*****Menu****\")\n",
        "    print(\"1.Deposit\")\n",
        "    print(\"2.Withdarw\")\n",
        "    print(\"3.Balance\")\n",
        "    print(\"0.Exit\")\n",
        "    ch=int(input(\"Enter Your Choice: \"))\n",
        "    if ch==0:\n",
        "        break\n",
        "    elif ch==1:\n",
        "        aobj.deposit()\n",
        "    elif ch==2:\n",
        "        aobj.withdraw()\n",
        "    elif ch==3:\n",
        "        aobj.enquire()\n",
        "    else:\n",
        "        print(\"Invalid choice:\")\n",
        "        pass"
      ],
      "execution_count": null,
      "outputs": [
        {
          "output_type": "stream",
          "text": [
            "New Account\n",
            "*****Menu****\n",
            "1.Deposit\n",
            "2.Withdarw\n",
            "3.Balance\n",
            "0.Exit\n",
            "Enter Your Choice: 3\n",
            "Balance:  0\n",
            "*****Menu****\n",
            "1.Deposit\n",
            "2.Withdarw\n",
            "3.Balance\n",
            "0.Exit\n",
            "Enter Your Choice: 2\n",
            "Enter the Withdraw Amount: 1000\n",
            "Insufficient Balance.....!\n",
            "*****Menu****\n",
            "1.Deposit\n",
            "2.Withdarw\n",
            "3.Balance\n",
            "0.Exit\n",
            "Enter Your Choice: 1\n",
            "Enter the Deposit Amount:3000\n",
            "Balance:  3000\n",
            "*****Menu****\n",
            "1.Deposit\n",
            "2.Withdarw\n",
            "3.Balance\n",
            "0.Exit\n",
            "Enter Your Choice: 2\n",
            "Enter the Withdraw Amount: 1000\n",
            "Balance:  2000\n",
            "*****Menu****\n",
            "1.Deposit\n",
            "2.Withdarw\n",
            "3.Balance\n",
            "0.Exit\n",
            "Enter Your Choice: 0\n"
          ],
          "name": "stdout"
        }
      ]
    },
    {
      "cell_type": "markdown",
      "metadata": {
        "id": "96BY0N86fpdD"
      },
      "source": [
        " EXERCISE-14:GUI \n",
        "a)write a gui for an expression calculator using tk"
      ]
    },
    {
      "cell_type": "code",
      "metadata": {
        "id": "vpA5G6fzf8-g"
      },
      "source": [
        "from tkinter import *\n",
        " \n",
        "win = Tk() # This is to create a basic window\n",
        "win.geometry(\"312x324\")  # this is for the size of the window \n",
        "win.resizable(0, 0)  # this is to prevent from resizing the window\n",
        "win.title(\"Calculator\")\n",
        " \n",
        "###################Starting with functions ####################\n",
        "# 'btn_click' function : \n",
        "# This Function continuously updates the \n",
        "# input field whenever you enters a number\n",
        " \n",
        "def btn_click(item):\n",
        "    global expression\n",
        "    expression = expression + str(item)\n",
        "    input_text.set(expression)\n",
        " \n",
        "# 'bt_clear' function :This is used to clear \n",
        "# the input field\n",
        " \n",
        "def bt_clear(): \n",
        "    global expression \n",
        "    expression = \"\" \n",
        "    input_text.set(\"\")\n",
        " \n",
        "# 'bt_equal':This method calculates the expression \n",
        "# present in input field\n",
        " \n",
        "def bt_equal():\n",
        "    global expression\n",
        "    result = str(eval(expression)) # 'eval':This function is used to evaluates the string expression directly\n",
        "    input_text.set(result)\n",
        "    expression = \"\"\n",
        " \n",
        "expression = \"\"\n",
        " \n",
        "# 'StringVar()' :It is used to get the instance of input field\n",
        " \n",
        "input_text = StringVar()\n",
        " \n",
        "# Let us creating a frame for the input field\n",
        " \n",
        "input_frame = Frame(win, width=312, height=50, bd=0, highlightbackground=\"black\", highlightcolor=\"black\", highlightthickness=2)\n",
        " \n",
        "input_frame.pack(side=TOP)\n",
        " \n",
        "#Let us create a input field inside the 'Frame'\n",
        " \n",
        "input_field = Entry(input_frame, font=('arial', 18, 'bold'), textvariable=input_text, width=50, bg=\"#eee\", bd=0, justify=RIGHT)\n",
        " \n",
        "input_field.grid(row=0, column=0)\n",
        " \n",
        "input_field.pack(ipady=10) # 'ipady' is internal padding to increase the height of input field\n",
        " \n",
        "#Let us creating another 'Frame' for the button below the 'input_frame'\n",
        " \n",
        "btns_frame = Frame(win, width=312, height=272.5, bg=\"grey\")\n",
        " \n",
        "btns_frame.pack()\n",
        " \n",
        "# first row\n",
        " \n",
        "clear = Button(btns_frame, text = \"C\", fg = \"black\", width = 32, height = 3, bd = 0, bg = \"#eee\", cursor = \"hand2\", command = lambda: bt_clear()).grid(row = 0, column = 0, columnspan = 3, padx = 1, pady = 1)\n",
        " \n",
        "divide = Button(btns_frame, text = \"/\", fg = \"black\", width = 10, height = 3, bd = 0, bg = \"#eee\", cursor = \"hand2\", command = lambda: btn_click(\"/\")).grid(row = 0, column = 3, padx = 1, pady = 1)\n",
        " \n",
        "# second row\n",
        " \n",
        "seven = Button(btns_frame, text = \"7\", fg = \"black\", width = 10, height = 3, bd = 0, bg = \"#fff\", cursor = \"hand2\", command = lambda: btn_click(7)).grid(row = 1, column = 0, padx = 1, pady = 1)\n",
        " \n",
        "eight = Button(btns_frame, text = \"8\", fg = \"black\", width = 10, height = 3, bd = 0, bg = \"#fff\", cursor = \"hand2\", command = lambda: btn_click(8)).grid(row = 1, column = 1, padx = 1, pady = 1)\n",
        " \n",
        "nine = Button(btns_frame, text = \"9\", fg = \"black\", width = 10, height = 3, bd = 0, bg = \"#fff\", cursor = \"hand2\", command = lambda: btn_click(9)).grid(row = 1, column = 2, padx = 1, pady = 1)\n",
        " \n",
        "multiply = Button(btns_frame, text = \"*\", fg = \"black\", width = 10, height = 3, bd = 0, bg = \"#eee\", cursor = \"hand2\", command = lambda: btn_click(\"*\")).grid(row = 1, column = 3, padx = 1, pady = 1)\n",
        " \n",
        "# third row\n",
        " \n",
        "four = Button(btns_frame, text = \"4\", fg = \"black\", width = 10, height = 3, bd = 0, bg = \"#fff\", cursor = \"hand2\", command = lambda: btn_click(4)).grid(row = 2, column = 0, padx = 1, pady = 1)\n",
        " \n",
        "five = Button(btns_frame, text = \"5\", fg = \"black\", width = 10, height = 3, bd = 0, bg = \"#fff\", cursor = \"hand2\", command = lambda: btn_click(5)).grid(row = 2, column = 1, padx = 1, pady = 1)\n",
        " \n",
        "six = Button(btns_frame, text = \"6\", fg = \"black\", width = 10, height = 3, bd = 0, bg = \"#fff\", cursor = \"hand2\", command = lambda: btn_click(6)).grid(row = 2, column = 2, padx = 1, pady = 1)\n",
        " \n",
        "minus = Button(btns_frame, text = \"-\", fg = \"black\", width = 10, height = 3, bd = 0, bg = \"#eee\", cursor = \"hand2\", command = lambda: btn_click(\"-\")).grid(row = 2, column = 3, padx = 1, pady = 1)\n",
        " \n",
        "# fourth row\n",
        " \n",
        "one = Button(btns_frame, text = \"1\", fg = \"black\", width = 10, height = 3, bd = 0, bg = \"#fff\", cursor = \"hand2\", command = lambda: btn_click(1)).grid(row = 3, column = 0, padx = 1, pady = 1)\n",
        " \n",
        "two = Button(btns_frame, text = \"2\", fg = \"black\", width = 10, height = 3, bd = 0, bg = \"#fff\", cursor = \"hand2\", command = lambda: btn_click(2)).grid(row = 3, column = 1, padx = 1, pady = 1)\n",
        " \n",
        "three = Button(btns_frame, text = \"3\", fg = \"black\", width = 10, height = 3, bd = 0, bg = \"#fff\", cursor = \"hand2\", command = lambda: btn_click(3)).grid(row = 3, column = 2, padx = 1, pady = 1)\n",
        " \n",
        "plus = Button(btns_frame, text = \"+\", fg = \"black\", width = 10, height = 3, bd = 0, bg = \"#eee\", cursor = \"hand2\", command = lambda: btn_click(\"+\")).grid(row = 3, column = 3, padx = 1, pady = 1)\n",
        " \n",
        "# fourth row\n",
        " \n",
        "zero = Button(btns_frame, text = \"0\", fg = \"black\", width = 21, height = 3, bd = 0, bg = \"#fff\", cursor = \"hand2\", command = lambda: btn_click(0)).grid(row = 4, column = 0, columnspan = 2, padx = 1, pady = 1)\n",
        " \n",
        "point = Button(btns_frame, text = \".\", fg = \"black\", width = 10, height = 3, bd = 0, bg = \"#eee\", cursor = \"hand2\", command = lambda: btn_click(\".\")).grid(row = 4, column = 2, padx = 1, pady = 1)\n",
        " \n",
        "equals = Button(btns_frame, text = \"=\", fg = \"black\", width = 10, height = 3, bd = 0, bg = \"#eee\", cursor = \"hand2\", command = lambda: bt_equal()).grid(row = 4, column = 3, padx = 1, pady = 1)\n",
        " \n",
        "win.mainloop()"
      ],
      "execution_count": null,
      "outputs": []
    },
    {
      "cell_type": "markdown",
      "metadata": {
        "id": "u6oj2YnoGGnS"
      },
      "source": [
        "b) write a program to implement the following figures using turtle."
      ]
    },
    {
      "cell_type": "markdown",
      "metadata": {
        "id": "9Rth4CsZfu5p"
      },
      "source": [
        "turtle printing"
      ]
    },
    {
      "cell_type": "code",
      "metadata": {
        "id": "IbDZ1FPWfzMY"
      },
      "source": [
        "import turtle as t\n",
        "t.shape('turtle')"
      ],
      "execution_count": null,
      "outputs": []
    },
    {
      "cell_type": "code",
      "metadata": {
        "id": "XAMVCEgAGHQ8"
      },
      "source": [
        "#figure1\n",
        "import turtle\n",
        "c=[\"red\", \"green\" \"blue\"]\n",
        "i=0\n",
        "turtle.pensize(5)\n",
        "for angle in range(0, 360,30) :\n",
        "    if i>2: \n",
        "        i=0\n",
        "    turtle.color([i]) \n",
        "    turtle.seth(angle)\n",
        "    turtle.circle(50)\n",
        "    i+=1"
      ],
      "execution_count": null,
      "outputs": []
    },
    {
      "cell_type": "code",
      "metadata": {
        "id": "7NXS8Em2GMvM"
      },
      "source": [
        "#figure2\n",
        "import turtle    \n",
        "turtle.pensize(1)\n",
        "for i in range(36):\n",
        "  for j in range(4):\n",
        "       turtle.forward(70)\n",
        "       turtle.left(90)\n",
        "  turtle.left(10)"
      ],
      "execution_count": null,
      "outputs": []
    },
    {
      "cell_type": "markdown",
      "metadata": {
        "id": "2QkUbdOigL2a"
      },
      "source": [
        "Steps"
      ]
    },
    {
      "cell_type": "code",
      "metadata": {
        "id": "uuzpbK2OgNZE"
      },
      "source": [
        " \n",
        "import turtle as t\n",
        " \n",
        "t.forward(100)\n",
        " \n",
        "t.left(90)\n",
        " \n",
        "t.forward(150)\n",
        " \n",
        "t.right(90)\n",
        " \n",
        "t.forward(100)\n",
        " \n",
        "t.left(90)"
      ],
      "execution_count": null,
      "outputs": []
    },
    {
      "cell_type": "markdown",
      "metadata": {
        "id": "3VIdOL9IgQf_"
      },
      "source": [
        "Shapes"
      ]
    },
    {
      "cell_type": "code",
      "metadata": {
        "id": "Kqwt2S3UgRbW"
      },
      "source": [
        "import turtle as t\n",
        "def shapes(sides,ang):\n",
        "   for i in range(sides):\n",
        "     t.forward(100)\n",
        "     t.left(ang)\n",
        "shapes(8,51.429)\n",
        "shapes(7,45)\n",
        "shapes(6,60)\n",
        "shapes(5,72)\n",
        "shapes(4,90)"
      ],
      "execution_count": null,
      "outputs": []
    },
    {
      "cell_type": "code",
      "metadata": {
        "id": "jV7msxE6hmv5"
      },
      "source": [
        "import tkinter as tk\n",
        "root=tk.Tk()\n",
        "root.geometry('100x100')\n",
        "root.title(\"python\")\n",
        "root.mainloop()"
      ],
      "execution_count": null,
      "outputs": []
    },
    {
      "cell_type": "markdown",
      "metadata": {
        "id": "w5YRjYc2hvIo"
      },
      "source": [
        "Stack operations using functions"
      ]
    },
    {
      "cell_type": "code",
      "metadata": {
        "colab": {
          "base_uri": "https://localhost:8080/"
        },
        "id": "JlcDcKZAh1i9",
        "outputId": "cdf2474c-4029-48c3-f8d8-9f1a39750a42"
      },
      "source": [
        " \n",
        "stacklist=[]\n",
        " \n",
        "def push(val):\n",
        " \n",
        "    stacklist.append(val)\n",
        " \n",
        "    print(val,\"is pushed to stack\")\n",
        " \n",
        "def pop():\n",
        " \n",
        "    val=stacklist[-1]\n",
        " \n",
        "    del stacklist[-1]\n",
        " \n",
        "    return val\n",
        " \n",
        "push(4)\n",
        " \n",
        "push(9)\n",
        " \n",
        "print(\"popped value:\",pop())\n",
        " \n",
        "print(\"elements are:\",stacklist)"
      ],
      "execution_count": null,
      "outputs": [
        {
          "output_type": "stream",
          "text": [
            "4 is pushed to stack\n",
            "9 is pushed to stack\n",
            "popped value: 9\n",
            "elements are: [4]\n"
          ],
          "name": "stdout"
        }
      ]
    },
    {
      "cell_type": "markdown",
      "metadata": {
        "id": "uBtMpBJ_h3y-"
      },
      "source": [
        "Stack using class"
      ]
    },
    {
      "cell_type": "code",
      "metadata": {
        "colab": {
          "base_uri": "https://localhost:8080/"
        },
        "id": "jnS4_sqYh5YN",
        "outputId": "623ebd28-8db6-49c6-ccc3-3e8c05c51afd"
      },
      "source": [
        "class Stack:\n",
        "    def __init__(self):\n",
        "      self.__stacklist=[]\n",
        "    def push(self,val):\n",
        "     self.__stacklist.append(val)\n",
        "     print(val,\"is pushed to stack\")\n",
        "    def pop(self):\n",
        "     val=self.__stacklist[-1]\n",
        "     del self.__stacklist[-1]\n",
        "     return val\n",
        "    def display(self):\n",
        "     print(\"stack elements:\",self.__stacklist[::-1])\n",
        "top=Stack()\n",
        "top.push(4)\n",
        "top.push(9)\n",
        "print(\"popped value:\",top.pop())\n",
        "top.display()"
      ],
      "execution_count": null,
      "outputs": [
        {
          "output_type": "stream",
          "text": [
            "4 is pushed to stack\n",
            "9 is pushed to stack\n",
            "popped value: 9\n",
            "stack elements: [4]\n"
          ],
          "name": "stdout"
        }
      ]
    },
    {
      "cell_type": "code",
      "metadata": {
        "id": "Ilftac4nQ6Ln"
      },
      "source": [
        " \n",
        "class Stack:\n",
        " \n",
        "    def __init__(self):\n",
        "         self.stacklist=[]\n",
        " \n",
        "    def push(self,val):\n",
        "        self.stacklist.append(val)\n",
        "        print(val,\"is pushed to stack\")\n",
        " \n",
        "    def pop(self):\n",
        "        val=self.stacklist[-1]\n",
        "        del self.stacklist[-1]\n",
        "        return val\n",
        " \n",
        "    def display(self):\n",
        "        print(\"stack elements:\",self.stacklist[::-1])\n",
        "top=Stack()\n",
        " \n",
        "while(True):\n",
        "    print(\"1.push\")\n",
        "    print(\"2.pop\")\n",
        "    print(\"3.Display\")\n",
        "    print(\"0.exit\")\n",
        "    ch=int(input(\"enter the option:\"))\n",
        "    if ch==0:\n",
        "             break\n",
        "    elif ch==1:\n",
        "        n=int(input(\"Enter an element to push:\"))\n",
        "        top.push(n)\n",
        "    elif ch==2:\n",
        "            if len(top.stacklist)==0 :\n",
        "                print(\"Stack is empty\") \n",
        "            else :\n",
        "                  print(\"popped value:\",top.pop())\n",
        " \n",
        "    elif ch==3:\n",
        "            if len(top.stacklist)==0 :\n",
        "                print(\"Stack is empty\") \n",
        "            else :\n",
        "                 top.display()\n",
        "    else :\n",
        "         print(\"invalid choice\")"
      ],
      "execution_count": null,
      "outputs": []
    },
    {
      "cell_type": "markdown",
      "metadata": {
        "id": "WxIwpedqiHRg"
      },
      "source": [
        "Threading"
      ]
    },
    {
      "cell_type": "code",
      "metadata": {
        "colab": {
          "base_uri": "https://localhost:8080/"
        },
        "id": "IDHO_sWsiI4f",
        "outputId": "9ca0ddf1-efb7-4d10-af77-64c7708445c7"
      },
      "source": [
        " \n",
        "import time\n",
        " \n",
        "import threading\n",
        " \n",
        "def disp(tname,delay):\n",
        " \n",
        "    cnt=0\n",
        " \n",
        "    while cnt<5 :\n",
        " \n",
        "        time.sleep(delay)\n",
        " \n",
        "        cnt+=1\n",
        " \n",
        "        print(tname ,\"----->\",time.ctime(time.time()))\n",
        " \n",
        "t1=threading.Thread(disp(\"Thread1\",3))\n",
        " \n",
        "t1.start()"
      ],
      "execution_count": null,
      "outputs": [
        {
          "output_type": "stream",
          "text": [
            "Thread1 -----> Fri Jul  9 09:11:03 2021\n",
            "Thread1 -----> Fri Jul  9 09:11:06 2021\n",
            "Thread1 -----> Fri Jul  9 09:11:09 2021\n",
            "Thread1 -----> Fri Jul  9 09:11:12 2021\n",
            "Thread1 -----> Fri Jul  9 09:11:15 2021\n"
          ],
          "name": "stdout"
        }
      ]
    },
    {
      "cell_type": "markdown",
      "metadata": {
        "id": "87D530DYipik"
      },
      "source": [
        "Multithreading"
      ]
    },
    {
      "cell_type": "code",
      "metadata": {
        "colab": {
          "base_uri": "https://localhost:8080/"
        },
        "id": "ijPWUp3OisVq",
        "outputId": "2a320e2d-1f2f-4893-a5e1-6119bed2e3fc"
      },
      "source": [
        " \n",
        "import time\n",
        " \n",
        "import threading\n",
        " \n",
        "def disp(tname,delay):\n",
        " \n",
        "    cnt=0\n",
        " \n",
        "    while cnt<5 :\n",
        " \n",
        "        time.sleep(delay)\n",
        " \n",
        "        cnt+=1\n",
        " \n",
        "        print(tname ,\"----->\",time.ctime(time.time()))\n",
        " \n",
        "t1=threading.Thread(target=disp,args=(\"Thread1\",2))\n",
        " \n",
        "t2=threading.Thread(target=disp,args=(\"Thread2\",3))\n",
        " \n",
        "t1.start()\n",
        " \n",
        "t2.start()"
      ],
      "execution_count": null,
      "outputs": [
        {
          "output_type": "stream",
          "text": [
            "Thread2 -----> Fri Jul  9 09:15:14 2021\n"
          ],
          "name": "stdout"
        }
      ]
    },
    {
      "cell_type": "code",
      "metadata": {
        "id": "LAiq42IHjLTB"
      },
      "source": [
        "import time\n",
        "import threading\n",
        "def  square(num):\n",
        "    print(\"squares of the numbers\")\n",
        "    for i in num:\n",
        "     time.sleep(2)\n",
        "     print(i,\"square is \",i*i)\n",
        "def  cube(num):\n",
        "    print(\"cubes of the numbers\")\n",
        "    for i in num:\n",
        "     time.sleep(2)\n",
        "     print(i,\"cube is \",i*i*i)\n",
        "lst=[7,8,9,10]   \n",
        "st=time.time()     \n",
        "print(\"starting time:\",st) \n",
        "t1=threading.Thread(target=square,args=(lst,))\n",
        "t2=threading.Thread(target=cube,args=(lst,))\n",
        "t1.start()\n",
        "t2.start()\n",
        "et=time.time()     \n",
        "print(\"ending time:\",et)\n",
        "print(\"Time taken by the code\",et-st)"
      ],
      "execution_count": null,
      "outputs": []
    },
    {
      "cell_type": "markdown",
      "metadata": {
        "id": "JhjB2IWoiuMC"
      },
      "source": [
        "Synchronization"
      ]
    },
    {
      "cell_type": "code",
      "metadata": {
        "id": "OQW6LDmPiw7I"
      },
      "source": [
        " \n",
        "import time\n",
        " \n",
        "import threading\n",
        " \n",
        "def disp(tname,delay):\n",
        " \n",
        "    cnt=0\n",
        " \n",
        "    while cnt<5 :\n",
        " \n",
        "        time.sleep(delay)\n",
        " \n",
        "        cnt+=1\n",
        " \n",
        "        print(tname ,\"----->\",time.ctime(time.time()))\n",
        " \n",
        "t1=threading.Thread(target=disp,args=(\"Thread1\",2))\n",
        " \n",
        "t2=threading.Thread(target=disp,args=(\"Thread2\",3))\n",
        " \n",
        "t1.start()\n",
        "t1.join() \n",
        " \n",
        "t2.start()\n",
        "t2.join()"
      ],
      "execution_count": null,
      "outputs": []
    },
    {
      "cell_type": "code",
      "metadata": {
        "id": "ojbtA27gjRg6"
      },
      "source": [
        "import time\n",
        "import threading\n",
        "def  square(num):\n",
        "    print(\"squares of the numbers\")\n",
        "    for i in num:\n",
        "     time.sleep(2)\n",
        "     print(i,\"square is \",i*i)\n",
        "def  cube(num):\n",
        "    print(\"cubes of the numbers\")\n",
        "    for i in num:\n",
        "     time.sleep(2)\n",
        "     print(i,\"cube is \",i*i*i)\n",
        "lst=[7,8,9,10]   \n",
        "st=time.time()     \n",
        "print(\"starting time:\",st) \n",
        "t1=threading.Thread(target=square,args=(lst,))\n",
        "t2=threading.Thread(target=cube,args=(lst,))\n",
        "t1.start()\n",
        "t1.join()\n",
        "t2.start()\n",
        "t2.join()\n",
        "et=time.time()     \n",
        "print(\"ending time:\",et)\n",
        "print(\"Time taken by the code\",et-st)"
      ],
      "execution_count": null,
      "outputs": []
    },
    {
      "cell_type": "markdown",
      "metadata": {
        "id": "5Vvdcq2HjsQP"
      },
      "source": [
        "Date and day time"
      ]
    },
    {
      "cell_type": "code",
      "metadata": {
        "colab": {
          "base_uri": "https://localhost:8080/"
        },
        "id": "UYXADR9ejvU3",
        "outputId": "7d81dfda-071d-456d-e5fb-d3378421aa99"
      },
      "source": [
        " \n",
        "from datetime import *\n",
        "#print(datetime.datetime.now()) \n",
        "d=datetime(2021,1, 21,11,30,55)\n",
        " \n",
        "print(d.strftime('%Y:%m:%d'))\n",
        " \n",
        "print(d.strftime('%Y/%B/%d'))\n",
        " \n",
        "print(d.strftime('%H::%M::%S'))\n",
        " \n",
        "today=date.today()\n",
        " \n",
        "print(\"Today:\", today) \n",
        " \n",
        "print(\"Year:\", today. year) \n",
        " \n",
        "print(\"Month:\", today. month) \n",
        " \n",
        "print(\"Day:\", today. day)"
      ],
      "execution_count": null,
      "outputs": [
        {
          "output_type": "stream",
          "text": [
            "2021:01:21\n",
            "2021/January/21\n",
            "11::30::55\n",
            "Today: 2021-07-09\n",
            "Year: 2021\n",
            "Month: 7\n",
            "Day: 9\n"
          ],
          "name": "stdout"
        }
      ]
    },
    {
      "cell_type": "markdown",
      "metadata": {
        "id": "MEcu_ONbkEIK"
      },
      "source": [
        "Calendar"
      ]
    },
    {
      "cell_type": "code",
      "metadata": {
        "id": "uSZiwMsXkFGk"
      },
      "source": [
        " \n",
        "import calendar as c\n",
        " \n",
        "#print(c.calendar(2021))\n",
        " \n",
        "#print(c.TextCalendar(2021))\n",
        " \n",
        "#print(c.LocalHTMLCalendar(2021))\n",
        " \n",
        "#print(c.HTMLCalendar(2021))\n",
        " \n",
        "c. setfirstweekday(c.SUNDAY)\n",
        " \n",
        "print(c.prmonth(2021, 7))\n",
        " \n",
        "print(c.isleap(2020))\n",
        " \n",
        "print(c.weekheader(3))\n",
        " \n",
        "print(c.weekday(2020,7,4))"
      ],
      "execution_count": null,
      "outputs": []
    },
    {
      "cell_type": "markdown",
      "metadata": {
        "id": "melz2PVjk7F6"
      },
      "source": [
        "Execption handling"
      ]
    },
    {
      "cell_type": "code",
      "metadata": {
        "id": "yfS-CwCYk9v5"
      },
      "source": [
        " \n",
        "try:\n",
        " \n",
        "    f = open('myfile_1.txt','r')\n",
        " \n",
        "    s=f.read()\n",
        " \n",
        "    print (s)\n",
        " \n",
        "except IOError as e:\n",
        " \n",
        "    print (\"I/O error\", e.strerror)\n",
        " \n",
        "finally:\n",
        " \n",
        "    f.close()\n",
        " \n",
        "    print(\"File Colosed\")"
      ],
      "execution_count": null,
      "outputs": []
    },
    {
      "cell_type": "markdown",
      "metadata": {
        "id": "o_pB_QcIk-mw"
      },
      "source": [
        "Multiple Exceptions"
      ]
    },
    {
      "cell_type": "code",
      "metadata": {
        "id": "8qclRgUolBxk"
      },
      "source": [
        "try:\n",
        "    f = open('myfile_1.txt','w')\n",
        "    a=int(input(\"Enter a value \"))\n",
        "    b=int(input(\"Enter a value \"))\n",
        "    c=a/b\n",
        "    s = f.write(str(c))\n",
        "    print (\"Result is stored\")\n",
        "except IOError as e:\n",
        "    print (\"I/O error\", e.strerror)\n",
        "except ZeroDivisionError:\n",
        "    print (\"Division is not possible\")\n",
        "except:\n",
        "    print (\"Unexpected error:\")\n",
        "finally:\n",
        "    f.close()"
      ],
      "execution_count": null,
      "outputs": []
    },
    {
      "cell_type": "markdown",
      "metadata": {
        "id": "cYBKis7ilF4d"
      },
      "source": [
        "Userdefined exception"
      ]
    },
    {
      "cell_type": "code",
      "metadata": {
        "id": "ievzF-53lImP"
      },
      "source": [
        "class MyEx(Exception):\n",
        "    def __init__(self,arg):\n",
        "        self.msg=arg\n",
        " \n",
        "def show1(cust):\n",
        "    for k,v in cust.items():\n",
        "        print(\"Name: \",k, \"  Balance:\", v)\n",
        "        if v < 500:\n",
        "            raise MyEx(\"\\t Minimum balance is required\")\n",
        " \n",
        "bank={\"dillep\":3000,\"kumar\":200,\"kk\":499}\n",
        " \n",
        "try:\n",
        "    show1(bank)\n",
        "except MyEx as e:\n",
        "    print(e.msg)"
      ],
      "execution_count": null,
      "outputs": []
    },
    {
      "cell_type": "markdown",
      "metadata": {
        "id": "Bdwt96ZDllK-"
      },
      "source": [
        "Exercise-15: Testing\n",
        "a) Write a test-case to check the function even numbers which return True on passing a list of all even numbers"
      ]
    },
    {
      "cell_type": "code",
      "metadata": {
        "id": "I1niqiKzlnDH"
      },
      "source": [
        "def evnNo(num):\n",
        "    stat=True\n",
        " \n",
        "    for i in num:\n",
        "        if i%2 ==1:\n",
        "            stat=False\n",
        "            break\n",
        "    return stat\n",
        "        \n",
        "numbers=[]\n",
        "for i in range(0,2):\n",
        "    numbers.append(int(input(\"Enter a value\")))\n",
        "print(evnNo(numbers))"
      ],
      "execution_count": null,
      "outputs": []
    },
    {
      "cell_type": "markdown",
      "metadata": {
        "id": "2y14MsdMl0tV"
      },
      "source": [
        "Exercise-15: Testing\n",
        "b) Write a testcase to check the function reverse string which returns the reversed string"
      ]
    },
    {
      "cell_type": "code",
      "metadata": {
        "id": "8_hMd5orl6M_"
      },
      "source": [
        " \n",
        "def rev_str(st):\n",
        "    return st[::-1]\n",
        " \n",
        "st=\"swarnandhra\"\n",
        "print(\"Given String is: \",st)\n",
        " \n",
        "print(\"Reverse is: \",rev_str(st))"
      ],
      "execution_count": null,
      "outputs": []
    },
    {
      "cell_type": "code",
      "metadata": {
        "id": "LRhxjiYumK02",
        "colab": {
          "base_uri": "https://localhost:8080/"
        },
        "outputId": "67a37671-da2a-461e-9dff-99923e132c44"
      },
      "source": [
        "def rev_str(st):\n",
        "    temp=\"\"\n",
        "    for i in range(len(st)-1,-1,-1):\n",
        "        temp+=st[i]\n",
        "    return temp\n",
        " \n",
        "st=\"swarnandhra\"\n",
        "print(\"Given String is: \",st)\n",
        "print(\"Reverse String is: \",st[::-1])\n",
        "print(\"Reverse is: \",rev_str(st))"
      ],
      "execution_count": null,
      "outputs": [
        {
          "output_type": "stream",
          "text": [
            "Given String is:  swarnandhra\n",
            "Reverse String is:  arhdnanraws\n",
            "Reverse is:  arhdnanraws\n"
          ],
          "name": "stdout"
        }
      ]
    },
    {
      "cell_type": "markdown",
      "metadata": {
        "id": "5tCEl6jkXK3G"
      },
      "source": [
        " EXERCISE 16:Advanced\n",
        "a) Build any one classical data structure"
      ]
    },
    {
      "cell_type": "code",
      "metadata": {
        "id": "q5KpwIM4YPSQ"
      },
      "source": [
        "import sys\n",
        "a=[]\n",
        "while True:\n",
        "    print(\"1.PUSH 2.POP 3.DISPLAY 4.EXIT\") \n",
        "    ch=int(input(\"enter your choice:\")) \n",
        "    if ch==1 : \n",
        "       ele=int(input(\"Enter element:\"))\n",
        "       a.append(ele) \n",
        "       print(ele, \"is inserted\") \n",
        "    elif ch==2:\n",
        "        if len(a) ==0 :\n",
        "            print(\" Stack is empty\") \n",
        "        else :\n",
        "           print(\"Deleted element is :\", a[lena(a) -1]) \n",
        "           a. remove(a[len(a) -1]) \n",
        "    elif ch==3 :\n",
        "        if len(a) ==0:\n",
        "            print(\"Stack is empty\") \n",
        "        else :\n",
        "           print(\"The elements in the stack :\") \n",
        "           for i in reversed(a):\n",
        "                 print(i) \n",
        "    elif ch==4:\n",
        "       sys.exit() \n",
        "    else :\n",
        "        print(\"Invalid choice \")"
      ],
      "execution_count": null,
      "outputs": []
    },
    {
      "cell_type": "markdown",
      "metadata": {
        "id": "vkfaG1b1YbJK"
      },
      "source": [
        "b) Write a program to solve knapsack problem."
      ]
    },
    {
      "cell_type": "code",
      "metadata": {
        "id": "Tgikg9XaYlUM"
      },
      "source": [
        "def knapSack(W, wt, val, n): \n",
        "    K = [[0 for x in range(W + 1)] for x in range(n + 1)] \n",
        "    # Build table K[][] in bottom up manner \n",
        "    for i in range(n + 1): \n",
        "        for w in range(W + 1): \n",
        "            if i == 0 or w == 0: \n",
        "                K[i][w] = 0\n",
        "            elif wt[i-1] <= w: \n",
        "                K[i][w] = max(val[i-1] + K[i-1][w-wt[i-1]],  K[i-1][w]) \n",
        "            else: \n",
        "                K[i][w] = K[i-1][w] \n",
        "    return K[n][W] \n",
        "profits=[10,5,15,7,6,18,3] \n",
        "wt = [2,3,5,7,1,4,1] \n",
        "W = 15\n",
        "n = len(profits) \n",
        "print(\"Minimum value knapsack of capacity :\", knapSack(W, wt, profits, n))"
      ],
      "execution_count": null,
      "outputs": []
    },
    {
      "cell_type": "markdown",
      "metadata": {
        "id": "yc6kdNhQEfN2"
      },
      "source": [
        " EXERCISE :17&18 Data Analysis\n",
        "Data analysis and manipulation using the following packages\n",
        "a) numpy b) pandas \n",
        "c) scipy  d) matplotlib\n",
        " (Machine learning Libraries)"
      ]
    },
    {
      "cell_type": "code",
      "metadata": {
        "colab": {
          "base_uri": "https://localhost:8080/"
        },
        "id": "LL38_Wq1EeHj",
        "outputId": "77639cc0-b32d-4937-e44e-bbb1ea7678f8"
      },
      "source": [
        "import sys\n",
        "print('python : {} '. format(sys.version))\n",
        "#scipy\n",
        "import scipy\n",
        "print('scipy:{} ' . format(scipy.__version__))\n",
        "#numpy\n",
        "import numpy\n",
        "print('numpy:{} ' . format(numpy.__version__))\n",
        "#matplotlib\n",
        "import matplotlib\n",
        "print('matplotlib:{} ' . format(matplotlib.__version__))\n",
        "#pandas\n",
        "import pandas\n",
        "print('pandas:{} ' . format(pandas.__version__))\n",
        "#sklearn\n",
        "import sklearn\n",
        "print('sklearn:{} ' . format(sklearn.__version__))\n",
        "#seaborn\n",
        "import seaborn\n",
        "print('seaborn:{} ' . format(seaborn.__version__))\n",
        "import urllib\n",
        "print('urlib:{} ' . format(urllib.__name__))\n",
        "import csv\n",
        "print('csv:{} ' . format(csv.__version__))"
      ],
      "execution_count": null,
      "outputs": [
        {
          "output_type": "stream",
          "text": [
            "python : 3.7.10 (default, May  3 2021, 02:48:31) \n",
            "[GCC 7.5.0] \n",
            "scipy:1.4.1 \n",
            "numpy:1.19.5 \n",
            "matplotlib:3.2.2 \n",
            "pandas:1.1.5 \n",
            "sklearn:0.22.2.post1 \n",
            "seaborn:0.11.1 \n",
            "urlib:urllib \n",
            "csv:1.0 \n"
          ],
          "name": "stdout"
        }
      ]
    },
    {
      "cell_type": "markdown",
      "metadata": {
        "id": "9SxW5EO_LceJ"
      },
      "source": [
        "Pandas"
      ]
    },
    {
      "cell_type": "code",
      "metadata": {
        "colab": {
          "base_uri": "https://localhost:8080/"
        },
        "id": "Bkl0Zs7LLfj2",
        "outputId": "8119ea75-e39d-4e1a-9a29-30e51cdc3533"
      },
      "source": [
        "import pandas as pd\n",
        "s=pd.Series([1, 2,3,4,5], index=['A','B', 'C', 'D', 'E']) \n",
        "print(s)"
      ],
      "execution_count": null,
      "outputs": [
        {
          "output_type": "stream",
          "text": [
            "A    1\n",
            "B    2\n",
            "C    3\n",
            "D    4\n",
            "E    5\n",
            "dtype: int64\n"
          ],
          "name": "stdout"
        }
      ]
    }
  ]
}