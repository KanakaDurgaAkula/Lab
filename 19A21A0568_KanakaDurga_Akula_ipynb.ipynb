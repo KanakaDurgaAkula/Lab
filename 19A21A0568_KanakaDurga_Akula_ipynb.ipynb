{
  "nbformat": 4,
  "nbformat_minor": 0,
  "metadata": {
    "colab": {
      "name": "19A21A0568--KanakaDurga Akula. ipynb",
      "provenance": [],
      "collapsed_sections": [],
      "include_colab_link": true
    },
    "kernelspec": {
      "display_name": "Python 3",
      "name": "python3"
    },
    "language_info": {
      "name": "python"
    }
  },
  "cells": [
    {
      "cell_type": "markdown",
      "metadata": {
        "id": "view-in-github",
        "colab_type": "text"
      },
      "source": [
        "<a href=\"https://colab.research.google.com/github/KanakaDurgaAkula/Lab/blob/main/19A21A0568_KanakaDurga_Akula_ipynb.ipynb\" target=\"_parent\"><img src=\"https://colab.research.google.com/assets/colab-badge.svg\" alt=\"Open In Colab\"/></a>"
      ]
    },
    {
      "cell_type": "markdown",
      "metadata": {
        "id": "6ie-3L0Mvx8V"
      },
      "source": [
        " 𝐄𝐗𝐄𝐑𝐂𝐈𝐒𝐄 𝟏:𝐁𝐀𝐒𝐈𝐂𝐒"
      ]
    },
    {
      "cell_type": "markdown",
      "metadata": {
        "id": "rcETUD-X2IRV"
      },
      "source": [
        "𝗮)𝗥𝘂𝗻𝗻𝗶𝗻𝗴  𝗶𝗻𝘀𝘁𝗿𝘂𝗰𝘁𝗶𝗼𝗻𝘀  𝗶𝗻 𝗶𝗻𝘁𝗲𝗿𝗮𝗰𝘁𝗶𝘃𝗲, 𝗶𝗻𝘁𝗲𝗿𝗽𝗿𝗲𝘁𝗲𝗿, 𝗽𝘆𝘁𝗵𝗼𝗻 𝘀𝗰𝗿𝗶𝗽𝘁 𝗺𝗼𝗱𝗲"
      ]
    },
    {
      "cell_type": "markdown",
      "metadata": {
        "id": "meyvZMEF2Npl"
      },
      "source": [
        "𝐀𝐈𝐌:To run instructions in interactive interpreter and in python script\n",
        "\n",
        "𝐃𝐄𝐒𝐂𝐑𝐈𝐏𝐓𝐈𝐎𝐍:\n",
        "Interactive mode provides us with a quick way of running blocks or a single line it executes via python shell, to access it type \"python\", which directs to>>>\n",
        "In Script mode write code in textfile with .py extension and save and run it  or run it at command promt as python filename.py"
      ]
    },
    {
      "cell_type": "code",
      "metadata": {
        "colab": {
          "base_uri": "https://localhost:8080/"
        },
        "id": "8fhe5PvlwOmy",
        "outputId": "9e40245d-504a-4eff-bf9f-6817c023c3e7"
      },
      "source": [
        "a=\"hello\"\n",
        "b=67.9\n",
        "print(type(a)) \n",
        "print(type(b))\n",
        "x=y=10\n",
        "print(id(x)) \n",
        "print(id(y)) \n",
        "print(\"welcome to devi's house\") \n",
        "print('Hello \"devi\"')"
      ],
      "execution_count": null,
      "outputs": [
        {
          "name": "stdout",
          "output_type": "stream",
          "text": [
            "<class 'str'>\n",
            "<class 'float'>\n",
            "94775883385632\n",
            "94775883385632\n",
            "welcome to devi's house\n",
            "Hello \"devi\"\n"
          ]
        }
      ]
    },
    {
      "cell_type": "markdown",
      "metadata": {
        "id": "D5WR0YzKw1-8"
      },
      "source": [
        "𝗯)𝘄𝗿𝗶𝘁𝗲 𝗮 𝗽𝗿𝗼𝗴𝗿𝗮𝗺 𝘁𝗼 𝗽𝘂𝗿𝗽𝗼𝘀𝗲𝗳𝘂𝗹𝗹𝘆 𝗿𝗮𝗶𝘀𝗲 𝗜𝗻𝗱𝗲𝗻𝘁𝗮𝘁𝗶𝗼𝗻 𝗘𝗿𝗿𝗼𝗿 𝗮𝗻𝗱 𝗖𝗼𝗿𝗿𝗲𝗰𝘁 𝗶𝘁"
      ]
    },
    {
      "cell_type": "markdown",
      "metadata": {
        "id": "wzikE_lA4Dci"
      },
      "source": [
        "𝐀𝐈𝐌:demonstrate a  program which raises indentation error and also correct it\n",
        "\n",
        "𝐃𝐄𝐒𝐂𝐑𝐈𝐏𝐓𝐈𝐎𝐍:Identation is a way of telling a python interpreter that the group of statements belong to a particular block of code"
      ]
    },
    {
      "cell_type": "code",
      "metadata": {
        "colab": {
          "base_uri": "https://localhost:8080/",
          "height": 163
        },
        "id": "pqXRWQMqw_jf",
        "outputId": "b3e2db6c-e3b2-4589-9c5b-866cea81ee66"
      },
      "source": [
        " \n",
        "#raise of indentation\n",
        "a=int(input(\" Enter a number :\")) \n",
        "  Print(\"value of a :\", a)\n",
        "if a>0 :\n",
        "print(a, \" is positive number\") \n",
        "#correction of it \n",
        "a=int(input(\" Enter a number :\")) \n",
        "Print(\"value of a :\", a)\n",
        "if a>0 : \n",
        "  print(a, \"is positive number\")"
      ],
      "execution_count": null,
      "outputs": [
        {
          "ename": "IndentationError",
          "evalue": "ignored",
          "output_type": "error",
          "traceback": [
            "\u001b[0;36m  File \u001b[0;32m\"<ipython-input-4-819ddb1268a8>\"\u001b[0;36m, line \u001b[0;32m4\u001b[0m\n\u001b[0;31m    Print(\"value of a :\", a)\u001b[0m\n\u001b[0m    ^\u001b[0m\n\u001b[0;31mIndentationError\u001b[0m\u001b[0;31m:\u001b[0m unexpected indent\n"
          ]
        }
      ]
    },
    {
      "cell_type": "markdown",
      "metadata": {
        "id": "i26U-TeNyb1J"
      },
      "source": [
        "𝐄𝐗𝐄𝐑𝐂𝐈𝐒𝐄-𝟐 :𝐎𝐏𝐄𝐑𝐀𝐓𝐈𝐎𝐍𝐒\n",
        "𝗮)𝘄𝗿𝗶𝘁𝗲 𝗮 𝗽𝗿𝗼𝗴𝗿𝗮𝗺 𝘁𝗼 𝗰𝗼𝗺𝗽𝘂𝘁𝗲 𝗱𝗶𝘀𝘁𝗮𝗻𝗰𝗲 𝗯𝗲𝘁𝘄𝗲𝗲𝗻 𝘁𝘄𝗼 𝗽𝗼𝗶𝗻𝘁𝘀 , 𝘁𝗮𝗸𝗶𝗻𝗴 𝘂𝘀𝗲𝗿 𝗶𝗻𝗽𝘂𝘁"
      ]
    },
    {
      "cell_type": "markdown",
      "metadata": {
        "id": "qVpDWlCi4tEl"
      },
      "source": [
        "𝐀𝐈𝐌:To find the distance between two points .  \n",
        "    \n",
        "𝐃𝐄𝐒𝐂𝐑𝐈𝐏𝐓𝐈𝐎𝐍:Let p1(x1, y1) , p2(x2,y2)be two points , d is the distance between them \n",
        "d=√(x2-x1)^2+(y2-y1)^2"
      ]
    },
    {
      "cell_type": "code",
      "metadata": {
        "id": "-h6n077tG6qd"
      },
      "source": [
        " \n",
        "#another way\n",
        "from math import  sqrt,pow\n",
        "x1=int(input(\"Enter x1 value:\")) \n",
        "y1=int(input(\"\\nEnter y1 value:\")) \n",
        "x2=int(input(\"\\nEnter x2 value:\")) \n",
        "y2=int(input(\"\\nEnter y2 value:\")) \n",
        "d=sqrt(pow((x2-x1),2)+pow((y2-y1),2) )\n",
        "print(\"\\nDistance of two points (%d, %d) and (%d, %d) is %f \"%(x1, y1, x2, y2, d))"
      ],
      "execution_count": null,
      "outputs": []
    },
    {
      "cell_type": "code",
      "metadata": {
        "id": "PAyfUowfG_ho"
      },
      "source": [
        "from math import  *\n",
        "x1=int(input(\"Enter x1 value:\")) \n",
        "y1=int(input(\"\\nEnter y1 value:\")) \n",
        "x2=int(input(\"\\nEnter x2 value:\")) \n",
        "y2=int(input(\"\\nEnter y2 value:\")) \n",
        "d=sqrt((x2-x1)**2+(y2-y1)**2) \n",
        "print(\"\\nDistance of two points (%d, %d) and (%d, %d) is %f \"%(x1, y1, x2, y2, d))"
      ],
      "execution_count": null,
      "outputs": []
    },
    {
      "cell_type": "markdown",
      "metadata": {
        "id": "VUms_4AdzDLM"
      },
      "source": [
        "𝗯)𝗪𝗿𝗶𝘁𝗲 𝗮 𝗽𝗿𝗼𝗴𝗿𝗮𝗺 𝗮𝗱𝗱. 𝗣𝘆 𝘁𝗵𝗮𝘁 𝘁𝗮𝗸𝗲𝘀 𝘁𝘄𝗼 𝗻𝘂𝗺𝗯𝗲𝗿𝘀 𝗼𝗻 𝗰𝗼𝗺𝗺𝗮𝗻𝗱 𝗹𝗶𝗻𝗲 𝗮𝗿𝗴𝘂𝗺𝗲𝗻𝘁𝘀 𝗮𝗻𝗱 𝗽𝗿𝗶𝗻𝘁 𝘁𝗵𝗲 𝘀𝘂𝗺"
      ]
    },
    {
      "cell_type": "markdown",
      "metadata": {
        "id": "dj7NtLpa5TWa"
      },
      "source": [
        "𝐀𝐈𝐌:Take two inputs as commandline arguments to print sum .    \n",
        " \n",
        "𝐃𝐄𝐒𝐂𝐑𝐈𝐏𝐓𝐈𝐎𝐍:\n",
        "step1:open notepad and write the following code after that save file as add.p\n",
        "step2:write code\n",
        "step3:open command prompt and type\n",
        "sys.argv[0] is the name of the current Python filename\n",
        ">python add.py 10 20"
      ]
    },
    {
      "cell_type": "code",
      "metadata": {
        "colab": {
          "base_uri": "https://localhost:8080/",
          "height": 235
        },
        "id": "h3KEve58zTTB",
        "outputId": "25606aa2-94b0-4d2d-97f8-77840494a353"
      },
      "source": [
        "import sys\n",
        "n1=int(sys.argv[1]) \n",
        "n2=int(sys.argv[2]) \n",
        "print(\" sum is :\", (n1+n2)) \n",
        "#in cmd python add.py 10 20"
      ],
      "execution_count": null,
      "outputs": [
        {
          "ename": "ValueError",
          "evalue": "ignored",
          "output_type": "error",
          "traceback": [
            "\u001b[0;31m---------------------------------------------------------------------------\u001b[0m",
            "\u001b[0;31mValueError\u001b[0m                                Traceback (most recent call last)",
            "\u001b[0;32m<ipython-input-1-085de5601e4c>\u001b[0m in \u001b[0;36m<module>\u001b[0;34m()\u001b[0m\n\u001b[1;32m      1\u001b[0m \u001b[0;32mimport\u001b[0m \u001b[0msys\u001b[0m\u001b[0;34m\u001b[0m\u001b[0;34m\u001b[0m\u001b[0m\n\u001b[0;32m----> 2\u001b[0;31m \u001b[0mn1\u001b[0m\u001b[0;34m=\u001b[0m\u001b[0mint\u001b[0m\u001b[0;34m(\u001b[0m\u001b[0msys\u001b[0m\u001b[0;34m.\u001b[0m\u001b[0margv\u001b[0m\u001b[0;34m[\u001b[0m\u001b[0;36m1\u001b[0m\u001b[0;34m]\u001b[0m\u001b[0;34m)\u001b[0m\u001b[0;34m\u001b[0m\u001b[0;34m\u001b[0m\u001b[0m\n\u001b[0m\u001b[1;32m      3\u001b[0m \u001b[0mn2\u001b[0m\u001b[0;34m=\u001b[0m\u001b[0mint\u001b[0m\u001b[0;34m(\u001b[0m\u001b[0msys\u001b[0m\u001b[0;34m.\u001b[0m\u001b[0margv\u001b[0m\u001b[0;34m[\u001b[0m\u001b[0;36m2\u001b[0m\u001b[0;34m]\u001b[0m\u001b[0;34m)\u001b[0m\u001b[0;34m\u001b[0m\u001b[0;34m\u001b[0m\u001b[0m\n\u001b[1;32m      4\u001b[0m \u001b[0mprint\u001b[0m\u001b[0;34m(\u001b[0m\u001b[0;34m\" sum is :\"\u001b[0m\u001b[0;34m,\u001b[0m \u001b[0;34m(\u001b[0m\u001b[0mn1\u001b[0m\u001b[0;34m+\u001b[0m\u001b[0mn2\u001b[0m\u001b[0;34m)\u001b[0m\u001b[0;34m)\u001b[0m\u001b[0;34m\u001b[0m\u001b[0;34m\u001b[0m\u001b[0m\n\u001b[1;32m      5\u001b[0m \u001b[0;31m#in cmd python add.py 10 20\u001b[0m\u001b[0;34m\u001b[0m\u001b[0;34m\u001b[0m\u001b[0;34m\u001b[0m\u001b[0m\n",
            "\u001b[0;31mValueError\u001b[0m: invalid literal for int() with base 10: '-f'"
          ]
        }
      ]
    },
    {
      "cell_type": "code",
      "metadata": {
        "colab": {
          "background_save": true,
          "base_uri": "https://localhost:8080/"
        },
        "id": "n-yHQM7tqGgi",
        "outputId": "2d2bda1f-5180-475d-dfc8-e6e01b730079"
      },
      "source": [
        "!bash"
      ],
      "execution_count": null,
      "outputs": [
        {
          "name": "stdout",
          "output_type": "stream",
          "text": [
            "bash: cannot set terminal process group (66): Inappropriate ioctl for device\n",
            "bash: no job control in this shell\n",
            "\u001b[01;34m/content\u001b[00m# "
          ]
        }
      ]
    },
    {
      "cell_type": "markdown",
      "metadata": {
        "id": "VsXdpWjDzs8C"
      },
      "source": [
        "𝗘𝗫𝗖𝗘𝗥𝗦𝗖𝗜𝗦𝗘-𝟯: 𝗖𝗼𝗻𝘁𝗿𝗼𝗹 𝗙𝗹𝗼𝘄"
      ]
    },
    {
      "cell_type": "markdown",
      "metadata": {
        "id": "bahqH_Ni6WML"
      },
      "source": [
        "𝐚) 𝐖𝐫𝐢𝐭𝐞 𝐚 𝐏𝐫𝐨𝐠𝐫𝐚𝐦 𝐟𝐨𝐫 𝐜𝐡𝐞𝐜𝐤𝐢𝐧𝐠 𝐰𝐡𝐞𝐭𝐡𝐞𝐫 𝐭𝐡𝐞 𝐠𝐢𝐯𝐞𝐧 𝐧𝐮𝐦𝐛𝐞𝐫 𝐢𝐬 𝐚𝐧 𝐞𝐯𝐞𝐧 𝐧𝐮𝐦𝐛𝐞𝐫 𝐨𝐫 𝐧𝐨𝐭."
      ]
    },
    {
      "cell_type": "markdown",
      "metadata": {
        "id": "SFkUehXX9ruP"
      },
      "source": [
        "\n",
        "\n",
        "𝐀𝐈𝐌:To write a program for checking the given number is even or not                   \n",
        "𝐃𝐄𝐒𝐂𝐑𝐈𝐏𝐓𝐈𝐎𝐍:Even number:a number is divisible by 2"
      ]
    },
    {
      "cell_type": "code",
      "metadata": {
        "colab": {
          "base_uri": "https://localhost:8080/"
        },
        "id": "vbuybd8lz0Pl",
        "outputId": "ab439bbb-5179-4b62-8f69-47b0ffdd8e61"
      },
      "source": [
        "n=int(input(\"Enter a number:\")) \n",
        "if n%2==0:\n",
        "    print(\"Given number is even\") \n",
        "else:\n",
        "  print(\"Given number is odd\")"
      ],
      "execution_count": null,
      "outputs": [
        {
          "name": "stdout",
          "output_type": "stream",
          "text": [
            "Entera number:10\n",
            "Given number is even\n"
          ]
        }
      ]
    },
    {
      "cell_type": "markdown",
      "metadata": {
        "id": "vSlHFB-uz_dJ"
      },
      "source": [
        " 𝐛) 𝐔𝐬𝐢𝐧𝐠 𝐚 𝐟𝐨𝐫 𝐥𝐨𝐨𝐩, 𝐰𝐫𝐢𝐭𝐞 𝐚 𝐩𝐫𝐨𝐠𝐫𝐚𝐦 𝐭𝐡𝐚𝐭 𝐩𝐫𝐢𝐧𝐭𝐬 𝐨𝐮𝐭 𝐭𝐡𝐞 𝐝𝐞𝐜𝐢𝐦𝐚𝐥 𝐞𝐪𝐮𝐢𝐯𝐚𝐥𝐞𝐧𝐭𝐬 𝐨𝐟 𝟏/𝟐, 𝟏/𝟑, 𝟏/𝟒, . . .𝟏/𝟏𝟎"
      ]
    },
    {
      "cell_type": "markdown",
      "metadata": {
        "id": "Zd1_9a_99yzE"
      },
      "source": [
        "\n",
        "\n",
        "𝐀𝐈𝐌:To write a program using for loop to print 1/2,......1/10 values   \n",
        "  \n",
        "𝐃𝐄𝐒𝐂𝐑𝐈𝐏𝐓𝐈𝐎𝐍:Numerator is constant i.e., 1 and denominator is from 2 to 10"
      ]
    },
    {
      "cell_type": "code",
      "metadata": {
        "colab": {
          "base_uri": "https://localhost:8080/"
        },
        "id": "AuW_fpDD0EcD",
        "outputId": "54db4737-38fc-4b1f-8a20-eee400ed4550"
      },
      "source": [
        "n=int(input(\"Enter a number:\")) \n",
        "for i in range(2, n+1) :\n",
        "   de=1/i\n",
        "   print(\"1/\"+str(i) +\"=\", de)\n",
        "   #print(\"1/\"+str(i) +\"=\", str(1/i))"
      ],
      "execution_count": null,
      "outputs": [
        {
          "name": "stdout",
          "output_type": "stream",
          "text": [
            "Enter a number:10\n",
            "1/2= 0.5\n",
            "1/3= 0.3333333333333333\n",
            "1/4= 0.25\n",
            "1/5= 0.2\n",
            "1/6= 0.16666666666666666\n",
            "1/7= 0.14285714285714285\n",
            "1/8= 0.125\n",
            "1/9= 0.1111111111111111\n",
            "1/10= 0.1\n"
          ]
        }
      ]
    },
    {
      "cell_type": "markdown",
      "metadata": {
        "id": "Qx6ssPU90bOo"
      },
      "source": [
        " 𝐜) 𝐖𝐫𝐢𝐭𝐞 𝐚 𝐩𝐫𝐨𝐠𝐫𝐚𝐦 𝐮𝐬𝐢𝐧𝐠 𝐚 𝐟𝐨𝐫 𝐥𝐨𝐨𝐩 𝐭𝐡𝐚𝐭 𝐥𝐨𝐨𝐩𝐬 𝐨𝐯𝐞𝐫 𝐚 𝐬𝐞𝐪𝐮𝐞𝐧𝐜𝐞. 𝐖𝐡𝐚𝐭 𝐢𝐬 𝐬𝐞𝐪𝐮𝐞𝐧𝐜𝐞?"
      ]
    },
    {
      "cell_type": "markdown",
      "metadata": {
        "id": "B8cMCb8rAswe"
      },
      "source": [
        "\n",
        "\n",
        "𝐀𝐈𝐌:To write a program using for loop to a sequence \n",
        "      \n",
        "𝐃𝐄𝐒𝐂𝐑𝐈𝐏𝐓𝐈𝐎𝐍:sequence allows us to store multiple values in an organized way. A sequence is a succession of values bound together by a container that reflects their type. Almost every stream that you put in python is a sequence. Inside the square brackets a sequence of values is separated by comma is called a list"
      ]
    },
    {
      "cell_type": "code",
      "metadata": {
        "colab": {
          "base_uri": "https://localhost:8080/"
        },
        "id": "BRvWyyjK0hMS",
        "outputId": "cd0636d3-7ab6-46ee-aae4-e54fbedef4b3"
      },
      "source": [
        "print(\"Number sequence:\",end=' ') \n",
        "num=[45, 2,6,-7]\n",
        "for i in num:\n",
        "  print(i,end=' ') \n",
        "print(\"\\nString sequence:\",end=' ') \n",
        "days=[\"sun\",\"mon\" ,\"tues\"]\n",
        "for i in days:\n",
        "  print(i, end=' ')\n",
        "print(\"\\nMulti Data:\",end =' ') \n",
        "arr=[45,\"abc\",'c', -7]\n",
        "for i in arr:\n",
        "  print(i, end=' ')"
      ],
      "execution_count": null,
      "outputs": [
        {
          "name": "stdout",
          "output_type": "stream",
          "text": [
            "Number sequence: 45 2 6 -7 \n",
            "String sequence: sun mon tues \n",
            "Multi Data: 45 abc c -7 "
          ]
        }
      ]
    },
    {
      "cell_type": "markdown",
      "metadata": {
        "id": "2HEf0-Hr06CB"
      },
      "source": [
        " 𝐝) 𝐖𝐫𝐢𝐭𝐞 𝐚 𝐩𝐫𝐨𝐠𝐫𝐚𝐦 𝐮𝐬𝐢𝐧𝐠 𝐚 𝐰𝐡𝐢𝐥𝐞 𝐥𝐨𝐨𝐩 𝐭𝐡𝐚𝐭 𝐚𝐬𝐤𝐬 𝐭𝐡𝐞 𝐮𝐬𝐞𝐫 𝐟𝐨𝐫 𝐚 𝐧𝐮𝐦𝐛𝐞𝐫, 𝐚𝐧𝐝 𝐩𝐫𝐢𝐧𝐭𝐬 𝐚 𝐜𝐨𝐮𝐧𝐭𝐝𝐨𝐰𝐧𝐟𝐫𝐨𝐦 𝐭𝐡𝐚𝐭 𝐧𝐮𝐦𝐛𝐞𝐫 𝐭𝐨 𝐳𝐞𝐫𝐨"
      ]
    },
    {
      "cell_type": "markdown",
      "metadata": {
        "id": "oUBOBzXV_Qmb"
      },
      "source": [
        " \n",
        "𝐀𝐈𝐌:To write a program using while loop which prints the number to zero\n",
        " \n",
        "𝐃𝐄𝐒𝐂𝐑𝐈𝐏𝐓𝐈𝐎𝐍:Taking input from user to print from that number to zero by decreminating it by 1"
      ]
    },
    {
      "cell_type": "code",
      "metadata": {
        "colab": {
          "base_uri": "https://localhost:8080/"
        },
        "id": "6-Bsyorb0-fa",
        "outputId": "65c1ba6c-a3a2-43af-89cd-2d36bdf737bd"
      },
      "source": [
        "n=int(input(\"Enter a number:\")) \n",
        "print(\" Countdown from given number to zero:\", end=' ') \n",
        "while n>0:\n",
        "  print(n, end=' ') \n",
        "  n=n-1"
      ],
      "execution_count": null,
      "outputs": [
        {
          "name": "stdout",
          "output_type": "stream",
          "text": [
            "Enter a number:5\n",
            " Countdown from given number to zero: 5 4 3 2 1 "
          ]
        }
      ]
    },
    {
      "cell_type": "markdown",
      "metadata": {
        "id": "8B8mBUoU68IN"
      },
      "source": [
        " 𝗘𝗫𝗖𝗘𝗥𝗖𝗜𝗦𝗘-𝟰 \n",
        "𝐚) 𝐅𝐢𝐧𝐝 𝐭𝐡𝐞 𝐬𝐮𝐦 𝐨𝐟 𝐚𝐥𝐥 𝐭𝐡𝐞 𝐩𝐫𝐢𝐦𝐞𝐬 𝐛𝐞𝐥𝐨𝐰 𝐭𝐰𝐨 𝐦𝐢𝐥𝐥𝐢𝐨𝐧."
      ]
    },
    {
      "cell_type": "markdown",
      "metadata": {
        "id": "4GQcVF_bAYQI"
      },
      "source": [
        "\n",
        "\n",
        "𝐀𝐈𝐌:To write a program for sum of all the primes below two million\n",
        "\n",
        "𝐃𝐄𝐒𝐂𝐑𝐈𝐏𝐓𝐈𝐎𝐍:Take input as two million(2000000) and find the prime numbers sum below the given number"
      ]
    },
    {
      "cell_type": "code",
      "metadata": {
        "id": "b5lBjzsn7K1G",
        "colab": {
          "base_uri": "https://localhost:8080/"
        },
        "outputId": "b84c8413-3944-448b-88b4-b2d86a2f3541"
      },
      "source": [
        "n=int(input(\"Enter a number:\")) \n",
        "sum=0\n",
        "st=\" \"\n",
        "for i in range(2, n) :\n",
        "      state=True\n",
        "      for j in range(2,i) :\n",
        "           if i%j==0:\n",
        "              state=False \n",
        "              break\n",
        "      if state==True :\n",
        "         st+=\" \" +str(i) \n",
        "         sum+=i\n",
        "print(\"sum of prime numbers below \",n, \" is :\",sum)"
      ],
      "execution_count": null,
      "outputs": [
        {
          "output_type": "stream",
          "name": "stdout",
          "text": [
            "Enter a number:200\n",
            "sum of prime numbers below  200  is : 4227\n"
          ]
        }
      ]
    },
    {
      "cell_type": "markdown",
      "metadata": {
        "id": "ClGssaZ77x3l"
      },
      "source": [
        " 𝐛)𝐄𝐚𝐜𝐡 𝐧𝐞𝐰 𝐭𝐞𝐫𝐦 𝐢𝐧 𝐭𝐡𝐞 𝐅𝐢𝐛𝐨𝐧𝐚𝐜𝐜𝐢 𝐬𝐞𝐪𝐮𝐞𝐧𝐜𝐞 𝐢𝐬 𝐠𝐞𝐧𝐞𝐫𝐚𝐭𝐞𝐝 𝐛𝐲 𝐚𝐝𝐝𝐢𝐧𝐠 𝐭𝐡𝐞 𝐩𝐫𝐞𝐯𝐢𝐨𝐮𝐬 𝐭𝐰𝐨 𝐭𝐞𝐫𝐦𝐬. 𝐁𝐲𝐬𝐭𝐚𝐫𝐭𝐢𝐧𝐠 𝐰𝐢𝐭𝐡 𝟏 𝐚𝐧𝐝 𝟐, 𝐭𝐡𝐞 𝐟𝐢𝐫𝐬𝐭 𝟏𝟎 𝐭𝐞𝐫𝐦𝐬 𝐰𝐢𝐥𝐥 𝐛𝐞: 𝟏, 𝟐, 𝟑, 𝟓, 𝟖, 𝟏𝟑, 𝟐𝟏, 𝟑𝟒, 𝟓𝟓, 𝟖𝟗, ..."
      ]
    },
    {
      "cell_type": "markdown",
      "metadata": {
        "id": "4fqyfVAjBUDJ"
      },
      "source": [
        " \n",
        "𝐀𝐈𝐌:To write a program for the taken term fibonacci sequence   \n",
        "\n",
        "𝐃𝐄𝐒𝐂𝐑𝐈𝐏𝐓𝐈𝐎𝐍:A Fibonacci sequence is the integer sequence of 0, 1, 1, 2, 3, 5, 8....\n",
        "The first two terms are 0 and 1. All other terms are obtained by adding the preceding two terms. \n",
        "This means to say the nth term is the sum of (n-1)th and (n-2)th term\n",
        "Here, we store the number of terms in nterms. We initialize the first term to 0 and the second \n",
        "term to 1."
      ]
    },
    {
      "cell_type": "code",
      "metadata": {
        "colab": {
          "base_uri": "https://localhost:8080/"
        },
        "id": "bRAiq_m-74Vg",
        "outputId": "d84d1491-2e41-4903-f6a2-903686a83dea"
      },
      "source": [
        "n=int(input(\"Enter a number(term) :\")) \n",
        "a, b=0, 1\n",
        "c=a+b\n",
        "st=\" \"\n",
        "while c<n:\n",
        "   st+=\" \"+ str(c) \n",
        "   a=b\n",
        "   b=c\n",
        "   c=a+b\n",
        "print(\"Fibonacci sequence for the term\", n, \":\",end=' ') \n",
        "print(st)"
      ],
      "execution_count": null,
      "outputs": [
        {
          "name": "stdout",
          "output_type": "stream",
          "text": [
            "Enter a number(term) :10\n",
            " Fibonacci sequence for the term 10 :   1 2 3 5 8\n"
          ]
        }
      ]
    },
    {
      "cell_type": "markdown",
      "metadata": {
        "id": "Z2PeC_xg-A-1"
      },
      "source": [
        " 𝐜) 𝐁𝐲 𝐜𝐨𝐧𝐬𝐢𝐝𝐞𝐫𝐢𝐧𝐠 𝐭𝐡𝐞 𝐭𝐞𝐫𝐦𝐬 𝐢𝐧 𝐭𝐡𝐞 𝐅𝐢𝐛𝐨𝐧𝐚𝐜𝐜𝐢 𝐬𝐞𝐪𝐮𝐞𝐧𝐜𝐞 𝐰𝐡𝐨𝐬𝐞 𝐯𝐚𝐥𝐮𝐞𝐬 𝐝𝐨 𝐧𝐨𝐭 𝐞𝐱𝐜𝐞𝐞𝐝 𝐟𝐨𝐮𝐫 𝐦𝐢𝐥𝐥𝐢𝐨𝐧,𝐟𝐢𝐧𝐝 𝐭𝐡𝐞 𝐬𝐮𝐦 𝐨𝐟 𝐭𝐡𝐞 𝐞𝐯𝐞𝐧-𝐯𝐚𝐥𝐮𝐞𝐝 𝐭𝐞𝐫𝐦𝐬."
      ]
    },
    {
      "cell_type": "markdown",
      "metadata": {
        "id": "bmltAoEOEjud"
      },
      "source": [
        "\n",
        "\n",
        "𝐀𝐈𝐌:To write a program to find sum of the evenvalued terms below four million\n",
        "\n",
        "𝐃𝐄𝐒𝐂𝐑𝐈𝐏𝐓𝐈𝐎𝐍:check the each fibonnaci value as it is an even number, then calculate it's sum"
      ]
    },
    {
      "cell_type": "code",
      "metadata": {
        "colab": {
          "base_uri": "https://localhost:8080/"
        },
        "id": "JIc3ww5bBg45",
        "outputId": "a7442065-ae99-4f9a-f658-3ad82d5ff1d7"
      },
      "source": [
        "n=int(input(\"Entera number:\")) \n",
        "a, b=0, 1\n",
        "c=a+b\n",
        "st=\" \"\n",
        "sum=0\n",
        "while c<n:\n",
        "   st+=\" \"+ str(c) \n",
        "   if c%2==0:\n",
        "       sum+=c\n",
        "   a=b\n",
        "   b=c\n",
        "   c=a+b\n",
        "print(\"sum of evenvalued terms in fibonnaci numbers :\", sum)"
      ],
      "execution_count": null,
      "outputs": [
        {
          "output_type": "stream",
          "name": "stdout",
          "text": [
            "Entera number:10\n",
            "sum of evenvalued terms in fibonnaci numbers : 10\n"
          ]
        }
      ]
    },
    {
      "cell_type": "markdown",
      "metadata": {
        "id": "P10yPE6WAuR4"
      },
      "source": [
        " \n",
        "𝗘𝘅𝗲𝗿𝗰𝗶𝘀𝗲-𝟱\n",
        " 𝐚) 𝐖𝐫𝐢𝐭𝐞 𝐚 𝐩𝐫𝐨𝐠𝐫𝐚𝐦 𝐭𝐨 𝐜𝐨𝐮𝐧𝐭 𝐭𝐡𝐞 𝐧𝐮𝐦𝐛𝐞𝐫𝐬 𝐨𝐟 𝐜𝐡𝐚𝐫𝐚𝐜𝐭𝐞𝐫𝐬 𝐢𝐧 𝐭𝐡𝐞 𝐬𝐭𝐫𝐢𝐧𝐠 𝐚𝐧𝐝 𝐬𝐭𝐨𝐫𝐞 𝐭𝐡𝐞𝐦 𝐢𝐧 𝐚𝐝𝐢𝐜𝐭𝐢𝐨𝐧𝐚𝐫𝐲 𝐝𝐚𝐭𝐚 𝐬𝐭𝐫𝐮𝐜𝐭𝐮𝐫𝐞"
      ]
    },
    {
      "cell_type": "markdown",
      "metadata": {
        "id": "f0vZuox3FgRu"
      },
      "source": [
        "\n",
        "\n",
        "𝐀𝐈𝐌:To write a program to count the numbers in the string and store them in a dictionary data structure\n",
        "\n",
        "𝐃𝐄𝐒𝐂𝐑𝐈𝐏𝐓𝐈𝐎𝐍:Given a string, the task is to find the frequencies of all the characters in that string and return a \n",
        "dictionary with key as the character and its value as its frequency in the given string."
      ]
    },
    {
      "cell_type": "code",
      "metadata": {
        "colab": {
          "base_uri": "https://localhost:8080/"
        },
        "id": "AN3NQgnaBDTX",
        "outputId": "a3278730-7326-469e-dafa-3e5bac9a81b6"
      },
      "source": [
        "name=input(\"Enter a Name:\") \n",
        "dic={}\n",
        "for ch in name:\n",
        "   keys=dic.keys() \n",
        "   if ch in keys:\n",
        "     dic[ch]=dic[ch]+1\n",
        "   else:\n",
        "      dic[ch]=1\n",
        "print(\" Dictionary is :\", dic)"
      ],
      "execution_count": null,
      "outputs": [
        {
          "name": "stdout",
          "output_type": "stream",
          "text": [
            "Enter a Name:Kanaka\n",
            " Dictionary is : {'K': 1, 'a': 3, 'n': 1, 'k': 1}\n"
          ]
        }
      ]
    },
    {
      "cell_type": "markdown",
      "metadata": {
        "id": "fzDgpQ-2Besh"
      },
      "source": [
        "𝐛) 𝐖𝐫𝐢𝐭𝐞 𝐚 𝐩𝐫𝐨𝐠𝐫𝐚𝐦 𝐭𝐨 𝐮𝐬𝐞 𝐬𝐩𝐥𝐢𝐭 𝐚𝐧𝐝 𝐣𝐨𝐢𝐧 𝐦𝐞𝐭𝐡𝐨𝐝𝐬 𝐢𝐧 𝐭𝐡𝐞 𝐬𝐭𝐫𝐢𝐧𝐠 𝐚𝐧𝐝 𝐭𝐫𝐚𝐜𝐞 𝐚 𝐛𝐢𝐫𝐭𝐡𝐝𝐚𝐲 𝐰𝐢𝐭𝐡 𝐚𝐝𝐢𝐜𝐭𝐢𝐨𝐧𝐚𝐫𝐲 𝐝𝐚𝐭𝐚 𝐬𝐭𝐫𝐮𝐜𝐭𝐮𝐫𝐞."
      ]
    },
    {
      "cell_type": "markdown",
      "metadata": {
        "id": "KwlYnBztGDIJ"
      },
      "source": [
        " \n",
        "𝐀𝐈𝐌:To write a program to trace a birthday with a dictionary data structure using split and join methods in the string\n",
        "\n",
        "𝐃𝐄𝐒𝐂𝐑𝐈𝐏𝐓𝐈𝐎𝐍:Split a string can be quite useful sometimes, especially when you need only certain parts of strings. A simple yet effective example is splitting the First-name and Last-name of a person"
      ]
    },
    {
      "cell_type": "code",
      "metadata": {
        "colab": {
          "base_uri": "https://localhost:8080/"
        },
        "id": "gMfCFEl4B0D1",
        "outputId": "a27dde8e-1507-4289-b9a5-9611e7707c06"
      },
      "source": [
        "dob={\"Mr.k\":\"01-01-2010\", \"Mr.D\":\" 01-12-2007\"}\n",
        "name =input(\"which person DoB you want to know:\")\n",
        "l=name.split()\n",
        "birth=\"\"\n",
        "for i in l:\n",
        "    if i in dob.keys():\n",
        "        pers=i\n",
        "        print(\"\".join([pers,\" birthday is:\",dob[pers]]))"
      ],
      "execution_count": null,
      "outputs": [
        {
          "name": "stdout",
          "output_type": "stream",
          "text": [
            "which person DoB you want to know:i want Mr.D birthday\n",
            "Mr.D birthdayis: 01-12-2007\n"
          ]
        }
      ]
    },
    {
      "cell_type": "markdown",
      "metadata": {
        "id": "SaEgkUUhC7VS"
      },
      "source": [
        " 𝗘𝘅𝗲𝗿𝗰𝗶𝘀𝗲-𝟲\n",
        "𝐚) 𝐖𝐫𝐢𝐭𝐞 𝐚 𝐩𝐫𝐨𝐠𝐫𝐚𝐦 𝐜𝐨𝐦𝐛𝐢𝐧𝐞𝐥𝐢𝐬𝐭𝐬 𝐭𝐡𝐚𝐭 𝐜𝐨𝐦𝐛𝐢𝐧𝐞𝐬 𝐭𝐡𝐞𝐬𝐞 𝐥𝐢𝐬𝐭𝐬 𝐢𝐧𝐭𝐨 𝐚 𝐝𝐢𝐜𝐭𝐢𝐨𝐧𝐚𝐫𝐲."
      ]
    },
    {
      "cell_type": "markdown",
      "metadata": {
        "id": "0klD_4DvGNhT"
      },
      "source": [
        "\n",
        "\n",
        " 𝐀𝐈𝐌:To write  a program which combines the lists into a dictionary\n",
        "\n",
        "𝐃𝐄𝐒𝐂𝐑𝐈𝐏𝐓𝐈𝐎𝐍:declare a dictionary, and then run nested loop for both the lists and assign key \n",
        "and value pairs to from list values to dictionary.\n",
        "Most pythonic and generic method to perform this very task is by using zip(). This function pairs \n",
        "the list element with other list element at corresponding index in form of key-value pairs."
      ]
    },
    {
      "cell_type": "code",
      "metadata": {
        "colab": {
          "base_uri": "https://localhost:8080/"
        },
        "id": "HArJBalHDKi8",
        "outputId": "3c1a0c69-e535-4b54-a1f0-08116210f994"
      },
      "source": [
        "subj=[\" DAA\", \"OS\", \"DBMS\", \"P&S\", \"SE\"]\n",
        "marks=[85, 96,78,68,98,56]\n",
        "print(\"Subjects:\",subj)\n",
        "print(\"Marks:\", marks)\n",
        "dic=dict(zip(subj, marks))\n",
        "print(\"As Dictionary :\",dic)"
      ],
      "execution_count": null,
      "outputs": [
        {
          "name": "stdout",
          "output_type": "stream",
          "text": [
            "Subjects: [' DAA', 'OS', 'DBMS', 'P&S', 'SE']\n",
            "Marks: [85, 96, 78, 68, 98, 56]\n",
            "As Dictionary : {' DAA': 85, 'OS': 96, 'DBMS': 78, 'P&S': 68, 'SE': 98}\n"
          ]
        }
      ]
    },
    {
      "cell_type": "markdown",
      "metadata": {
        "id": "uTnpMqk_DqVS"
      },
      "source": [
        " 𝐛) 𝐖𝐫𝐢𝐭𝐞 𝐚 𝐩𝐫𝐨𝐠𝐫𝐚𝐦 𝐭𝐨 𝐜𝐨𝐮𝐧𝐭 𝐟𝐫𝐞𝐪𝐮𝐞𝐧𝐜𝐲 𝐨𝐟 𝐜𝐡𝐚𝐫𝐚𝐜𝐭𝐞𝐫𝐬 𝐢𝐧 𝐚 𝐠𝐢𝐯𝐞𝐧 𝐟𝐢𝐥𝐞.𝐜𝐚𝐧 𝐲𝐨𝐮 𝐮𝐬𝐞 𝐜𝐡𝐚𝐫𝐚𝐜𝐭𝐞𝐫𝐟𝐫𝐞𝐪𝐮𝐞𝐧𝐜𝐲 𝐭𝐞𝐥𝐥 𝐰𝐡𝐞𝐭𝐡𝐞𝐫 𝐭𝐡𝐞 𝐠𝐢𝐯𝐞𝐧 𝐟𝐢𝐥𝐞 𝐢𝐬 𝐚 𝐏𝐲𝐭𝐡𝐨𝐧 𝐩𝐫𝐨𝐠𝐫𝐚𝐦 𝐟𝐢𝐥𝐞, 𝐂 𝐩𝐫𝐨𝐠𝐫𝐚𝐦 𝐟𝐢𝐥𝐞 𝐨𝐫 𝐚 𝐭𝐞𝐱𝐭 𝐟𝐢𝐥𝐞"
      ]
    },
    {
      "cell_type": "markdown",
      "metadata": {
        "id": "4rvl4vC6GX3x"
      },
      "source": [
        " \n",
        " \n",
        " 𝐀𝐈𝐌:To Write a program to count frequency of characters in a given file. Can you use\n",
        "characterfrequency to tell whether the given file is a Python program file, C program file or a text \n",
        "file?\n",
        " \n",
        "𝐃𝐄𝐒𝐂𝐑𝐈𝐏𝐓𝐈𝐎𝐍:For counting 𝐭he number of times a letter appears in a text file in Python.Using the inbuilt count() method.\n",
        "Approach:\n",
        "1. Read the file.\n",
        "2. Store the content of the file in a variable.\n",
        "3. Use the count() method with the argument as a letter whose frequency is required.\n",
        "4. Display the count of the letter."
      ]
    },
    {
      "cell_type": "code",
      "metadata": {
        "id": "3-HTEOyUDv_B"
      },
      "source": [
        "filetypes=['.py','.c','.txt']\n",
        "fn=input(\"Enter the file name:\")\n",
        "f=open(fn,\"r\")\n",
        "count=dict()\n",
        "\n",
        "print(\"Given file is\",end=\"\")\n",
        "for ft in filetypes:\n",
        "  if(ft in fn):\n",
        "    if(ft=='.py'):\n",
        "      print(\"Python file\")\n",
        "    elif(ft=='.c'):\n",
        "      print(\"C File\")\n",
        "    elif(ft=='.txt'):\n",
        "       print(\"Text File\")\n",
        "for line in f:\n",
        "  for ch in line:\n",
        "    if ch in count:\n",
        "      count[ch]=count[ch]+1\n",
        "    else:\n",
        "      count[ch]=1\n",
        "print(count)\n",
        "f.close()\n",
        "\n",
        "    "
      ],
      "execution_count": null,
      "outputs": []
    },
    {
      "cell_type": "markdown",
      "metadata": {
        "id": "XHUnIT95Da29"
      },
      "source": [
        "Enter the file name:data.txt\n",
        "Given file isText File\n",
        "{'M': 2, 'y': 1, ' ': 5, 'n': 2, 'a': 3, 'm': 1, 'e': 1, 'i': 4, 's': 1, 'o': 1, 'u': 1, 'k': 1, 'S': 1, 'r': 1, 'V': 1, 'l': 2}"
      ]
    },
    {
      "cell_type": "markdown",
      "metadata": {
        "id": "gelxljexFFFm"
      },
      "source": [
        " 𝗘𝘅𝗲𝗿𝗰𝗶𝘀𝗲-𝟳\n",
        "𝐚) 𝐖𝐫𝐢𝐭𝐞 𝐚 𝐩𝐫𝐨𝐠𝐫𝐚𝐦 𝐭𝐨 𝐩𝐫𝐢𝐧𝐭 𝐞𝐚𝐜𝐡 𝐥𝐢𝐧𝐞 𝐨𝐟 𝐚 𝐟𝐢𝐥𝐞 𝐢𝐧 𝐫𝐞𝐯𝐞𝐫𝐬𝐞 𝐨𝐫𝐝𝐞𝐫."
      ]
    },
    {
      "cell_type": "markdown",
      "metadata": {
        "id": "hOXM1p9KGjuX"
      },
      "source": [
        " \n",
        "𝐀𝐈𝐌:To Write a program to print each line of a file in reverse order.\n",
        "\n",
        "𝐃𝐄𝐒𝐂𝐑𝐈𝐏𝐓𝐈𝐎𝐍:\n",
        "The file handling plays an important role when the data needs to be stored permanently into the \n",
        "file. A file is a named location on disk to store related information. We can access the stored\n",
        "information (non-volatile) after the program termination. In Python, files are treated in two \n",
        "modes as text or binary. The file may be in the text or binary format, and each line of a file is \n",
        "ended with the special character. Hence, a file operation can be done in the following order.\n",
        "□ Open a file\n",
        "□ Read or write - Performing operation\n",
        "□ Close the file"
      ]
    },
    {
      "cell_type": "code",
      "metadata": {
        "id": "XGGEJHmVFH25"
      },
      "source": [
        "obj=open(\"/content/sample_data/file.txt\", \"r\") \n",
        "if obj:\n",
        "    st=obj.read()\n",
        "    print(\" File content is :\\n\", st)\n",
        "obj. close()\n",
        "lines=st.spilt(\"\\n\") \n",
        "for ln in  lines:\n",
        "   i=len(ln) -1\n",
        "   while(i>=0) :\n",
        "      print(ln[ch], end=' ')\n",
        "      i-=1\n",
        "   print()\n",
        "#7a another\n",
        " \n",
        "obj= open(\"pqr.txt\", \"r\") \n",
        " \n",
        "lines=obj.readlines()\n",
        " \n",
        "for ln in lines :\n",
        " \n",
        "     print(ln[::-1])"
      ],
      "execution_count": null,
      "outputs": []
    },
    {
      "cell_type": "markdown",
      "metadata": {
        "id": "uacWVLSzDzTO"
      },
      "source": [
        "File content is:\n",
        " My name is Mounika Sri Valli\n",
        "\n",
        "illaV irS akinuoM si eman yM"
      ]
    },
    {
      "cell_type": "markdown",
      "metadata": {
        "id": "BJ_3PjZ7FUZ8"
      },
      "source": [
        " 𝐛) 𝐖𝐫𝐢𝐭𝐞 𝐚 𝐩𝐫𝐨𝐠𝐫𝐚𝐦 𝐭𝐨 𝐜𝐨𝐦𝐩𝐮𝐭𝐞 𝐭𝐡𝐞 𝐧𝐮𝐦𝐛𝐞𝐫 𝐨𝐟 𝐜𝐡𝐚𝐫𝐚𝐜𝐭𝐞𝐫𝐬, 𝐰𝐨𝐫𝐝𝐬 𝐚𝐧𝐝 𝐥𝐢𝐧𝐞𝐬 𝐢𝐧 𝐚 𝐟𝐢𝐥𝐞."
      ]
    },
    {
      "cell_type": "markdown",
      "metadata": {
        "id": "xjVBBkBTGqMx"
      },
      "source": [
        " \n",
        "𝐀𝐈𝐌:To write a program to compute the number of characters, words and lines in a file\n",
        "\n",
        "𝐃𝐄𝐒𝐂𝐑𝐈𝐏𝐓𝐈𝐎𝐍:\n",
        "Given a text file fname, the task is to count the total number of characters, words, spaces and \n",
        "lines in the file."
      ]
    },
    {
      "cell_type": "code",
      "metadata": {
        "id": "7f11JSqMFYJK"
      },
      "source": [
        "obj=open(\"abc.txt\", \" r\")\n",
        "if obj:\n",
        "    st=obj.read()\n",
        "    print(\" File content is :\\n\", st)\n",
        "obj. close()\n",
        "print()\n",
        "nc=nw=nl=0\n",
        "for ch in st:\n",
        "   if(ch):\n",
        "       nc=nc+1\n",
        "   if(ch==' ') :\n",
        "      nw=nw+1\n",
        "   if(ch=='\\n'):\n",
        "      nw=nw+1\n",
        "      nl=nl+1\n",
        "print(\"Number of characters in a file is :\", nc)\n",
        "print(\"Number of words in a file is :\", nw) \n",
        "print(\"Number of lines in a file is :\", nl+1)"
      ],
      "execution_count": null,
      "outputs": []
    },
    {
      "cell_type": "markdown",
      "metadata": {
        "id": "yVIWKSEZD1PT"
      },
      "source": [
        "File Content:\n",
        "\n",
        "My name is Mounika Sri Valli\n",
        "\n",
        " No.of lines: 1 words: 6 characters: 28"
      ]
    },
    {
      "cell_type": "markdown",
      "metadata": {
        "id": "yz-BRIR2Gera"
      },
      "source": [
        " 𝗘𝘅𝗲𝗿𝗰𝗶𝘀𝗲-𝟴\n",
        "𝐚) 𝐖𝐫𝐢𝐭𝐞 𝐚 𝐟𝐮𝐧𝐜𝐭𝐢𝐨𝐧 𝐛𝐚𝐥𝐥 𝐜𝐨𝐥𝐥𝐢𝐝𝐞 𝐭𝐡𝐚𝐭 𝐭𝐚𝐤𝐞𝐬 𝐭𝐰𝐨 𝐛𝐚𝐥𝐥𝐬 𝐚𝐬 𝐩𝐚𝐫𝐚𝐦𝐞𝐭𝐞𝐫𝐬 𝐚𝐧𝐝 𝐜𝐨𝐦𝐩𝐮𝐭𝐞𝐬 𝐢𝐟 𝐭𝐡𝐞𝐲 𝐚𝐫𝐞𝐜𝐨𝐥𝐥𝐢𝐝𝐢𝐧𝐠. 𝐘𝐨𝐮𝐫 𝐟𝐮𝐧𝐜𝐭𝐢𝐨𝐧 𝐬𝐡𝐨𝐮𝐥𝐝 𝐫𝐞𝐭𝐮𝐫𝐧 𝐚 𝐁𝐨𝐨𝐥𝐞𝐚𝐧 𝐫𝐞𝐩𝐫𝐞𝐬𝐞𝐧𝐭𝐢𝐧𝐠 𝐰𝐡𝐞𝐭𝐡𝐞𝐫 𝐨𝐫 𝐧𝐨𝐭 𝐭𝐡𝐞 𝐛𝐚𝐥𝐥𝐬 𝐚𝐫𝐞𝐜𝐨𝐥𝐥𝐢𝐝𝐢𝐧𝐠. 𝐇𝐢𝐧𝐭: 𝐑𝐞𝐩𝐫𝐞𝐬𝐞𝐧𝐭 𝐚 𝐛𝐚𝐥𝐥 𝐨𝐧 𝐚 𝐩𝐥𝐚𝐧𝐞 𝐚𝐬 𝐚 𝐭𝐮𝐩𝐥𝐞 𝐨𝐟 (𝐱, 𝐲, 𝐫), 𝐫 𝐛𝐞𝐢𝐧𝐠 𝐭𝐡𝐞 𝐫𝐚𝐝𝐢𝐮𝐬 𝐈𝐟 (𝐝𝐢𝐬𝐭𝐚𝐧𝐜𝐞 𝐛𝐞𝐭𝐰𝐞𝐞𝐧 𝐭𝐰𝐨 𝐛𝐚𝐥𝐥𝐬 𝐜𝐞𝐧𝐭𝐞𝐫𝐬) <= (𝐬𝐮𝐦 𝐨𝐟 𝐭𝐡𝐞𝐢𝐫 𝐫𝐚𝐝𝐢𝐢) 𝐭𝐡𝐞𝐧 (𝐭𝐡𝐞𝐲 𝐚𝐫𝐞 𝐜𝐨𝐥𝐥𝐢𝐝𝐢𝐧𝐠)"
      ]
    },
    {
      "cell_type": "markdown",
      "metadata": {
        "id": "oh-nDOdmG-s7"
      },
      "source": [
        " \n",
        "𝐀𝐈𝐌:To write a function ball collide that takes two balls as parameters and computes if they \n",
        "arecolliding. Your function should return a Boolean representing whether or not the balls \n",
        "arecolliding.\n",
        "Hint: Represent a ball on a plane as a tuple of (x, y, r), r being the radius If (distance between two \n",
        "balls centers) <= (sum of their radii) then (they are colliding)\n",
        "\n",
        "𝐃𝐄𝐒𝐂𝐑𝐈𝐏𝐓𝐈𝐎𝐍:\n",
        "A function in python is a block of code that is defined for doing frequent operations in \n",
        "a particular task. The general format is\n",
        "def Functionname(arguments):\n",
        "Statements\n",
        "Calling a Function:\n",
        "A function can be called by its name followed by arguments within parenthesis. \n",
        "function()"
      ]
    },
    {
      "cell_type": "code",
      "metadata": {
        "colab": {
          "base_uri": "https://localhost:8080/"
        },
        "id": "FdGeXyrhGxEc",
        "outputId": "7c92f269-a64c-420d-b8af-e90e18e683d9"
      },
      "source": [
        "import math\n",
        "def ballcollide(b1tup,b2tup):\n",
        "    x1,y1,r1=b1tup\n",
        "    x2, y2,r2=b2tup\n",
        " \n",
        "    d=math.sqrt((x2-x1)**2+(y2-y1)**2)\n",
        "    if(d<=r1+r2):\n",
        "      return True\n",
        "    else:\n",
        "        return False\n",
        " \n",
        "ball1=(1,2,3)\n",
        "ball2=(3,2,1)\n",
        "c=ballcollide(ball1,ball2)\n",
        "if(c):\n",
        "    print(\"balls are collide\")\n",
        "else:\n",
        "    print(\"ball are not collide\")"
      ],
      "execution_count": null,
      "outputs": [
        {
          "name": "stdout",
          "output_type": "stream",
          "text": [
            "balls are collide\n"
          ]
        }
      ]
    },
    {
      "cell_type": "markdown",
      "metadata": {
        "id": "je_F-mQGG6z9"
      },
      "source": [
        "𝐓𝐚𝐤𝐢𝐧𝐠 𝐢𝐧𝐩𝐮𝐭 𝐟𝐫𝐨𝐦 𝐮𝐬𝐞𝐫 𝐟𝐨𝐫 𝟖𝐚"
      ]
    },
    {
      "cell_type": "code",
      "metadata": {
        "colab": {
          "base_uri": "https://localhost:8080/"
        },
        "id": "FxOwg7rmG_lC",
        "outputId": "b01ab363-ef0c-4c1f-e115-e03283cc12ca"
      },
      "source": [
        "import math\n",
        "def ball(b1tup, b2tup):\n",
        "     x1=int(b1tup[0])\n",
        "     y1=int(b1tup[1])\n",
        "     r1=int(b1tup[2])\n",
        "     x2=int(b2tup[0])\n",
        "     y2=int(b2tup[1]) \n",
        "     r2=int(b2tup[2])\n",
        "    #print(x1, y1, r1, sep=' ') \n",
        "     d=math.sqrt((x2-x1) **2+(y2-y1)**2)\n",
        "     if d<=r1+r2 :\n",
        "        return  True\n",
        "     else :\n",
        "        return False\n",
        "def  input_taking():\n",
        "      print(\"Input ball coordinates and radius  seprated by comma: \")\n",
        "      tup=tuple(map(int,input().split(',')))\n",
        "      return tup\n",
        "x=input_taking()\n",
        "y=input_taking()\n",
        "print(\" ball1:\",x)\n",
        "print(\" ball2:\",y)\n",
        " \n",
        "collision=ball(x, y)\n",
        "if collision:\n",
        "   print(\"Balls are collide\") \n",
        "else :\n",
        "  print(\"Balls are not collide\")"
      ],
      "execution_count": null,
      "outputs": [
        {
          "name": "stdout",
          "output_type": "stream",
          "text": [
            "Input ball coordinates and radius  seprated by comma: \n",
            "10,20,30\n",
            "Input ball coordinates and radius  seprated by comma: \n",
            "5,15,25\n",
            " ball1: (10, 20, 30)\n",
            " ball2: (5, 15, 25)\n",
            "Balls are collide\n"
          ]
        }
      ]
    },
    {
      "cell_type": "code",
      "metadata": {
        "colab": {
          "base_uri": "https://localhost:8080/"
        },
        "id": "sxsWAnmdHS-V",
        "outputId": "5629d0c6-9158-4502-e668-70617ed59ebf"
      },
      "source": [
        "import math\n",
        "def ball(b1tup, b2tup):\n",
        "     x1, y1, r1=b1tup\n",
        "     x2, y2, r2=b2tup\n",
        "     d=math.sqrt((x2-x1) **2+(y2-y1)**2)\n",
        "     if d<=r1+r2 :\n",
        "        return  True\n",
        "     else :\n",
        "        return False\n",
        "#takes string input then converts to  int then to tuple    \n",
        "def  input_taking():\n",
        "     input_string = input('Enter elements of a list separated by space ')\n",
        "     print()\n",
        "     user_list = input_string.split()\n",
        "     #printing list (strings)\n",
        "     print(\"list strings:\", user_list)\n",
        "     for i in range(len(user_list)):\n",
        "          # converting string to  int\n",
        "          user_list[i] = int(user_list[i])\n",
        "     #print list (integers)\n",
        "     print(\"list integers:\",user_list) \n",
        "     #converting list to tuple\n",
        "     user_list= tuple(user_list)\n",
        "     #print tuple(integers) \n",
        "     print(\" tuple integers:\", user_list)\n",
        "     return user_list\n",
        "     \n",
        "      \n",
        "x=input_taking() \n",
        "y=input_taking()\n",
        "print(\" Ball1:\",x)\n",
        "print(\" Ball2:\",y)\n",
        "collision=ball(x, y)\n",
        " \n",
        "if collision:\n",
        " \n",
        "   print(\"Balls are collide\") \n",
        " \n",
        "else :\n",
        " \n",
        "  print(\"Balls are not collide\")"
      ],
      "execution_count": null,
      "outputs": [
        {
          "name": "stdout",
          "output_type": "stream",
          "text": [
            "Enter elements of a list separated by space 1 2 3\n",
            "\n",
            "list strings: ['1', '2', '3']\n",
            "list integers: [1, 2, 3]\n",
            " tuple integers: (1, 2, 3)\n",
            "Enter elements of a list separated by space 5 6 7\n",
            "\n",
            "list strings: ['5', '6', '7']\n",
            "list integers: [5, 6, 7]\n",
            " tuple integers: (5, 6, 7)\n",
            " Ball1: (1, 2, 3)\n",
            " Ball2: (5, 6, 7)\n",
            "Balls are collide\n"
          ]
        }
      ]
    },
    {
      "cell_type": "code",
      "metadata": {
        "colab": {
          "base_uri": "https://localhost:8080/"
        },
        "id": "_7IehPzdHy-C",
        "outputId": "500fb08b-adb6-48e9-e3cf-636ebf09c401"
      },
      "source": [
        "import math\n",
        "def ball(b1tup, b2tup):\n",
        "     x1, y1, r1=b1tup\n",
        "     x2, y2, r2=b2tup\n",
        "     d=math.sqrt((x2-x1) **2+(y2-y1)**2)\n",
        "     if d<=r1+r2 :\n",
        "        return  True\n",
        "     else :\n",
        "        return False\n",
        "def  input_taking():\n",
        " \n",
        "      print(\"Input ball coordinates and radius  seprated by comma: \")\n",
        " \n",
        "      tup=tuple(int(x.strip()) for x in input().split(','))\n",
        " \n",
        "      return tup\n",
        " \n",
        "x=input_taking() \n",
        " \n",
        "y=input_taking()\n",
        " \n",
        "print(\" Ball1:\",x)\n",
        " \n",
        "print(\" Ball2:\",y)\n",
        " \n",
        "collision=ball(x, y)\n",
        " \n",
        "if collision:\n",
        " \n",
        "   print(\"Balls are collide\") \n",
        " \n",
        "else :\n",
        " \n",
        "  print(\"Balls are not collide\")"
      ],
      "execution_count": null,
      "outputs": [
        {
          "name": "stdout",
          "output_type": "stream",
          "text": [
            "Input ball coordinates and radius  seprated by comma: \n",
            "-2, -4, 4\n",
            "Input ball coordinates and radius  seprated by comma: \n",
            "4,6,4\n",
            " Ball1: (-2, -4, 4)\n",
            " Ball2: (4, 6, 4)\n",
            "Balls are not collide\n"
          ]
        }
      ]
    },
    {
      "cell_type": "markdown",
      "metadata": {
        "id": "xhb3KcfzKLqI"
      },
      "source": [
        " 𝐛) 𝐅𝐢𝐧𝐝 𝐦𝐞𝐚𝐧, 𝐦𝐞𝐝𝐢𝐚𝐧, 𝐦𝐨𝐝𝐞 𝐟𝐨𝐫 𝐭𝐡𝐞 𝐠𝐢𝐯𝐞𝐧 𝐬𝐞𝐭 𝐨𝐟 𝐧𝐮𝐦𝐛𝐞𝐫𝐬 𝐢𝐧 𝐚 𝐥𝐢𝐬𝐭."
      ]
    },
    {
      "cell_type": "markdown",
      "metadata": {
        "id": "dlPtFhn_HCn8"
      },
      "source": [
        " \n",
        " \n",
        "𝐀𝐈𝐌:To Find mean, median, mode for the given set of numbers in a list\n",
        " \n",
        "𝐃𝐄𝐒𝐂𝐑𝐈𝐏𝐓𝐈𝐎𝐍: \n",
        "Mean : The mean is the average of all numbers and is sometimes called the arithmetic mean. \n",
        "This code calculates Mean or Average of a list containing numbers:\n",
        "Median : The median is the middle number in a group of numbers. This code calculates Median \n",
        "of a list containing numbers:\n",
        "Mode : The mode is the number that occurs most often within a set of numbers. This code \n",
        "calculates Mode of a list containing numbers:"
      ]
    },
    {
      "cell_type": "code",
      "metadata": {
        "colab": {
          "base_uri": "https://localhost:8080/"
        },
        "id": "We6R9Fa8KbbG",
        "outputId": "aa069edc-87b5-40c6-c4a8-56af7c8bbb94"
      },
      "source": [
        "def mean(lst):\n",
        "   return sum(lst)/len(lst) \n",
        "def listmedian(lst):\n",
        "   lst. sort()\n",
        "   print(lst)\n",
        "   n=len(lst)\n",
        "   print(\"Total no of elements\", n) \n",
        "   mid=n//2\n",
        "   print(\"mid:\", mid)\n",
        "   if n%2==1 :\n",
        "       return lst(mid)\n",
        "   else :\n",
        "       return((lst[mid-1]+lst[mid])/2) \n",
        "def modef(lst):\n",
        "  lst. sort() \n",
        "  temp=[]\n",
        "  i=0\n",
        "  while i<len(lst):\n",
        "    temp. append(lst.count(lst[i])) \n",
        "    i+=1\n",
        "  dic=dict(zip(lst,temp))\n",
        "  print(\"frequency of each \",dic)\n",
        "  mode ={k for (k,v) in dic.items() if v==max(temp)}\n",
        "  return mode\n",
        "lst=[1,2,2,2,3,3,4,5]\n",
        "print(\"mean:\",mean(lst))\n",
        "print(\"median:\",listmedian(lst))\n",
        "print(\"mode:\",modef(lst))"
      ],
      "execution_count": null,
      "outputs": [
        {
          "name": "stdout",
          "output_type": "stream",
          "text": [
            "mean: 2.75\n",
            "[1, 2, 2, 2, 3, 3, 4, 5]\n",
            "Total no of elements 8\n",
            "mid: 4\n",
            "median: 2.5\n",
            "frequency of each  {1: 1, 2: 3, 3: 2, 4: 1, 5: 1}\n",
            "mode: {2}\n"
          ]
        }
      ]
    },
    {
      "cell_type": "markdown",
      "metadata": {
        "id": "lyzx2lmSK_Ud"
      },
      "source": [
        " \n",
        "𝗘𝘅𝗲𝗿𝗰𝗶𝘀𝗲 -𝟵\n",
        "𝐚) 𝐖𝐫𝐢𝐭𝐞 𝐚 𝐟𝐮𝐧𝐜𝐭𝐢𝐨𝐧 𝐧𝐞𝐚𝐫𝐥𝐲 𝐞𝐪𝐮𝐚𝐥 𝐭𝐨 𝐭𝐞𝐬𝐭 𝐰𝐡𝐞𝐭𝐡𝐞𝐫 𝐭𝐰𝐨 𝐬𝐭𝐫𝐢𝐧𝐠𝐬 𝐚𝐫𝐞 𝐧𝐞𝐚𝐫𝐥𝐲 𝐞𝐪𝐮𝐚𝐥. 𝐓𝐰𝐨 𝐬𝐭𝐫𝐢𝐧𝐠𝐬 𝐚 𝐚𝐧𝐝 𝐛𝐚𝐫𝐞 𝐧𝐞𝐚𝐫𝐥𝐲 𝐞𝐪𝐮𝐚𝐥 𝐰𝐡𝐞𝐧 𝐚 𝐜𝐚𝐧 𝐛𝐞 𝐠𝐞𝐧𝐞𝐫𝐚𝐭𝐞𝐝 𝐛𝐲 𝐚 𝐬𝐢𝐧𝐠𝐥𝐞 𝐦𝐮𝐭𝐚𝐭𝐢𝐨𝐧 𝐨𝐧 𝐛"
      ]
    },
    {
      "cell_type": "markdown",
      "metadata": {
        "id": "0NUAuDDiHS7J"
      },
      "source": [
        " \n",
        "𝐀𝐈𝐌:To write a function nearly equal to test whether two strings are nearly\n",
        "\n",
        "𝐃𝐄𝐒𝐂𝐑𝐈𝐏𝐓𝐈𝐎𝐍:\n",
        "strlen() function is used to check wether the two string are nearly equal or not by basis of the \n",
        "Length of those Stringslen() is a built-in function in python.You can use the len() to get the length of the given string, \n",
        "array, list, tuple, dictionary, etc."
      ]
    },
    {
      "cell_type": "code",
      "metadata": {
        "colab": {
          "base_uri": "https://localhost:8080/"
        },
        "id": "KMjjMRdmLCXl",
        "outputId": "ec576449-0364-4829-dfbd-80aa913b857d"
      },
      "source": [
        "def nearly_eq(str1, str2):\n",
        "       count=i=j=0\n",
        "       while (i<len(str1) and j<len(str2)):\n",
        "             if(str1[i]!=str2[j]):\n",
        "                 count+=1\n",
        "                 if(len(str1)>len(str2)):\n",
        "                      i+=1\n",
        "                 elif(len(str1)==len(str2)):\n",
        "                     pass\n",
        "                 else :\n",
        "                     i-=1\n",
        "             if(count>1):\n",
        "                 return False\n",
        "             i+=1\n",
        "             j+=1\n",
        "       if(count<2):\n",
        "           return True\n",
        "s1=input(\"Enter string1:\") \n",
        "s2=input (\"\\nEnter string2:\") \n",
        "print()\n",
        "b=nearly_eq(s1, s2)\n",
        "if b:\n",
        "  print(\"strings are nearly equal\")  \n",
        "else :\n",
        "  print(\"strings are not equal \")"
      ],
      "execution_count": null,
      "outputs": [
        {
          "name": "stdout",
          "output_type": "stream",
          "text": [
            "Enter string1:Kanaka\n",
            "\n",
            "Enter string2:Nalka\n",
            "\n",
            "strings are not equal \n"
          ]
        }
      ]
    },
    {
      "cell_type": "markdown",
      "metadata": {
        "id": "o-8IneKuLN-p"
      },
      "source": [
        " 𝐛) 𝐖𝐫𝐢𝐭𝐞 𝐚 𝐟𝐮𝐧𝐜𝐭𝐢𝐨𝐧 𝐝𝐮𝐩 𝐭𝐨 𝐟𝐢𝐧𝐝 𝐚𝐥𝐥 𝐝𝐮𝐩𝐥𝐢𝐜𝐚𝐭𝐞𝐬 𝐢𝐧 𝐭𝐡𝐞 𝐥𝐢𝐬𝐭."
      ]
    },
    {
      "cell_type": "markdown",
      "metadata": {
        "id": "T5PexIyAPbxY"
      },
      "source": [
        " \n",
        "𝐀𝐈𝐌:To Write a function dup to find all duplicates in the list.\n",
        "\n",
        "𝐃𝐄𝐒𝐂𝐑𝐈𝐏𝐓𝐈𝐎𝐍:\n",
        "Duplicates are nothing but repeated values"
      ]
    },
    {
      "cell_type": "code",
      "metadata": {
        "colab": {
          "base_uri": "https://localhost:8080/"
        },
        "id": "ZSprAKCALSYW",
        "outputId": "63973351-e342-4cfb-9ce2-d538aaa2826f"
      },
      "source": [
        "def dup(lst):\n",
        "  lst. sort() \n",
        "  temp=[]\n",
        "  i=0\n",
        "  while i<len(lst):\n",
        "    temp. append(lst.count(lst[i])) \n",
        "    i+=1\n",
        "  dic=dict(zip(lst,temp))\n",
        "  mode ={k for (k,v) in dic.items() if v!=1}\n",
        "  return mode\n",
        "lst=[1, 2,6,9,1,3,5,2,1,6]\n",
        "print(\"Duplicates :\",dup(lst))"
      ],
      "execution_count": null,
      "outputs": [
        {
          "name": "stdout",
          "output_type": "stream",
          "text": [
            "Duplicates : {1, 2, 6}\n"
          ]
        }
      ]
    },
    {
      "cell_type": "markdown",
      "metadata": {
        "id": "ifVFdEYALlQR"
      },
      "source": [
        " 𝐜) 𝐖𝐫𝐢𝐭𝐞 𝐚 𝐟𝐮𝐧𝐜𝐭𝐢𝐨𝐧 𝐮𝐧𝐢𝐪𝐮𝐞 𝐭𝐨 𝐟𝐢𝐧𝐝 𝐚𝐥𝐥 𝐭𝐡𝐞 𝐮𝐧𝐢𝐪𝐮𝐞 𝐞𝐥𝐞𝐦𝐞𝐧𝐭𝐬 𝐨𝐟 𝐚 𝐥𝐢𝐬𝐭."
      ]
    },
    {
      "cell_type": "markdown",
      "metadata": {
        "id": "0cxXiVXiyFRV"
      },
      "source": [
        " 𝐀𝐈𝐌:To Write a function unique to find all the unique elements of a list.\n",
        "\n",
        "𝐃𝐄𝐒𝐂𝐑𝐈𝐏𝐓𝐈𝐎𝐍:unique elements are which are not repeated"
      ]
    },
    {
      "cell_type": "code",
      "metadata": {
        "colab": {
          "base_uri": "https://localhost:8080/"
        },
        "id": "H99Q-IKoLo8x",
        "outputId": "b702176c-4b35-43d6-85df-77a3850ddd83"
      },
      "source": [
        "def unique(lst):\n",
        "  lst. sort() \n",
        "  temp=[]\n",
        "  i=0\n",
        "  while i<len(lst):\n",
        "    temp. append(lst.count(lst[i])) \n",
        "    i+=1\n",
        "  dic=dict(zip(lst,temp))\n",
        "  mode ={k for (k,v) in dic.items() if v==1}\n",
        "  return mode\n",
        "lst=[1, 2,6,9,1,3,5,2,1,6]\n",
        "print(\"unique elements:\",unique(lst))"
      ],
      "execution_count": null,
      "outputs": [
        {
          "name": "stdout",
          "output_type": "stream",
          "text": [
            "unique elements: {9, 3, 5}\n"
          ]
        }
      ]
    },
    {
      "cell_type": "code",
      "metadata": {
        "colab": {
          "base_uri": "https://localhost:8080/"
        },
        "id": "TnkSEvTSLuyc",
        "outputId": "b97bd766-55b0-4b03-8d0f-7f0ef2c2b966"
      },
      "source": [
        "def unique(lst, cond):\n",
        "  lst. sort() \n",
        "  temp=[]\n",
        "  i=0\n",
        "  while i<len(lst):\n",
        "    temp. append(lst.count(lst[i])) \n",
        "    i+=1\n",
        "  dic=dict(zip(lst,temp))\n",
        "  mode ={k for (k,v) in dic.items() if v==int(cond) }\n",
        "  return mode\n",
        "lst=[1, 2,6,9,1,3,5,2,1,6]\n",
        "print(\"unquie elements:\",unique(lst, 1))"
      ],
      "execution_count": null,
      "outputs": [
        {
          "name": "stdout",
          "output_type": "stream",
          "text": [
            "unquie elements: {9, 3, 5}\n"
          ]
        }
      ]
    },
    {
      "cell_type": "markdown",
      "metadata": {
        "id": "w9ETrxKuL5Ws"
      },
      "source": [
        " 𝐅𝐢𝐧𝐝𝐢𝐧𝐠 𝐝𝐮𝐩𝐥𝐢𝐜𝐚𝐭𝐞𝐬 𝐚𝐧𝐝 𝐮𝐧𝐢𝐪𝐮𝐞 𝐞𝐥𝐞𝐦𝐞𝐧𝐭𝐬 𝐮𝐬𝐢𝐧𝐠 𝐥𝐢𝐬𝐭𝐬"
      ]
    },
    {
      "cell_type": "code",
      "metadata": {
        "colab": {
          "base_uri": "https://localhost:8080/"
        },
        "id": "uEJ3e0gxMHLk",
        "outputId": "73d0511a-e8ad-4078-c45f-5bd0daa92d6a"
      },
      "source": [
        " \n",
        "def dups(numlist):\n",
        " \n",
        "  temp1=[]\n",
        " \n",
        "  temp2=[]\n",
        " \n",
        "  for i in numlist:\n",
        " \n",
        "      cnt=numlist.count(i)\n",
        " \n",
        "      if (cnt>1 and ( i not in temp1)) :\n",
        " \n",
        "          temp1.append(i) \n",
        " \n",
        "      if cnt==1 :\n",
        " \n",
        "          if i not in temp2:\n",
        " \n",
        "             temp2.append(i)\n",
        " \n",
        "  print(\"Duplicates :\", temp1)     \n",
        " \n",
        "  print(\"unquie :\", temp2)\n",
        " \n",
        "  \n",
        " \n",
        "lst=[1, 2,6,9,1,3,5,2,1,6]\n",
        " \n",
        "print(\"list:\", lst)\n",
        " \n",
        "dups(lst)"
      ],
      "execution_count": null,
      "outputs": [
        {
          "name": "stdout",
          "output_type": "stream",
          "text": [
            "list: [1, 2, 6, 9, 1, 3, 5, 2, 1, 6]\n",
            "Duplicates : [1, 2, 6]\n",
            "unquie : [9, 3, 5]\n"
          ]
        }
      ]
    },
    {
      "cell_type": "markdown",
      "metadata": {
        "id": "XgH177gHMJR9"
      },
      "source": [
        "𝐅𝐢𝐧𝐝𝐢𝐧𝐠 𝐮𝐧𝐢𝐪𝐮𝐞 𝐚𝐧𝐝 𝐝𝐮𝐩𝐥𝐢𝐜𝐚𝐭𝐞 𝐞𝐥𝐞𝐦𝐞𝐧𝐭𝐬 𝐮𝐬𝐢𝐧𝐠 𝐃𝐢𝐜𝐭𝐢𝐨𝐧𝐚𝐫𝐢𝐞𝐬"
      ]
    },
    {
      "cell_type": "code",
      "metadata": {
        "colab": {
          "base_uri": "https://localhost:8080/"
        },
        "id": "WSwEc7KOMOol",
        "outputId": "1d2be7de-7ff8-4f66-dbfd-f178c1b2af5a"
      },
      "source": [
        "def dups(numlist):\n",
        "  temp1={}\n",
        "  temp2={}\n",
        "  for i in numlist:\n",
        "      cnt=numlist.count(i) \n",
        "      if cnt>1:\n",
        "        temp1[i]=cnt\n",
        "      else :\n",
        "         temp2[i]=cnt\n",
        "  print(\"Duplicates :\", temp1)    \n",
        "  print(\"unquie :\", temp2)\n",
        " \n",
        "lst=[1, 2,6,9,1,3,5,2,1,6]\n",
        "print(\"list:\", lst)\n",
        "dups(lst)"
      ],
      "execution_count": null,
      "outputs": [
        {
          "name": "stdout",
          "output_type": "stream",
          "text": [
            "list: [1, 2, 6, 9, 1, 3, 5, 2, 1, 6]\n",
            "Duplicates : {1: 3, 2: 2, 6: 2}\n",
            "unquie : {9: 1, 3: 1, 5: 1}\n"
          ]
        }
      ]
    },
    {
      "cell_type": "markdown",
      "metadata": {
        "id": "457K5bXsMUuy"
      },
      "source": [
        " 𝗘𝘅𝗲𝗿𝗰𝗶𝘀𝗲 -𝟭𝟬\n",
        "𝐚) 𝐖𝐫𝐢𝐭𝐞 𝐚 𝐟𝐮𝐧𝐜𝐭𝐢𝐨𝐧 𝐜𝐮𝐦𝐮𝐥𝐚𝐭𝐢𝐯𝐞 𝐩𝐫𝐨𝐝𝐮𝐜𝐭 𝐭𝐨 𝐜𝐨𝐦𝐩𝐮𝐭𝐞 𝐜𝐮𝐦𝐮𝐥𝐚𝐭𝐢𝐯𝐞 𝐩𝐫𝐨𝐝𝐮𝐜𝐭 𝐨𝐟 𝐚 𝐥𝐢𝐬𝐭 𝐨𝐟 𝐧𝐮𝐦𝐛𝐞𝐫𝐬."
      ]
    },
    {
      "cell_type": "markdown",
      "metadata": {
        "id": "MGYNprAHR4Qa"
      },
      "source": [
        " 𝐀𝐈𝐌:To write a function cumulative product to compute cumulative product of a list of numbers.\n",
        "\n",
        "𝐃𝐄𝐒𝐂𝐑𝐈𝐏𝐓𝐈𝐎𝐍:\n",
        "cumulative product is a sequence of partial products of a given sequence"
      ]
    },
    {
      "cell_type": "code",
      "metadata": {
        "colab": {
          "base_uri": "https://localhost:8080/"
        },
        "id": "JtNoVyFLMeD-",
        "outputId": "d9055296-c0a8-4693-a7d1-de9f4a5622a2"
      },
      "source": [
        "def cum_prod(numlist):\n",
        "      prod=1\n",
        "      temp=[]\n",
        "      for i in numlist:\n",
        "           prod*=i\n",
        "           temp. append(prod)\n",
        "      return temp\n",
        "lst=[1, 2,3,4 ,5]\n",
        "print(\"Given list is :\", lst)\n",
        "print(\"Cumulative product list is :\", cum_prod(lst))"
      ],
      "execution_count": null,
      "outputs": [
        {
          "name": "stdout",
          "output_type": "stream",
          "text": [
            "Given list is : [1, 2, 3, 4, 5]\n",
            "Cumulative product list is : [1, 2, 6, 24, 120]\n"
          ]
        }
      ]
    },
    {
      "cell_type": "markdown",
      "metadata": {
        "id": "ccSlgSS_MkbF"
      },
      "source": [
        " 𝐛) 𝐖𝐫𝐢𝐭𝐞 𝐚 𝐟𝐮𝐧𝐜𝐭𝐢𝐨𝐧 𝐫𝐞𝐯𝐞𝐫𝐬𝐞 𝐭𝐨 𝐫𝐞𝐯𝐞𝐫𝐬𝐞 𝐚 𝐥𝐢𝐬𝐭. 𝐖𝐢𝐭𝐡𝐨𝐮𝐭 𝐮𝐬𝐢𝐧𝐠 𝐭𝐡𝐞 𝐫𝐞𝐯𝐞𝐫𝐬𝐞 𝐟𝐮𝐧𝐜𝐭𝐢𝐨𝐧"
      ]
    },
    {
      "cell_type": "markdown",
      "metadata": {
        "id": "-nzKGhcZyKmj"
      },
      "source": [
        " \n",
        "𝐀𝐈𝐌:To write a function reverse to reverse a list. Without using the reverse function.\n",
        "\n",
        "𝐃𝐄𝐒𝐂𝐑𝐈𝐏𝐓𝐈𝐎𝐍:We can use a for loop to swap the first and last items, the second and the one before the last\n",
        "item and so on until the list is reversed in place. The number of iterations needed is half the list \n",
        "size. If the list has an odd number of items then the middle item will stay in its place."
      ]
    },
    {
      "cell_type": "code",
      "metadata": {
        "colab": {
          "base_uri": "https://localhost:8080/"
        },
        "id": "5SFaRJkzMp59",
        "outputId": "ff472c52-4951-47c8-a94d-8d3136482b8f"
      },
      "source": [
        "def reverse_list(numlist):\n",
        "      temp=lst[::-1]\n",
        "      numlist=temp\n",
        "      return temp\n",
        "lst=[1, 2,3,4]\n",
        "print(\"Given list is :\", lst)\n",
        "print(\"Reverse of list is :\", reverse_list(lst))\n",
        "print(\"After reverse of list is ,the list is :\", lst)"
      ],
      "execution_count": null,
      "outputs": [
        {
          "name": "stdout",
          "output_type": "stream",
          "text": [
            "Given list is : [1, 2, 3, 4]\n",
            "Reverse of list is : [4, 3, 2, 1]\n",
            "After reverse of list is ,the list is : [1, 2, 3, 4]\n"
          ]
        }
      ]
    },
    {
      "cell_type": "code",
      "metadata": {
        "colab": {
          "base_uri": "https://localhost:8080/"
        },
        "id": "3T3ba-eoMvK0",
        "outputId": "fd75d711-d712-4e47-85f4-ad6553a793ee"
      },
      "source": [
        "def reverse_list(numlist):\n",
        "      i=0\n",
        "      j=len(numlist)-1\n",
        "      while(i<=j):\n",
        "          temp=numlist[i]\n",
        "          numlist[i]=numlist[j]\n",
        "          numlist[j]=temp\n",
        "          j-=1\n",
        "          i+=1\n",
        "      return numlist\n",
        "lst=[1, 2,3,4]\n",
        "print(\"Given list is :\", lst)\n",
        "print(\"Reverse of list is :\", reverse_list(lst))\n",
        "print(\"After reverse of list is ,the list is :\", lst)"
      ],
      "execution_count": null,
      "outputs": [
        {
          "name": "stdout",
          "output_type": "stream",
          "text": [
            "Given list is : [1, 2, 3, 4]\n",
            "Reverse of list is : [4, 3, 2, 1]\n",
            "After reverse of list is ,the list is : [4, 3, 2, 1]\n"
          ]
        }
      ]
    },
    {
      "cell_type": "markdown",
      "metadata": {
        "id": "FSZAq_yMM4-V"
      },
      "source": [
        "𝐜) 𝐖𝐫𝐢𝐭𝐞 𝐟𝐮𝐧𝐜𝐭𝐢𝐨𝐧 𝐭𝐨 𝐜𝐨𝐦𝐩𝐮𝐭𝐞 𝐠𝐜𝐝, 𝐥𝐜𝐦 𝐨𝐟 𝐭𝐰𝐨 𝐧𝐮𝐦𝐛𝐞𝐫𝐬. 𝐄𝐚𝐜𝐡 𝐟𝐮𝐧𝐜𝐭𝐢𝐨𝐧 𝐬𝐡𝐨𝐮𝐥𝐝𝐧’𝐭 𝐞𝐱𝐜𝐞𝐞𝐝 𝐨𝐧𝐞 𝐥𝐢𝐧𝐞"
      ]
    },
    {
      "cell_type": "markdown",
      "metadata": {
        "id": "mBND2lO5IHSe"
      },
      "source": [
        "\n",
        "\n",
        "𝐀𝐈𝐌:To write function to compute gcd, lcm of two numbers. Each function shouldn’t exceed one line. \n",
        "\n",
        "𝐃𝐄𝐒𝐂𝐑𝐈𝐏𝐓𝐈𝐎𝐍:\n",
        "Python provides you an anonymous function called lambda. It can take any number of \n",
        "arguments, but can only have one expression. It can be used to find LCM and GCD values \n",
        "without exceeding each from from one line.\n",
        "The general format is\n",
        "lambda arguments: expression\n",
        "The expression is executed during the function call and the result is returned."
      ]
    },
    {
      "cell_type": "code",
      "metadata": {
        "colab": {
          "base_uri": "https://localhost:8080/"
        },
        "id": "QqAadfD0M52R",
        "outputId": "f08f1f2a-2e50-48fb-d48d-d1854f90105b"
      },
      "source": [
        "gcd=lambda a,b:a if b==0 else gcd(a, a%b)\n",
        "lcm=lambda a,b: (a*b)/gcd(a, b)\n",
        "x=int(input(\"Enter first number:\")) \n",
        "y=int(input(\"Enter second number :\")) \n",
        "print(\"GCD=\", gcd(x, y))\n",
        "print(\"LCM=\",lcm(x, y))"
      ],
      "execution_count": null,
      "outputs": [
        {
          "name": "stdout",
          "output_type": "stream",
          "text": [
            "Enter first number:4\n",
            "Enter second number :24\n",
            "GCD= 4\n",
            "LCM= 24.0\n"
          ]
        }
      ]
    },
    {
      "cell_type": "markdown",
      "metadata": {
        "id": "67Akyh-hM8oF"
      },
      "source": [
        "𝐆𝐜𝐝 𝐚𝐧𝐝 𝐋𝐜𝐦 𝐮𝐬𝐢𝐧𝐠 𝐫𝐞𝐜𝐮𝐫𝐬𝐢𝐨𝐧"
      ]
    },
    {
      "cell_type": "code",
      "metadata": {
        "colab": {
          "base_uri": "https://localhost:8080/"
        },
        "id": "rdw7JxAqM_rq",
        "outputId": "b5086b62-3fee-424e-8d60-bfe83a23c58b"
      },
      "source": [
        "def gcd(a, b) :\n",
        "   if b==0:\n",
        "      return a\n",
        "   else:\n",
        "     return gcd(a, a//b) \n",
        "print(\"Gcd:\" ,gcd(4, 24))\n",
        "def lcm(a, b) :\n",
        "   if b==0:\n",
        "      return a\n",
        "   else:\n",
        "     return (a*b)/gcd(a,b) \n",
        "print(\"Lcm:\",lcm(4, 24) )"
      ],
      "execution_count": null,
      "outputs": [
        {
          "name": "stdout",
          "output_type": "stream",
          "text": [
            "Gcd: 4\n",
            "Lcm: 24.0\n"
          ]
        }
      ]
    },
    {
      "cell_type": "markdown",
      "metadata": {
        "id": "GxO0cvXz0TQ2"
      },
      "source": [
        " 𝗘𝗫𝗘𝗥𝗖𝗜𝗦𝗘- 𝟭𝟭:𝗠𝘂𝗹𝘁𝗶-𝗗 𝗟𝗶𝘀𝘁\n",
        "𝐚) 𝐰𝐫𝐢𝐭𝐞 𝐚 𝐩𝐫𝐨𝐠𝐫𝐚𝐦 𝐭𝐡𝐚𝐭 𝐝𝐞𝐟𝐢𝐧𝐞𝐬  𝐚 𝐦𝐚𝐭𝐫𝐢𝐱 𝐚𝐧𝐝 𝐩𝐫𝐢𝐧𝐭𝐬"
      ]
    },
    {
      "cell_type": "markdown",
      "metadata": {
        "id": "-JEbV2XKR77o"
      },
      "source": [
        " \n",
        "𝐀𝐈𝐌:To write a program that defines a matrix and prints\n",
        "\n",
        "𝐃𝐄𝐒𝐂𝐑𝐈𝐏𝐓𝐈𝐎𝐍:\n",
        " A Python matrix is a specialized two-dimensional rectangular array of data stored in rows and columns. The data in a matrix can be numbers, strings, expressions, symbols, etc. Matrix is one of the important data structures that can be used in mathematical and scientific calculations"
      ]
    },
    {
      "cell_type": "code",
      "metadata": {
        "colab": {
          "base_uri": "https://localhost:8080/"
        },
        "id": "oLvtEX000oJz",
        "outputId": "34aadb88-b78e-41ed-d46c-c352f785fb27"
      },
      "source": [
        " \n",
        "A=[[]]\n",
        "B=[[]]\n",
        "r=int(input(\"enter row size:\"))\n",
        "c=int(input(\"enter column size :\"))\n",
        "A=[[int(input(\"enter matrix A [%d,%d]:\"%(i,j))) for j in range (c)] for i in range(r)]\n",
        "B=[[int(input(\"enter matrix B [%d,%d] :\"%(i,j))) for j in range (c)] for i in range(r)] \n",
        "print(\"Matrix A:\") \n",
        "for i in range(r):\n",
        "   for j in range(c):\n",
        "     print(A[i][j],end=' ')\n",
        "   print() \n",
        "print(\"Matrix B:\") \n",
        "for i in range(r):\n",
        "   for j in range(c):\n",
        "       print(B[i][j],end=' ')\n",
        "   print()"
      ],
      "execution_count": null,
      "outputs": [
        {
          "name": "stdout",
          "output_type": "stream",
          "text": [
            "enter row size:2\n",
            "enter column size :2\n",
            "enter matrix A [0,0]:1\n",
            "enter matrix A [0,1]:2\n",
            "enter matrix A [1,0]:3\n",
            "enter matrix A [1,1]:4\n",
            "enter matrix B [0,0] :8\n",
            "enter matrix B [0,1] :7\n",
            "enter matrix B [1,0] :6\n",
            "enter matrix B [1,1] :5\n",
            "Matrix A:\n",
            "1 2 \n",
            "3 4 \n",
            "Matrix B:\n",
            "8 7 \n",
            "6 5 \n"
          ]
        }
      ]
    },
    {
      "cell_type": "markdown",
      "metadata": {
        "id": "ulNI5WmvCm3S"
      },
      "source": [
        " 𝐛) 𝐰𝐫𝐢𝐭𝐞 𝐚 𝐩𝐫𝐨𝐠𝐫𝐚𝐦 𝐭𝐨 𝐩𝐞𝐫𝐟𝐨𝐫𝐦 𝐚𝐝𝐝𝐢𝐭𝐢𝐨𝐧 𝐨𝐟 𝐭𝐰𝐨  𝐬𝐪𝐮𝐚𝐫𝐞 𝐦𝐚𝐭𝐫𝐢𝐜𝐞𝐬"
      ]
    },
    {
      "cell_type": "markdown",
      "metadata": {
        "id": "Dm5OxIUpSCdP"
      },
      "source": [
        " \n",
        "𝐀𝐈𝐌:te a program to perform addition of two square matrices\n",
        "\n",
        "𝐃𝐄𝐒𝐂𝐑𝐈𝐏𝐓𝐈𝐎𝐍:\n",
        " At each point we add the corresponding elements in the two matrices and store it in the result. Using nested list comprehension : In Python, we can implement a matrix as nested list (list inside a list). We can treat each element as a row of the matrix"
      ]
    },
    {
      "cell_type": "code",
      "metadata": {
        "colab": {
          "base_uri": "https://localhost:8080/"
        },
        "id": "w3JkBsSuCv6W",
        "outputId": "cd4cda00-5f99-415e-fa7d-d50aa1bb10f8"
      },
      "source": [
        "A=[[]]\n",
        "B=[[]]\n",
        "Sum=[[]]\n",
        "r=int(input(\"enter row size:\"))\n",
        "c=int(input(\"enter column size :\"))\n",
        "if r==c:\n",
        "   A=[[int(input(\"enter matrix A [%d,%d]:\"%(i,j))) for j in range (c)] for i in range(r)]\n",
        "   B=[[int(input(\"enter matrix B [%d,%d] :\"%(i,j))) for j in range (c)] for i in range(r)] \n",
        "else :\n",
        "    print(\" Matrices Addition is not possible\") \n",
        "Sum=[[A[i][j]+B[i][j] for j in range (c)] for i in range(r)] \n",
        "print(\"sum of matrices :\") \n",
        "for i in range(r):\n",
        "  for j in range(c):\n",
        "    print(Sum[i][j],end=' ')\n",
        "  print()"
      ],
      "execution_count": null,
      "outputs": [
        {
          "name": "stdout",
          "output_type": "stream",
          "text": [
            "enter row size:2\n",
            "enter column size :2\n",
            "enter matrix A [0,0]:1\n",
            "enter matrix A [0,1]:2\n",
            "enter matrix A [1,0]:3\n",
            "enter matrix A [1,1]:4\n",
            "enter matrix B [0,0] :5\n",
            "enter matrix B [0,1] :6\n",
            "enter matrix B [1,0] :7\n",
            "enter matrix B [1,1] :8\n",
            "sum of matrices :\n",
            "6 8 \n",
            "10 12 \n"
          ]
        }
      ]
    },
    {
      "cell_type": "code",
      "metadata": {
        "colab": {
          "base_uri": "https://localhost:8080/"
        },
        "id": "bbpGQyxjDF7I",
        "outputId": "2f180dfb-bd6c-4b99-a307-bb0dd18f745c"
      },
      "source": [
        "def mathDisp(mat, r, c):\n",
        "  for i in range(r):\n",
        "      for j in range(c):\n",
        "        print(mat[i][j],end=' ')\n",
        "      print() \n",
        "A=[[]]\n",
        "B=[[]]\n",
        "Sum=[[]]\n",
        "r=int(input(\"enter row size:\"))\n",
        "c=int(input(\"enter column size :\"))\n",
        "if r==c:\n",
        "   A=[[int(input(\"enter matrix A [%d,%d]:\"%(i,j))) for j in range (c)] for i in range(r)]\n",
        "   B=[[int(input(\"enter matrix B [%d,%d] :\"%(i,j))) for j in range (c)] for i in range(r)] \n",
        "else :\n",
        "    print(\" Matrices Addition is not possible\") \n",
        "print(\"Matrix A is :\") \n",
        "mathDisp(A, r, c)\n",
        "print(\"Matrix B is :\") \n",
        "mathDisp(B, r, c)\n",
        "Sum=[[A[i][j]+B[i][j] for j in range (c)] for i in range(r)] \n",
        "print(\"Addition of A and B matrices is :\") \n",
        "mathDisp(Sum, r, c)"
      ],
      "execution_count": null,
      "outputs": [
        {
          "name": "stdout",
          "output_type": "stream",
          "text": [
            "enter row size:2\n",
            "enter column size :2\n",
            "enter matrix A [0,0]:7\n",
            "enter matrix A [0,1]:5\n",
            "enter matrix A [1,0]:3\n",
            "enter matrix A [1,1]:1\n",
            "enter matrix B [0,0] :2\n",
            "enter matrix B [0,1] :4\n",
            "enter matrix B [1,0] :6\n",
            "enter matrix B [1,1] :8\n",
            "Matrix A is :\n",
            "7 5 \n",
            "3 1 \n",
            "Matrix B is :\n",
            "2 4 \n",
            "6 8 \n",
            "Addition of A and B matrices is :\n",
            "9 9 \n",
            "9 9 \n"
          ]
        }
      ]
    },
    {
      "cell_type": "markdown",
      "metadata": {
        "id": "GbIo93fwEDny"
      },
      "source": [
        " 𝐜) 𝐰𝐫𝐢𝐭𝐞 𝐚 𝐩𝐫𝐨𝐠𝐫𝐚𝐦 𝐭𝐨 𝐩𝐞𝐫𝐟𝐨𝐫𝐦 𝐦𝐮𝐥𝐭𝐢𝐩𝐥𝐢𝐜𝐚𝐭𝐢𝐨𝐧 𝐨𝐟 𝐭𝐰𝐨  𝐬𝐪𝐮𝐚𝐫𝐞 𝐦𝐚𝐭𝐫𝐢𝐜𝐞𝐬"
      ]
    },
    {
      "cell_type": "markdown",
      "metadata": {
        "id": "ivtUDqKbSGoA"
      },
      "source": [
        " \n",
        "𝐀𝐈𝐌:) Write a program to perform multiplication of two square\n",
        "\n",
        "𝐃𝐄𝐒𝐂𝐑𝐈𝐏𝐓𝐈𝐎𝐍:\n",
        "In Python, we can implement a matrix as nested list (list inside a list). \n",
        "We can treat each element as a row of the matrix.\n",
        "For example X = [[1, 2], [4, 5], [3, 6]] would represent a 3x2 matrix.\n",
        "The first row can be selected as X[0]. And, the element in first row, first column can be selected \n",
        "as X[0][0].\n",
        "Multiplication of two matrices X and Y is defined only if the number of columns in X is equal to \n",
        "the number of rows Y.\n",
        "If X is a n x m matrix and Y is a m x l matrix then, XY is defined and has the dimension n x l (but \n",
        "YX is not defined). Here are a couple of ways to implement matrix multiplication in Python."
      ]
    },
    {
      "cell_type": "code",
      "metadata": {
        "id": "dtQiW9v1EHqc",
        "colab": {
          "base_uri": "https://localhost:8080/"
        },
        "outputId": "8f5b79d9-f19b-4519-a910-79ba2fd351a6"
      },
      "source": [
        "def matRead(r, c): \n",
        "   return [[int(input(\"enter value of [%d,%d]:\"%(i,j))) for j in range (c)] for i in range(r)]\n",
        "def mathDisp(mat, r, c):\n",
        "  for i in range(r):\n",
        "      for j in range(c):\n",
        "        print(mat[i][j],end=' ')\n",
        "      print() \n",
        "A=B=Mul=[[]]\n",
        "r=int(input(\"enter row size:\"))\n",
        "c=int(input(\"enter column size :\"))\n",
        "if r==c:\n",
        "   print(\"Matrix A input :\") \n",
        "   A=matRead(r, c)\n",
        "   print(\"Matrix B input :\") \n",
        "   B=matRead(r, c)\n",
        "Mul=[[0 for j in range (c)] for i in range(r)] \n",
        "for i in range(r):\n",
        "      for j in range(c):\n",
        "         #Mul[i][j]=0 \n",
        "         for k in range(c):\n",
        "            Mul[i][j]=Mul[i][j]+(A[i][k]*B[k][j]) \n",
        "print(\"Matrix A is:\") \n",
        "mathDisp(A, r, c)\n",
        "print(\"Matrix B is :\") \n",
        "mathDisp(B, r, c)\n",
        "#sum=[[A[i][j]+B[i][j] for j in range (c)] for i in range(r)] \n",
        "print(\"Multiplicationof A and B matrices is :\") \n",
        "mathDisp(Mul, r, c)"
      ],
      "execution_count": null,
      "outputs": [
        {
          "output_type": "stream",
          "name": "stdout",
          "text": [
            "enter row size:2\n",
            "enter column size :2\n",
            "Matrix A input :\n",
            "enter value of [0,0]:3\n",
            "enter value of [0,1]:4\n",
            "enter value of [1,0]:5\n",
            "enter value of [1,1]:2\n",
            "Matrix B input :\n",
            "enter value of [0,0]:3\n",
            "enter value of [0,1]:6\n",
            "enter value of [1,0]:4\n",
            "enter value of [1,1]:2\n",
            "Matrix A is:\n",
            "3 4 \n",
            "5 2 \n",
            "Matrix B is :\n",
            "3 6 \n",
            "4 2 \n",
            "Multiplicationof A and B matrices is :\n",
            "25 26 \n",
            "23 34 \n"
          ]
        }
      ]
    },
    {
      "cell_type": "markdown",
      "metadata": {
        "id": "cfZhV065LMq7"
      },
      "source": [
        "𝗘𝗫𝗘𝗥𝗖𝗜𝗦𝗘- 𝟭𝟮:𝗠𝗼𝗱𝘂𝗹𝗲𝘀\n",
        "𝐚) 𝐢𝐧𝐬𝐭𝐚𝐥𝐥 𝐩𝐚𝐜𝐤𝐚𝐠𝐞𝐬 𝐫𝐞𝐪𝐮𝐞𝐬𝐭𝐬, 𝐟𝐥𝐚𝐬𝐤, 𝐚𝐧𝐝 𝐞𝐱𝐩𝐥𝐨𝐫𝐞 𝐭𝐡𝐞𝐦 𝐮𝐬𝐢𝐧𝐠 𝐩𝐢𝐩(𝐩𝐲𝐭𝐡𝐨𝐧 𝐢𝐧𝐬𝐭𝐚𝐥𝐥𝐚𝐭𝐢𝐨𝐧 𝐩𝐚𝐜𝐤𝐚𝐠𝐞𝐬)"
      ]
    },
    {
      "cell_type": "code",
      "metadata": {
        "id": "YWawS_p3Lekd"
      },
      "source": [
        "Open cmd and set python installation path\n",
        "Check pip is installed or not by>pip\n",
        "#requests and flask\n",
        ">pip install requests\n",
        ">pip install flask\n",
        "#for exploration \n",
        ">pip show requests\n",
        ">pip show flask\n",
        "(It shows name, version and other properties)"
      ],
      "execution_count": null,
      "outputs": []
    },
    {
      "cell_type": "code",
      "metadata": {
        "colab": {
          "base_uri": "https://localhost:8080/"
        },
        "id": "vQ2LQyeLB-dL",
        "outputId": "98ea1d60-c90e-475a-e1e9-65ff0e343579"
      },
      "source": [
        "!pip install requests"
      ],
      "execution_count": null,
      "outputs": [
        {
          "output_type": "stream",
          "name": "stdout",
          "text": [
            "Requirement already satisfied: requests in /usr/local/lib/python3.7/dist-packages (2.23.0)\n",
            "Requirement already satisfied: chardet<4,>=3.0.2 in /usr/local/lib/python3.7/dist-packages (from requests) (3.0.4)\n",
            "Requirement already satisfied: urllib3!=1.25.0,!=1.25.1,<1.26,>=1.21.1 in /usr/local/lib/python3.7/dist-packages (from requests) (1.24.3)\n",
            "Requirement already satisfied: idna<3,>=2.5 in /usr/local/lib/python3.7/dist-packages (from requests) (2.10)\n",
            "Requirement already satisfied: certifi>=2017.4.17 in /usr/local/lib/python3.7/dist-packages (from requests) (2021.5.30)\n"
          ]
        }
      ]
    },
    {
      "cell_type": "code",
      "metadata": {
        "colab": {
          "base_uri": "https://localhost:8080/"
        },
        "id": "G5zuS7y7CLNk",
        "outputId": "fbd8357a-503f-4666-9b98-6290598b57b9"
      },
      "source": [
        "!pip show requests"
      ],
      "execution_count": null,
      "outputs": [
        {
          "output_type": "stream",
          "name": "stdout",
          "text": [
            "Name: requests\n",
            "Version: 2.23.0\n",
            "Summary: Python HTTP for Humans.\n",
            "Home-page: https://requests.readthedocs.io\n",
            "Author: Kenneth Reitz\n",
            "Author-email: me@kennethreitz.org\n",
            "License: Apache 2.0\n",
            "Location: /usr/local/lib/python3.7/dist-packages\n",
            "Requires: urllib3, idna, certifi, chardet\n",
            "Required-by: tweepy, torchtext, tensorflow-datasets, tensorboard, Sphinx, spacy, requests-oauthlib, pymystem3, pooch, panel, pandas-datareader, kaggle, gspread, google-colab, google-api-core, gdown, folium, fix-yahoo-finance, fastai, coveralls, community, CacheControl\n"
          ]
        }
      ]
    },
    {
      "cell_type": "code",
      "metadata": {
        "colab": {
          "base_uri": "https://localhost:8080/"
        },
        "id": "fQ3wZJ0NCSS6",
        "outputId": "1afd5f62-bc34-4a09-cf94-e2a425e1a278"
      },
      "source": [
        "!pip install flask"
      ],
      "execution_count": null,
      "outputs": [
        {
          "output_type": "stream",
          "name": "stdout",
          "text": [
            "Requirement already satisfied: flask in /usr/local/lib/python3.7/dist-packages (1.1.4)\n",
            "Requirement already satisfied: itsdangerous<2.0,>=0.24 in /usr/local/lib/python3.7/dist-packages (from flask) (1.1.0)\n",
            "Requirement already satisfied: Werkzeug<2.0,>=0.15 in /usr/local/lib/python3.7/dist-packages (from flask) (1.0.1)\n",
            "Requirement already satisfied: click<8.0,>=5.1 in /usr/local/lib/python3.7/dist-packages (from flask) (7.1.2)\n",
            "Requirement already satisfied: Jinja2<3.0,>=2.10.1 in /usr/local/lib/python3.7/dist-packages (from flask) (2.11.3)\n",
            "Requirement already satisfied: MarkupSafe>=0.23 in /usr/local/lib/python3.7/dist-packages (from Jinja2<3.0,>=2.10.1->flask) (2.0.1)\n"
          ]
        }
      ]
    },
    {
      "cell_type": "code",
      "metadata": {
        "colab": {
          "base_uri": "https://localhost:8080/"
        },
        "id": "BRPtDYlkCalb",
        "outputId": "9d17f059-0f71-4410-b9a0-f4045e244d09"
      },
      "source": [
        "!pip show flask"
      ],
      "execution_count": null,
      "outputs": [
        {
          "output_type": "stream",
          "name": "stdout",
          "text": [
            "Name: Flask\n",
            "Version: 1.1.4\n",
            "Summary: A simple framework for building complex web applications.\n",
            "Home-page: https://palletsprojects.com/p/flask/\n",
            "Author: Armin Ronacher\n",
            "Author-email: armin.ronacher@active-4.com\n",
            "License: BSD-3-Clause\n",
            "Location: /usr/local/lib/python3.7/dist-packages\n",
            "Requires: Jinja2, itsdangerous, click, Werkzeug\n",
            "Required-by: community\n"
          ]
        }
      ]
    },
    {
      "cell_type": "markdown",
      "metadata": {
        "id": "fV3kvYjRL88X"
      },
      "source": [
        "𝐛) 𝐰𝐫𝐢𝐭𝐞 𝐚 𝐩𝐫𝐨𝐠𝐫𝐚𝐦 𝐭𝐨 𝐬𝐜𝐫𝐢𝐩𝐭 𝐭𝐡𝐚𝐭 𝐢𝐦𝐩𝐨𝐫𝐭𝐬 𝐫𝐞𝐪𝐮𝐞𝐬𝐭𝐬 𝐚𝐧𝐝 𝐟𝐞𝐭𝐜𝐡 𝐜𝐨𝐧𝐭𝐞𝐧𝐭 𝐟𝐫𝐨𝐦 𝐩𝐚𝐠𝐞 𝐞𝐠:𝐰𝐢𝐤𝐢"
      ]
    },
    {
      "cell_type": "markdown",
      "metadata": {
        "id": "u5-1h0HPILu-"
      },
      "source": [
        " \n",
        "𝐀𝐈𝐌:Write a scripts that imports requests and fetch content from the page.Eg. (Wiki)code:\n",
        "\n",
        "𝐃𝐄𝐒𝐂𝐑𝐈𝐏𝐓𝐈𝐎𝐍:\n",
        "The Hypertext Transfer Protocol (HTTP) is an application protocol for distributed, collaborative, \n",
        "hypermedia information systems. HTTP is the foundation of data communication for the World \n",
        "Wide Web.\n",
        "Python requests\n",
        "Requests is a simple and elegant Python HTTP library. It provides methods for accessing Web \n",
        "resources via HTTP.\n",
        "Python requests reading a web page\n",
        "The get() method issues a GET request; it fetches documents identified by the given URL."
      ]
    },
    {
      "cell_type": "code",
      "metadata": {
        "id": "TuRPnnxkMGgK",
        "colab": {
          "base_uri": "https://localhost:8080/"
        },
        "outputId": "5d9804e6-1f0a-44e9-9d8c-f978af63d7c5"
      },
      "source": [
        "#first you need to install the page which you want to fetch content of it\n",
        "import requests\n",
        "r=requests.get('http://www.google.com') \n",
        "print(\"status code :\", r. status_code) \n",
        "print(\" Header content:\", r. headers['content-type']) \n",
        "print(r.text)"
      ],
      "execution_count": null,
      "outputs": [
        {
          "output_type": "stream",
          "name": "stdout",
          "text": [
            "status code : 200\n",
            " Header content: text/html; charset=ISO-8859-1\n",
            "<!doctype html><html itemscope=\"\" itemtype=\"http://schema.org/WebPage\" lang=\"en\"><head><meta content=\"Search the world's information, including webpages, images, videos and more. Google has many special features to help you find exactly what you're looking for.\" name=\"description\"><meta content=\"noodp\" name=\"robots\"><meta content=\"text/html; charset=UTF-8\" http-equiv=\"Content-Type\"><meta content=\"/logos/doodles/2021/doodle-champion-island-games-september-05-6753651837109292-l.png\" itemprop=\"image\"><meta content=\"Doodle Champion Island Games!\" property=\"twitter:title\"><meta content=\"Feline up for a challenge? Help Lucky claim victory in the Doodle Champion Island Games! #GoogleDoodle \" property=\"twitter:description\"><meta content=\"Feline up for a challenge? Help Lucky claim victory in the Doodle Champion Island Games! #GoogleDoodle \" property=\"og:description\"><meta content=\"summary_large_image\" property=\"twitter:card\"><meta content=\"@GoogleDoodles\" property=\"twitter:site\"><meta content=\"https://www.google.com/logos/doodles/2021/doodle-champion-island-games-september-05-6753651837109292-2xa.gif\" property=\"twitter:image\"><meta content=\"https://www.google.com/logos/doodles/2021/doodle-champion-island-games-september-05-6753651837109292-2xa.gif\" property=\"og:image\"><meta content=\"668\" property=\"og:image:width\"><meta content=\"392\" property=\"og:image:height\"><meta content=\"https://www.google.com/logos/doodles/2021/doodle-champion-island-games-september-05-6753651837109292-2xa.gif\" property=\"og:url\"><meta content=\"video.other\" property=\"og:type\"><title>Google</title><script nonce=\"stky+d/Z6q4HoI0J31CRdg==\">(function(){window.google={kEI:'wrY0YfGbBY-YwbkPlPy9kAg',kEXPI:'0,772215,1,530320,56872,955,5105,206,4804,2316,383,246,5,1353,4937,315,1122515,1197783,500,89,29,328866,51223,16115,28684,17572,1325,3533,1362,9290,3021,17588,4020,978,13228,3847,4192,6430,1142,17903,2777,919,5081,1593,1279,2212,530,149,1103,840,1983,4314,3514,606,2023,1777,520,14670,2273,1,953,2845,7,4774,825,6755,5096,14396,1924,908,2,941,6397,8927,432,3,346,1244,1,5444,149,11323,2652,4,1528,2304,1240,5799,74,1983,2626,2015,11501,2110,1714,3050,2658,4242,3113,32,13628,2305,639,37,1456,5586,3772,5993,1435,2521,3297,2539,992,3102,19,3119,8,906,3,3541,1,5349,9361,1,1813,283,38,874,5992,14678,769,8,1,1272,1344,371,2,3035,22,6155,627,4,32,4,5387,4,91,592,442,342,255,55,4,434,2500,286,1271,743,2351,3502,2050,7271,1142,1160,1269,21,2813,2304,292,300,28,1790,263,2718,3709,2,835,3,125,23,3831,1494,4635,1214,2408,1,8,182,2,6500,284,32,736,1932,190,2445,1596,1354,2748,561,159,1910,2505,794,48,1216,687,1,208,1662,49,539,719,3,792,684,41,2,871,5,383,1023,4,7,43,1167,325,579,119,137,1091,531,93,428,36,36,622,208,320,784,637,33,882,1325,95,169,84,442,2,662,97,178,10,565,275,353,215,682,105,368,366,71,5,824,1,8,74,292,247,146,84,1446,331,137,179,2,1555,723,7,5578343,3904,226,220,72,133,76,6,11,5996571,11,2799361,1324,882,444,1,2,80,1,1796,6,4,2553,1,748,141,795,563,1,4265,1,1,2,1331,4142,2609,155,17,13,72,139,4,2,20,2,169,13,19,46,5,39,96,548,29,2,2,1,2,1,2,2,7,4,1,2,2,2,2,2,2,353,513,186,1,1,158,3,2,2,2,2,2,4,2,3,3,269,291,53,52,14,39,52,4,21,23954197,4041351,276,62,3,2414,448,2,88,375,172,406,9,3235,1540,993',kBL:'94Ui'};google.sn='webhp';google.kHL='en';})();(function(){\n",
            "var f=this||self;var h,k=[];function l(a){for(var b;a&&(!a.getAttribute||!(b=a.getAttribute(\"eid\")));)a=a.parentNode;return b||h}function m(a){for(var b=null;a&&(!a.getAttribute||!(b=a.getAttribute(\"leid\")));)a=a.parentNode;return b}\n",
            "function n(a,b,c,d,g){var e=\"\";c||-1!==b.search(\"&ei=\")||(e=\"&ei=\"+l(d),-1===b.search(\"&lei=\")&&(d=m(d))&&(e+=\"&lei=\"+d));d=\"\";!c&&f._cshid&&-1===b.search(\"&cshid=\")&&\"slh\"!==a&&(d=\"&cshid=\"+f._cshid);c=c||\"/\"+(g||\"gen_204\")+\"?atyp=i&ct=\"+a+\"&cad=\"+b+e+\"&zx=\"+Date.now()+d;/^http:/i.test(c)&&\"https:\"===window.location.protocol&&(google.ml&&google.ml(Error(\"a\"),!1,{src:c,glmm:1}),c=\"\");return c};h=google.kEI;google.getEI=l;google.getLEI=m;google.ml=function(){return null};google.log=function(a,b,c,d,g){if(c=n(a,b,c,d,g)){a=new Image;var e=k.length;k[e]=a;a.onerror=a.onload=a.onabort=function(){delete k[e]};a.src=c}};google.logUrl=n;}).call(this);(function(){\n",
            "google.y={};google.sy=[];google.x=function(a,b){if(a)var c=a.id;else{do c=Math.random();while(google.y[c])}google.y[c]=[a,b];return!1};google.sx=function(a){google.sy.push(a)};google.lm=[];google.plm=function(a){google.lm.push.apply(google.lm,a)};google.lq=[];google.load=function(a,b,c){google.lq.push([[a],b,c])};google.loadAll=function(a,b){google.lq.push([a,b])};google.bx=!1;google.lx=function(){};}).call(this);google.f={};(function(){\n",
            "document.documentElement.addEventListener(\"submit\",function(b){var a;if(a=b.target){var c=a.getAttribute(\"data-submitfalse\");a=\"1\"==c||\"q\"==c&&!a.elements.q.value?!0:!1}else a=!1;a&&(b.preventDefault(),b.stopPropagation())},!0);document.documentElement.addEventListener(\"click\",function(b){var a;a:{for(a=b.target;a&&a!=document.documentElement;a=a.parentElement)if(\"A\"==a.tagName){a=\"1\"==a.getAttribute(\"data-nohref\");break a}a=!1}a&&b.preventDefault()},!0);}).call(this);</script><style>#gbar,#guser{font-size:13px;padding-top:1px !important;}#gbar{height:22px}#guser{padding-bottom:7px !important;text-align:right}.gbh,.gbd{border-top:1px solid #c9d7f1;font-size:1px}.gbh{height:0;position:absolute;top:24px;width:100%}@media all{.gb1{height:22px;margin-right:.5em;vertical-align:top}#gbar{float:left}}a.gb1,a.gb4{text-decoration:underline !important}a.gb1,a.gb4{color:#00c !important}.gbi .gb4{color:#dd8e27 !important}.gbf .gb4{color:#900 !important}\n",
            "</style><style>body,td,a,p,.h{font-family:arial,sans-serif}body{margin:0;overflow-y:scroll}#gog{padding:3px 8px 0}td{line-height:.8em}.gac_m td{line-height:17px}form{margin-bottom:20px}.h{color:#1558d6}em{font-weight:bold;font-style:normal}.lst{height:25px;width:496px}.gsfi,.lst{font:18px arial,sans-serif}.gsfs{font:17px arial,sans-serif}.ds{display:inline-box;display:inline-block;margin:3px 0 4px;margin-left:4px}input{font-family:inherit}body{background:#fff;color:#000}a{color:#4b11a8;text-decoration:none}a:hover,a:active{text-decoration:underline}.fl a{color:#1558d6}a:visited{color:#4b11a8}.sblc{padding-top:5px}.sblc a{display:block;margin:2px 0;margin-left:13px;font-size:11px}.lsbb{background:#f8f9fa;border:solid 1px;border-color:#dadce0 #70757a #70757a #dadce0;height:30px}.lsbb{display:block}#WqQANb a{display:inline-block;margin:0 12px}.lsb{background:url(/images/nav_logo229.png) 0 -261px repeat-x;border:none;color:#000;cursor:pointer;height:30px;margin:0;outline:0;font:15px arial,sans-serif;vertical-align:top}.lsb:active{background:#dadce0}.lst:focus{outline:none}</style><script nonce=\"stky+d/Z6q4HoI0J31CRdg==\"></script></head><body bgcolor=\"#fff\"><script nonce=\"stky+d/Z6q4HoI0J31CRdg==\">(function(){var src='/images/nav_logo229.png';var iesg=false;document.body.onload = function(){window.n && window.n();if (document.images){new Image().src=src;}\n",
            "if (!iesg){document.f&&document.f.q.focus();document.gbqf&&document.gbqf.q.focus();}\n",
            "}\n",
            "})();</script><div id=\"mngb\"><div id=gbar><nobr><b class=gb1>Search</b> <a class=gb1 href=\"http://www.google.com/imghp?hl=en&tab=wi\">Images</a> <a class=gb1 href=\"http://maps.google.com/maps?hl=en&tab=wl\">Maps</a> <a class=gb1 href=\"https://play.google.com/?hl=en&tab=w8\">Play</a> <a class=gb1 href=\"http://www.youtube.com/?gl=US&tab=w1\">YouTube</a> <a class=gb1 href=\"https://news.google.com/?tab=wn\">News</a> <a class=gb1 href=\"https://mail.google.com/mail/?tab=wm\">Gmail</a> <a class=gb1 href=\"https://drive.google.com/?tab=wo\">Drive</a> <a class=gb1 style=\"text-decoration:none\" href=\"https://www.google.com/intl/en/about/products?tab=wh\"><u>More</u> &raquo;</a></nobr></div><div id=guser width=100%><nobr><span id=gbn class=gbi></span><span id=gbf class=gbf></span><span id=gbe></span><a href=\"http://www.google.com/history/optout?hl=en\" class=gb4>Web History</a> | <a  href=\"/preferences?hl=en\" class=gb4>Settings</a> | <a target=_top id=gb_70 href=\"https://accounts.google.com/ServiceLogin?hl=en&passive=true&continue=http://www.google.com/&ec=GAZAAQ\" class=gb4>Sign in</a></nobr></div><div class=gbh style=left:0></div><div class=gbh style=right:0></div></div><center><br clear=\"all\" id=\"lgpd\"><div id=\"lga\"><a href=\"/search?ie=UTF-8&amp;q=Paralympics&amp;oi=ddle&amp;ct=192414335&amp;hl=en&amp;si=AHuW2sT-QI6yLdyEfUBJHlK3UbYl5IMFaEVy5cpr0uPqDA9_otVXb9ripiHnz-EX5hXZ_jIa8ESKopokBeQtHfj9KzxO6Dw9kGEpQWJxyyGVK2B-ksVRRB0%3D&amp;sa=X&amp;ved=0ahUKEwjxhKzN6efyAhUPTDABHRR-D4IQPQgD\"><img alt=\"Doodle Champion Island Games!\" border=\"0\" height=\"196\" src=\"/logos/doodles/2021/doodle-champion-island-games-september-05-6753651837109292-l.png\" title=\"Doodle Champion Island Games!\" width=\"334\" id=\"hplogo\"><br></a><br></div><form action=\"/search\" name=\"f\"><table cellpadding=\"0\" cellspacing=\"0\"><tr valign=\"top\"><td width=\"25%\">&nbsp;</td><td align=\"center\" nowrap=\"\"><input name=\"ie\" value=\"ISO-8859-1\" type=\"hidden\"><input value=\"en\" name=\"hl\" type=\"hidden\"><input name=\"source\" type=\"hidden\" value=\"hp\"><input name=\"biw\" type=\"hidden\"><input name=\"bih\" type=\"hidden\"><div class=\"ds\" style=\"height:32px;margin:4px 0\"><input class=\"lst\" style=\"margin:0;padding:5px 8px 0 6px;vertical-align:top;color:#000\" autocomplete=\"off\" value=\"\" title=\"Google Search\" maxlength=\"2048\" name=\"q\" size=\"57\"></div><br style=\"line-height:0\"><span class=\"ds\"><span class=\"lsbb\"><input class=\"lsb\" value=\"Google Search\" name=\"btnG\" type=\"submit\"></span></span><span class=\"ds\"><span class=\"lsbb\"><input class=\"lsb\" id=\"tsuid1\" value=\"I'm Feeling Lucky\" name=\"btnI\" type=\"submit\"><script nonce=\"stky+d/Z6q4HoI0J31CRdg==\">(function(){var id='tsuid1';document.getElementById(id).onclick = function(){if (this.form.q.value){this.checked = 1;if (this.form.iflsig)this.form.iflsig.disabled = false;}\n",
            "else top.location='/doodles/';};})();</script><input value=\"ALs-wAMAAAAAYTTE0h6wOh5xMotGu3ikcq2mHIvhKfCH\" name=\"iflsig\" type=\"hidden\"></span></span></td><td class=\"fl sblc\" align=\"left\" nowrap=\"\" width=\"25%\"><a href=\"/advanced_search?hl=en&amp;authuser=0\">Advanced search</a></td></tr></table><input id=\"gbv\" name=\"gbv\" type=\"hidden\" value=\"1\"><script nonce=\"stky+d/Z6q4HoI0J31CRdg==\">(function(){\n",
            "var a,b=\"1\";if(document&&document.getElementById)if(\"undefined\"!=typeof XMLHttpRequest)b=\"2\";else if(\"undefined\"!=typeof ActiveXObject){var c,d,e=[\"MSXML2.XMLHTTP.6.0\",\"MSXML2.XMLHTTP.3.0\",\"MSXML2.XMLHTTP\",\"Microsoft.XMLHTTP\"];for(c=0;d=e[c++];)try{new ActiveXObject(d),b=\"2\"}catch(h){}}a=b;if(\"2\"==a&&-1==location.search.indexOf(\"&gbv=2\")){var f=google.gbvu,g=document.getElementById(\"gbv\");g&&(g.value=a);f&&window.setTimeout(function(){location.href=f},0)};}).call(this);</script></form><div id=\"gac_scont\"></div><div style=\"font-size:83%;min-height:3.5em\"><br></div><span id=\"footer\"><div style=\"font-size:10pt\"><div style=\"margin:19px auto;text-align:center\" id=\"WqQANb\"><a href=\"/intl/en/ads/\">Advertising Programs</a><a href=\"/services/\">Business Solutions</a><a href=\"/intl/en/about.html\">About Google</a></div></div><p style=\"font-size:8pt;color:#70757a\">&copy; 2021 - <a href=\"/intl/en/policies/privacy/\">Privacy</a> - <a href=\"/intl/en/policies/terms/\">Terms</a></p></span></center><script nonce=\"stky+d/Z6q4HoI0J31CRdg==\">(function(){window.google.cdo={height:757,width:1440};(function(){\n",
            "var a=window.innerWidth,b=window.innerHeight;if(!a||!b){var c=window.document,d=\"CSS1Compat\"==c.compatMode?c.documentElement:c.body;a=d.clientWidth;b=d.clientHeight}a&&b&&(a!=google.cdo.width||b!=google.cdo.height)&&google.log(\"\",\"\",\"/client_204?&atyp=i&biw=\"+a+\"&bih=\"+b+\"&ei=\"+google.kEI);}).call(this);})();</script> <script nonce=\"stky+d/Z6q4HoI0J31CRdg==\">(function(){google.xjs={ck:'',cs:'',excm:[]};})();</script>  <script nonce=\"stky+d/Z6q4HoI0J31CRdg==\">(function(){var u='/xjs/_/js/k\\x3dxjs.hp.en_US.uJVE4aH5PNY.O/am\\x3dAPgEWA/d\\x3d1/ed\\x3d1/rs\\x3dACT90oHMCNW-abUb8NKgcji0KPjTPcrpeg/m\\x3dsb_he,d';\n",
            "var e=this||self,f=function(a){return a};var g;var l=function(a,b){this.g=b===h?a:\"\"};l.prototype.toString=function(){return this.g+\"\"};var h={};function m(){var a=u;google.lx=function(){n(a);google.lx=function(){}};google.bx||google.lx()}\n",
            "function n(a){google.timers&&google.timers.load&&google.tick&&google.tick(\"load\",\"xjsls\");var b=document;var c=\"SCRIPT\";\"application/xhtml+xml\"===b.contentType&&(c=c.toLowerCase());c=b.createElement(c);if(void 0===g){b=null;var k=e.trustedTypes;if(k&&k.createPolicy){try{b=k.createPolicy(\"goog#html\",{createHTML:f,createScript:f,createScriptURL:f})}catch(p){e.console&&e.console.error(p.message)}g=b}else g=b}a=(b=g)?b.createScriptURL(a):a;a=new l(a,h);c.src=a instanceof l&&a.constructor===l?a.g:\"type_error:TrustedResourceUrl\";var d;a=(c.ownerDocument&&c.ownerDocument.defaultView||window).document;(d=(b=null===(d=a.querySelector)||void 0===d?void 0:d.call(a,\"script[nonce]\"))?b.nonce||b.getAttribute(\"nonce\")||\"\":\"\")&&c.setAttribute(\"nonce\",d);document.body.appendChild(c);google.psa=!0};setTimeout(function(){m()},0);})();(function(){window.google.xjsu='/xjs/_/js/k\\x3dxjs.hp.en_US.uJVE4aH5PNY.O/am\\x3dAPgEWA/d\\x3d1/ed\\x3d1/rs\\x3dACT90oHMCNW-abUb8NKgcji0KPjTPcrpeg/m\\x3dsb_he,d';})();function _DumpException(e){throw e;}\n",
            "function _F_installCss(c){}\n",
            "(function(){google.jl={attn:false,blt:'none',chnk:0,dw:false,emtn:0,end:0,ine:false,lls:'default',pdt:0,rep:0,sif:true,snet:true,strt:0,ubm:false,uwp:true};})();(function(){var pmc='{\\x22d\\x22:{},\\x22sb_he\\x22:{\\x22agen\\x22:true,\\x22cgen\\x22:true,\\x22client\\x22:\\x22heirloom-hp\\x22,\\x22dh\\x22:true,\\x22dhqt\\x22:true,\\x22ds\\x22:\\x22\\x22,\\x22ffql\\x22:\\x22en\\x22,\\x22fl\\x22:true,\\x22host\\x22:\\x22google.com\\x22,\\x22isbh\\x22:28,\\x22jsonp\\x22:true,\\x22msgs\\x22:{\\x22cibl\\x22:\\x22Clear Search\\x22,\\x22dym\\x22:\\x22Did you mean:\\x22,\\x22lcky\\x22:\\x22I\\\\u0026#39;m Feeling Lucky\\x22,\\x22lml\\x22:\\x22Learn more\\x22,\\x22oskt\\x22:\\x22Input tools\\x22,\\x22psrc\\x22:\\x22This search was removed from your \\\\u003Ca href\\x3d\\\\\\x22/history\\\\\\x22\\\\u003EWeb History\\\\u003C/a\\\\u003E\\x22,\\x22psrl\\x22:\\x22Remove\\x22,\\x22sbit\\x22:\\x22Search by image\\x22,\\x22srch\\x22:\\x22Google Search\\x22},\\x22ovr\\x22:{},\\x22pq\\x22:\\x22\\x22,\\x22refpd\\x22:true,\\x22rfs\\x22:[],\\x22sbas\\x22:\\x220 3px 8px 0 rgba(0,0,0,0.2),0 0 0 1px rgba(0,0,0,0.08)\\x22,\\x22sbpl\\x22:16,\\x22sbpr\\x22:16,\\x22scd\\x22:10,\\x22stok\\x22:\\x22eXeBd4hUd9tLvkNniOxzs0Q_ryY\\x22,\\x22uhde\\x22:false}}';google.pmc=JSON.parse(pmc);})();</script>        </body></html>\n"
          ]
        }
      ]
    },
    {
      "cell_type": "markdown",
      "metadata": {
        "id": "XN0TNj4uMpbS"
      },
      "source": [
        "𝐜) 𝐰𝐫𝐢𝐭𝐞 𝐚 𝐬𝐢𝐦𝐩𝐥𝐞 𝐬𝐜𝐫𝐢𝐩𝐭 𝐭𝐡𝐚𝐭 𝐬𝐞𝐫𝐯𝐞𝐬 𝐚 𝐬𝐢𝐦𝐩𝐥𝐞 𝐡𝐭𝐭𝐩 𝐫𝐞𝐬𝐩𝐨𝐧𝐬𝐞 𝐚𝐧𝐝 𝐚 𝐬𝐢𝐦𝐩𝐥𝐞 𝐇𝐓𝐌𝐋 𝐩𝐚𝐠𝐞"
      ]
    },
    {
      "cell_type": "markdown",
      "metadata": {
        "id": "4Mdl080fyav9"
      },
      "source": [
        " \n",
        "𝐀𝐈𝐌:Write a simple script that serves a simple HTTPResponse and Simple HTML page.\n",
        "\n",
        "𝐃𝐄𝐒𝐂𝐑𝐈𝐏𝐓𝐈𝐎𝐍:HTTP Protocol\n",
        "The most important part of a web server is HTTP protocol.So now we will see what exactly this \n",
        "is –\n",
        "It stands for Hyper Text Transfer Protocol.\n",
        "It is an application layer protocol that allows web based applications to communicate and \n",
        "exchange data.\n",
        "The HTTP is the messenger of web.\n",
        "The computer that communicate via the HTTP must speak the HTTP protocol. \n",
        "It is a TCP/IP based protocol.\n",
        "It is used to deliver contents, for eg. images, audios, videos, documents etc.\n",
        "Using HTTP is the most convenient way to quickly and reliably move data on the web.\n",
        "HTML stands for hypertext markup language. It is the standard markup language for web pages \n",
        "that define the structure of the content. These elements are the building blocks of any website"
      ]
    },
    {
      "cell_type": "code",
      "metadata": {
        "colab": {
          "base_uri": "https://localhost:8080/"
        },
        "id": "PqyKo9dHMxkD",
        "outputId": "bc581682-cea3-47f5-ed5c-29dcc574970e"
      },
      "source": [
        "from flask import Flask, render_template\n",
        "app=Flask(__name__) \n",
        "print(app) \n",
        "@app.route(\"/\") \n",
        "def main() :\n",
        "    return render_template(\"login.html\") \n",
        "if __name__==\"__main__\" :\n",
        "   app. run(host=\"127.0.0.1\", port=2500)"
      ],
      "execution_count": null,
      "outputs": [
        {
          "name": "stdout",
          "output_type": "stream",
          "text": [
            "<Flask '__main__'>\n",
            " * Serving Flask app \"__main__\" (lazy loading)\n",
            " * Environment: production\n",
            "\u001b[31m   WARNING: This is a development server. Do not use it in a production deployment.\u001b[0m\n",
            "\u001b[2m   Use a production WSGI server instead.\u001b[0m\n",
            " * Debug mode: off\n"
          ]
        },
        {
          "name": "stderr",
          "output_type": "stream",
          "text": [
            " * Running on http://127.0.0.1:2500/ (Press CTRL+C to quit)\n"
          ]
        }
      ]
    },
    {
      "cell_type": "markdown",
      "metadata": {
        "id": "0R8DEVxaFaiY"
      },
      "source": [
        " \n",
        "𝗘𝗫𝗘𝗥𝗖𝗜𝗦𝗘 -𝟭𝟯:𝗢𝗢𝗣𝗦\n",
        "𝐚) 𝐜𝐥𝐚𝐬𝐬 𝐯𝐚𝐫𝐢𝐚𝐛𝐥𝐞𝐬 𝐚𝐧𝐝 𝐢𝐧𝐬𝐭𝐚𝐧𝐜𝐞𝐬 𝐯𝐚𝐫𝐢𝐚𝐛𝐥𝐞 𝐚𝐧𝐝 𝐢𝐥𝐥𝐮𝐬𝐭𝐫𝐚𝐭𝐢𝐨𝐧 𝐨𝐟 𝐭𝐡𝐞 𝐬𝐞𝐥𝐟 𝐯𝐚𝐫𝐢𝐚𝐛𝐥𝐞"
      ]
    },
    {
      "cell_type": "markdown",
      "metadata": {
        "id": "9SveF7sdSMrQ"
      },
      "source": [
        "\n",
        "\n",
        " 𝐀𝐈𝐌:To write class variables and instance variable and illustration of the self -variable\n",
        "\n",
        "𝐃𝐄𝐒𝐂𝐑𝐈𝐏𝐓𝐈𝐎𝐍:class variableis shared by all object instances of a class.....They are not defined inside any\n",
        "methods of a class. Because a class variable is shared by instances of a class, the Python class \n",
        "owns the variable. As a result, all instances of the class will be able to access that variable\n",
        "Instance variables are owned by instances of the class. This means that for each object or\n",
        "instance of a class, the instance variables are different..... Instance variables, owned by objects\n",
        "of the class, allow for each object or instance to have different values assigned to those \n",
        "variables\n",
        "self variable is used to bind the instance of the class to the instance method. We have to \n",
        "explicitly declare it as the first method argument to access the instance variables and methods. \n",
        "This variable is used only with the instance methods."
      ]
    },
    {
      "cell_type": "code",
      "metadata": {
        "colab": {
          "base_uri": "https://localhost:8080/"
        },
        "id": "_PO-kwP9FnuZ",
        "outputId": "96e10076-7635-41c2-c8c1-3b8ca27d5b3c"
      },
      "source": [
        " \n",
        "#Robot\n",
        " \n",
        "class Robot:\n",
        " \n",
        "    what=\"Machine\"\n",
        " \n",
        "    name=\"Chitti\"\n",
        " \n",
        "    version=1.0\n",
        " \n",
        "    speed=\"1THz\"\n",
        " \n",
        "    memory=\"1ZB\"\n",
        " \n",
        "    def update(upd):\n",
        " \n",
        "        upd.version=2.0\n",
        " \n",
        "        upd.speed=\"2THz\"\n",
        " \n",
        "        upd.memory=\"2ZB\"\n",
        " \n",
        "    def disp(self):\n",
        " \n",
        "        print(\"Myself is a\",robj.what)\n",
        " \n",
        "        print(\"MyName is a\",robj.name)\n",
        " \n",
        "        print(\"Version :\",robj.version)\n",
        " \n",
        "        print(\"Speed : \",robj.speed)\n",
        " \n",
        "        print(\"Memory: \",robj.memory)\n",
        " \n",
        "robj=Robot()\n",
        " \n",
        "robj.disp()\n",
        " \n",
        "print(\"---------------Update---------\")\n",
        " \n",
        "robj.update()\n",
        " \n",
        "robj.disp()"
      ],
      "execution_count": null,
      "outputs": [
        {
          "name": "stdout",
          "output_type": "stream",
          "text": [
            "Myself is a Machine\n",
            "MyName is a Chitti\n",
            "Version : 1.0\n",
            "Speed :  1THz\n",
            "Memory:  1ZB\n",
            "---------------Update---------\n",
            "Myself is a Machine\n",
            "MyName is a Chitti\n",
            "Version : 2.0\n",
            "Speed :  2THz\n",
            "Memory:  2ZB\n"
          ]
        }
      ]
    },
    {
      "cell_type": "code",
      "metadata": {
        "colab": {
          "base_uri": "https://localhost:8080/"
        },
        "id": "WzyjO96JFwx-",
        "outputId": "e9774787-4daa-45eb-d29e-e5ced1c19566"
      },
      "source": [
        "#ATM\n",
        "class ATM:\n",
        "    def __init__(self):\n",
        "        self.balance=0\n",
        "        print(\"New Account\")\n",
        "        \n",
        "    def enquire(self):\n",
        "        print(\"Balance: \",self.balance)\n",
        "        \n",
        "    def deposit(self):\n",
        "        amount=int(input(\"Enter the Deposit Amount:\"))\n",
        "        self.balance+=amount\n",
        "        self.enquire()\n",
        " \n",
        "    def withdraw(self):\n",
        "        amount=int(input(\"Enter the Withdraw Amount: \"))\n",
        "        if self.balance<amount:\n",
        "            print(\"Insufficient Balance.....!\")\n",
        "        else:\n",
        "            self.balance-=amount\n",
        "            self.enquire()\n",
        "aobj=ATM()\n",
        "while(True):\n",
        "    print(\"*****Menu****\")\n",
        "    print(\"1.Deposit\")\n",
        "    print(\"2.Withdarw\")\n",
        "    print(\"3.Balance\")\n",
        "    print(\"0.Exit\")\n",
        "    ch=int(input(\"Enter Your Choice: \"))\n",
        "    if ch==0:\n",
        "        break\n",
        "    elif ch==1:\n",
        "        aobj.deposit()\n",
        "    elif ch==2:\n",
        "        aobj.withdraw()\n",
        "    elif ch==3:\n",
        "        aobj.enquire()\n",
        "    else:\n",
        "        print(\"Invalid choice:\")\n",
        "        pass"
      ],
      "execution_count": null,
      "outputs": [
        {
          "name": "stdout",
          "output_type": "stream",
          "text": [
            "New Account\n",
            "*****Menu****\n",
            "1.Deposit\n",
            "2.Withdarw\n",
            "3.Balance\n",
            "0.Exit\n",
            "Enter Your Choice: 3\n",
            "Balance:  0\n",
            "*****Menu****\n",
            "1.Deposit\n",
            "2.Withdarw\n",
            "3.Balance\n",
            "0.Exit\n",
            "Enter Your Choice: 2\n",
            "Enter the Withdraw Amount: 1000\n",
            "Insufficient Balance.....!\n",
            "*****Menu****\n",
            "1.Deposit\n",
            "2.Withdarw\n",
            "3.Balance\n",
            "0.Exit\n",
            "Enter Your Choice: 1\n",
            "Enter the Deposit Amount:3000\n",
            "Balance:  3000\n",
            "*****Menu****\n",
            "1.Deposit\n",
            "2.Withdarw\n",
            "3.Balance\n",
            "0.Exit\n",
            "Enter Your Choice: 2\n",
            "Enter the Withdraw Amount: 1000\n",
            "Balance:  2000\n",
            "*****Menu****\n",
            "1.Deposit\n",
            "2.Withdarw\n",
            "3.Balance\n",
            "0.Exit\n",
            "Enter Your Choice: 0\n"
          ]
        }
      ]
    },
    {
      "cell_type": "markdown",
      "metadata": {
        "id": "96BY0N86fpdD"
      },
      "source": [
        " 𝗘𝗫𝗘𝗥𝗖𝗜𝗦𝗘-𝟭𝟰:𝗚𝗨𝗜 \n",
        "𝐚)𝐰𝐫𝐢𝐭𝐞 𝐚 𝐠𝐮𝐢 𝐟𝐨𝐫 𝐚𝐧 𝐞𝐱𝐩𝐫𝐞𝐬𝐬𝐢𝐨𝐧 𝐜𝐚𝐥𝐜𝐮𝐥𝐚𝐭𝐨𝐫 𝐮𝐬𝐢𝐧𝐠 𝐭𝐤"
      ]
    },
    {
      "cell_type": "markdown",
      "metadata": {
        "id": "ogEM8RgUIltb"
      },
      "source": [
        " \n",
        "𝐀𝐈𝐌:To write a program for calculator using gui \n",
        " \n",
        "𝐃𝐄𝐒𝐂𝐑𝐈𝐏𝐓𝐈𝐎𝐍\n",
        "Tkinter is a Python package which comes with many functions and methods that can be used to \n",
        "create an application. In order to create a tkinter application, we generally create an instance of \n",
        "tkinter frame, i.e., Tk(). It helps to display the root window and manages all the other \n",
        "components of the tkinter application. We can initialize the tkinter instance by assigning the \n",
        "variable to it."
      ]
    },
    {
      "cell_type": "code",
      "metadata": {
        "id": "vpA5G6fzf8-g"
      },
      "source": [
        "from tkinter import *\n",
        " \n",
        "win = Tk() # to create a basic window\n",
        "win.geometry(\"312x324\")  #for the size of the window \n",
        "win.resizable(0, 0)  # to prevent from resizing the window\n",
        "win.title(\"Calculator\")\n",
        " \n",
        "# 'btn_click' Function continuously updates the \n",
        "# input field whenever you enters a number\n",
        " \n",
        "def btn_click(item):\n",
        "    global expression\n",
        "    expression = expression + str(item)\n",
        "    input_text.set(expression)\n",
        " \n",
        "# 'bt_clear' function : used to clear the input field\n",
        " \n",
        "def bt_clear(): \n",
        "    global expression \n",
        "    expression = \"\" \n",
        "    input_text.set(\"\")\n",
        " \n",
        "# 'bt_equal':calculates the expression present in input field\n",
        " \n",
        "def bt_equal():\n",
        "    global expression\n",
        "    result = str(eval(expression)) # 'eval':This function is used to evaluates the string expression directly\n",
        "    input_text.set(result)\n",
        "    expression = \"\"\n",
        " \n",
        "expression = \"\"\n",
        " \n",
        "# 'StringVar()' :used to get the instance of input field\n",
        " \n",
        "input_text = StringVar()\n",
        " \n",
        "# creating a frame for the input field\n",
        " \n",
        "input_frame = Frame(win, width=312, height=50, bd=0, highlightbackground=\"black\", highlightcolor=\"black\", highlightthickness=2)\n",
        " \n",
        "input_frame.pack(side=TOP)\n",
        " \n",
        "#create a input field inside the 'Frame'\n",
        " \n",
        "input_field = Entry(input_frame, font=('arial', 18, 'bold'), textvariable=input_text, width=50, bg=\"#eee\", bd=0, justify=RIGHT)\n",
        " \n",
        "input_field.grid(row=0, column=0)\n",
        " \n",
        "input_field.pack(ipady=10)\n",
        " # 'ipady' is internal padding to increase the height of input field\n",
        " \n",
        "#creating another 'Frame' for the button below the 'input_frame'\n",
        " \n",
        "btns_frame = Frame(win, width=312, height=272.5, bg=\"grey\")\n",
        " \n",
        "btns_frame.pack()\n",
        " \n",
        "# first row\n",
        " \n",
        "clear = Button(btns_frame, text = \"C\", fg = \"black\", width = 32, height = 3, bd = 0, bg = \"#eee\", cursor = \"hand2\", command = lambda: bt_clear()).grid(row = 0, column = 0, columnspan = 3, padx = 1, pady = 1)\n",
        " \n",
        "divide = Button(btns_frame, text = \"/\", fg = \"black\", width = 10, height = 3, bd = 0, bg = \"#eee\", cursor = \"hand2\", command = lambda: btn_click(\"/\")).grid(row = 0, column = 3, padx = 1, pady = 1)\n",
        " \n",
        "# second row\n",
        " \n",
        "seven = Button(btns_frame, text = \"7\", fg = \"black\", width = 10, height = 3, bd = 0, bg = \"#fff\", cursor = \"hand2\", command = lambda: btn_click(7)).grid(row = 1, column = 0, padx = 1, pady = 1)\n",
        " \n",
        "eight = Button(btns_frame, text = \"8\", fg = \"black\", width = 10, height = 3, bd = 0, bg = \"#fff\", cursor = \"hand2\", command = lambda: btn_click(8)).grid(row = 1, column = 1, padx = 1, pady = 1)\n",
        " \n",
        "nine = Button(btns_frame, text = \"9\", fg = \"black\", width = 10, height = 3, bd = 0, bg = \"#fff\", cursor = \"hand2\", command = lambda: btn_click(9)).grid(row = 1, column = 2, padx = 1, pady = 1)\n",
        " \n",
        "multiply = Button(btns_frame, text = \"*\", fg = \"black\", width = 10, height = 3, bd = 0, bg = \"#eee\", cursor = \"hand2\", command = lambda: btn_click(\"*\")).grid(row = 1, column = 3, padx = 1, pady = 1)\n",
        " \n",
        "# third row\n",
        " \n",
        "four = Button(btns_frame, text = \"4\", fg = \"black\", width = 10, height = 3, bd = 0, bg = \"#fff\", cursor = \"hand2\", command = lambda: btn_click(4)).grid(row = 2, column = 0, padx = 1, pady = 1)\n",
        " \n",
        "five = Button(btns_frame, text = \"5\", fg = \"black\", width = 10, height = 3, bd = 0, bg = \"#fff\", cursor = \"hand2\", command = lambda: btn_click(5)).grid(row = 2, column = 1, padx = 1, pady = 1)\n",
        " \n",
        "six = Button(btns_frame, text = \"6\", fg = \"black\", width = 10, height = 3, bd = 0, bg = \"#fff\", cursor = \"hand2\", command = lambda: btn_click(6)).grid(row = 2, column = 2, padx = 1, pady = 1)\n",
        " \n",
        "minus = Button(btns_frame, text = \"-\", fg = \"black\", width = 10, height = 3, bd = 0, bg = \"#eee\", cursor = \"hand2\", command = lambda: btn_click(\"-\")).grid(row = 2, column = 3, padx = 1, pady = 1)\n",
        " \n",
        "# fourth row\n",
        " \n",
        "one = Button(btns_frame, text = \"1\", fg = \"black\", width = 10, height = 3, bd = 0, bg = \"#fff\", cursor = \"hand2\", command = lambda: btn_click(1)).grid(row = 3, column = 0, padx = 1, pady = 1)\n",
        " \n",
        "two = Button(btns_frame, text = \"2\", fg = \"black\", width = 10, height = 3, bd = 0, bg = \"#fff\", cursor = \"hand2\", command = lambda: btn_click(2)).grid(row = 3, column = 1, padx = 1, pady = 1)\n",
        " \n",
        "three = Button(btns_frame, text = \"3\", fg = \"black\", width = 10, height = 3, bd = 0, bg = \"#fff\", cursor = \"hand2\", command = lambda: btn_click(3)).grid(row = 3, column = 2, padx = 1, pady = 1)\n",
        " \n",
        "plus = Button(btns_frame, text = \"+\", fg = \"black\", width = 10, height = 3, bd = 0, bg = \"#eee\", cursor = \"hand2\", command = lambda: btn_click(\"+\")).grid(row = 3, column = 3, padx = 1, pady = 1)\n",
        " \n",
        "# fifth row\n",
        " \n",
        "zero = Button(btns_frame, text = \"0\", fg = \"black\", width = 21, height = 3, bd = 0, bg = \"#fff\", cursor = \"hand2\", command = lambda: btn_click(0)).grid(row = 4, column = 0, columnspan = 2, padx = 1, pady = 1)\n",
        " \n",
        "point = Button(btns_frame, text = \".\", fg = \"black\", width = 10, height = 3, bd = 0, bg = \"#eee\", cursor = \"hand2\", command = lambda: btn_click(\".\")).grid(row = 4, column = 2, padx = 1, pady = 1)\n",
        " \n",
        "equals = Button(btns_frame, text = \"=\", fg = \"black\", width = 10, height = 3, bd = 0, bg = \"#eee\", cursor = \"hand2\", command = lambda: bt_equal()).grid(row = 4, column = 3, padx = 1, pady = 1)\n",
        " \n",
        "win.mainloop()"
      ],
      "execution_count": null,
      "outputs": []
    },
    {
      "cell_type": "markdown",
      "metadata": {
        "id": "BYvcdJBWBe-F"
      },
      "source": [
        "![image.png](data:image/png;base64,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)"
      ]
    },
    {
      "cell_type": "markdown",
      "metadata": {
        "id": "u6oj2YnoGGnS"
      },
      "source": [
        "𝐛) 𝐰𝐫𝐢𝐭𝐞 𝐚 𝐩𝐫𝐨𝐠𝐫𝐚𝐦 𝐭𝐨 𝐢𝐦𝐩𝐥𝐞𝐦𝐞𝐧𝐭 𝐭𝐡𝐞 𝐟𝐨𝐥𝐥𝐨𝐰𝐢𝐧𝐠 𝐟𝐢𝐠𝐮𝐫𝐞𝐬 𝐮𝐬𝐢𝐧𝐠 𝐭𝐮𝐫𝐭𝐥𝐞."
      ]
    },
    {
      "cell_type": "markdown",
      "metadata": {
        "id": "d8KtdQzuSVV0"
      },
      "source": [
        " 𝐀𝐈𝐌:To Write a program to implement the following figures using turtle\n",
        "𝐃𝐄𝐒𝐂𝐑𝐈𝐏𝐓𝐈𝐎𝐍:\n",
        "turtle is a pre-installed Python library that enables users to create pictures and shapes by providing them with a virtual canvas. The onscreen pen that you use for drawing is called the turtle and this is what gives the library its name. ... Most developers use turtle to draw shapes, create designs, and make images."
      ]
    },
    {
      "cell_type": "code",
      "metadata": {
        "id": "IbDZ1FPWfzMY"
      },
      "source": [
        "import turtle as t\n",
        "t.shape('turtle')"
      ],
      "execution_count": null,
      "outputs": []
    },
    {
      "cell_type": "code",
      "metadata": {
        "id": "XAMVCEgAGHQ8"
      },
      "source": [
        "#figure1\n",
        "import turtle\n",
        "c=[\"red\", \"green\" \"blue\"]\n",
        "i=0\n",
        "turtle.pensize(5)\n",
        "for angle in range(0, 360,30) :\n",
        "    if i>2: \n",
        "        i=0\n",
        "    turtle.color([i]) \n",
        "    turtle.seth(angle)\n",
        "    turtle.circle(50)\n",
        "    i+=1"
      ],
      "execution_count": null,
      "outputs": []
    },
    {
      "cell_type": "markdown",
      "metadata": {
        "id": "eN9CGdxyBldx"
      },
      "source": [
        "![image.png](data:image/png;base64,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)"
      ]
    },
    {
      "cell_type": "code",
      "metadata": {
        "id": "7NXS8Em2GMvM"
      },
      "source": [
        "#figure2\n",
        "import turtle    \n",
        "turtle.pensize(1)\n",
        "for i in range(36):\n",
        "  for j in range(4):\n",
        "       turtle.forward(70)\n",
        "       turtle.left(90)\n",
        "  turtle.left(10)"
      ],
      "execution_count": null,
      "outputs": []
    },
    {
      "cell_type": "markdown",
      "metadata": {
        "id": "Yhpr4ZKoBt9h"
      },
      "source": [
        "![image.png](data:image/png;base64,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)"
      ]
    },
    {
      "cell_type": "markdown",
      "metadata": {
        "id": "Bdwt96ZDllK-"
      },
      "source": [
        "𝗘𝘅𝗲𝗿𝗰𝗶𝘀𝗲-𝟭𝟱: 𝗧𝗲𝘀𝘁𝗶𝗻𝗴\n",
        "𝐚) 𝐖𝐫𝐢𝐭𝐞 𝐚 𝐭𝐞𝐬𝐭-𝐜𝐚𝐬𝐞 𝐭𝐨 𝐜𝐡𝐞𝐜𝐤 𝐭𝐡𝐞 𝐟𝐮𝐧𝐜𝐭𝐢𝐨𝐧 𝐞𝐯𝐞𝐧 𝐧𝐮𝐦𝐛𝐞𝐫𝐬 𝐰𝐡𝐢𝐜𝐡 𝐫𝐞𝐭𝐮𝐫𝐧 𝐓𝐫𝐮𝐞 𝐨𝐧 𝐩𝐚𝐬𝐬𝐢𝐧𝐠 𝐚 𝐥𝐢𝐬𝐭 𝐨𝐟 𝐚𝐥𝐥 𝐞𝐯𝐞𝐧 𝐧𝐮𝐦𝐛𝐞𝐫𝐬"
      ]
    },
    {
      "cell_type": "markdown",
      "metadata": {
        "id": "LPXs2nzAyjTF"
      },
      "source": [
        " \n",
        "𝐀𝐈𝐌:To Write a test-case to check the function even numbers which return True on passing a list of\n",
        "all even numbers\n",
        "\n",
        "𝐃𝐄𝐒𝐂𝐑𝐈𝐏𝐓𝐈𝐎𝐍:Testcase is used to create test cases by subclassing it. The last block of the code at the bottom \n",
        "allows us to run all the tests just by running the file. Basic terms used in the code : assertEqual()- This statement is used to check if the result obtained is equal to the expected result\n",
        "test case:\n",
        "A test case is a set of conditions which is used to determine whether a system under test works correctly"
      ]
    },
    {
      "cell_type": "code",
      "metadata": {
        "colab": {
          "base_uri": "https://localhost:8080/"
        },
        "id": "I1niqiKzlnDH",
        "outputId": "3e3e481b-249c-4e35-a29d-59d5ffa8cbc6"
      },
      "source": [
        "def evnNo(num):\n",
        "    stat=True\n",
        " \n",
        "    for i in num:\n",
        "        if i%2 ==1:\n",
        "            stat=False\n",
        "            break\n",
        "    return stat\n",
        "        \n",
        "numbers=[]\n",
        "for i in range(0,2):\n",
        "    numbers.append(int(input(\"Enter a value\")))\n",
        "print(evnNo(numbers))"
      ],
      "execution_count": null,
      "outputs": [
        {
          "name": "stdout",
          "output_type": "stream",
          "text": [
            "Enter a value10\n",
            "Enter a value20\n",
            "True\n"
          ]
        }
      ]
    },
    {
      "cell_type": "markdown",
      "metadata": {
        "id": "2y14MsdMl0tV"
      },
      "source": [
        "𝐛) 𝐖𝐫𝐢𝐭𝐞 𝐚 𝐭𝐞𝐬𝐭𝐜𝐚𝐬𝐞 𝐭𝐨 𝐜𝐡𝐞𝐜𝐤 𝐭𝐡𝐞 𝐟𝐮𝐧𝐜𝐭𝐢𝐨𝐧 𝐫𝐞𝐯𝐞𝐫𝐬𝐞 𝐬𝐭𝐫𝐢𝐧𝐠 𝐰𝐡𝐢𝐜𝐡 𝐫𝐞𝐭𝐮𝐫𝐧𝐬 𝐭𝐡𝐞 𝐫𝐞𝐯𝐞𝐫𝐬𝐞𝐝 𝐬𝐭𝐫𝐢𝐧𝐠"
      ]
    },
    {
      "cell_type": "markdown",
      "metadata": {
        "id": "Z16GfZjyyk3S"
      },
      "source": [
        " \n",
        "𝐀𝐈𝐌:testcase to check the function reverse string which returns the reversed string \n",
        "\n",
        "𝐃𝐄𝐒𝐂𝐑𝐈𝐏𝐓𝐈𝐎𝐍:Python string library does’nt support the in-built “reverse()” as done by other python containers \n",
        "like list, hence knowing other methods to reverse string can prove to be useful.The reversed() returns the reversed iterator of the given string and then its elements are joined\n",
        "empty string separated using join(). And reversed order string is formed."
      ]
    },
    {
      "cell_type": "code",
      "metadata": {
        "colab": {
          "base_uri": "https://localhost:8080/"
        },
        "id": "8_hMd5orl6M_",
        "outputId": "ad3a98e5-0e84-441c-88b7-1a60c4517672"
      },
      "source": [
        " \n",
        "def rev_str(st):\n",
        "    return st[::-1]\n",
        " \n",
        "st=\"swarnandhra\"\n",
        "print(\"Given String is: \",st)\n",
        " \n",
        "print(\"Reverse is: \",rev_str(st))"
      ],
      "execution_count": null,
      "outputs": [
        {
          "name": "stdout",
          "output_type": "stream",
          "text": [
            "Given String is:  swarnandhra\n",
            "Reverse is:  arhdnanraws\n"
          ]
        }
      ]
    },
    {
      "cell_type": "code",
      "metadata": {
        "colab": {
          "base_uri": "https://localhost:8080/"
        },
        "id": "LRhxjiYumK02",
        "outputId": "67a37671-da2a-461e-9dff-99923e132c44"
      },
      "source": [
        "def rev_str(st):\n",
        "    temp=\"\"\n",
        "    for i in range(len(st)-1,-1,-1):\n",
        "        temp+=st[i]\n",
        "    return temp\n",
        " \n",
        "st=\"swarnandhra\"\n",
        "print(\"Given String is: \",st)\n",
        "print(\"Reverse String is: \",st[::-1])\n",
        "print(\"Reverse is: \",rev_str(st))"
      ],
      "execution_count": null,
      "outputs": [
        {
          "name": "stdout",
          "output_type": "stream",
          "text": [
            "Given String is:  swarnandhra\n",
            "Reverse String is:  arhdnanraws\n",
            "Reverse is:  arhdnanraws\n"
          ]
        }
      ]
    },
    {
      "cell_type": "markdown",
      "metadata": {
        "id": "5tCEl6jkXK3G"
      },
      "source": [
        " 𝗘𝗫𝗘𝗥𝗖𝗜𝗦𝗘 𝟭𝟲:𝗔𝗱𝘃𝗮𝗻𝗰𝗲𝗱\n",
        "𝐚) 𝐁𝐮𝐢𝐥𝐝 𝐚𝐧𝐲 𝐨𝐧𝐞 𝐜𝐥𝐚𝐬𝐬𝐢𝐜𝐚𝐥 𝐝𝐚𝐭𝐚 𝐬𝐭𝐫𝐮𝐜𝐭𝐮𝐫𝐞"
      ]
    },
    {
      "cell_type": "markdown",
      "metadata": {
        "id": "shXydRD9SYab"
      },
      "source": [
        " \n",
        " 𝐀𝐈𝐌:To build any one classical data structure\n",
        "\n",
        "𝐃𝐄𝐒𝐂𝐑𝐈𝐏𝐓𝐈𝐎𝐍:\n",
        "The basic Python data structures in Python include list, set, tuples, and dictionary. ... Data structures are “containers” that organize and group data according to type. The data structures differ based on mutability and order. Mutability refers to the ability to change an object after its creation."
      ]
    },
    {
      "cell_type": "code",
      "metadata": {
        "colab": {
          "base_uri": "https://localhost:8080/"
        },
        "id": "q5KpwIM4YPSQ",
        "outputId": "7eb4ee7a-9792-4999-ea68-c796b6f8c5ef"
      },
      "source": [
        " \n",
        "a=[]\n",
        "while True:\n",
        "    print(\"1.PUSH 2.POP 3.DISPLAY 4.EXIT\") \n",
        "    ch=int(input(\"enter your choice:\")) \n",
        "    if ch==1 : \n",
        "       ele=int(input(\"Enter element:\"))\n",
        "       a.append(ele) \n",
        "       print(ele, \"is inserted\") \n",
        "    elif ch==2:\n",
        "        if len(a) ==0 :\n",
        "            print(\" Stack is empty\") \n",
        "        else :\n",
        "           print(\"Deleted element is :\", a[len(a) -1]) \n",
        "           a. remove(a[len(a) -1]) \n",
        "    elif ch==3 :\n",
        "        if len(a) ==0:\n",
        "            print(\"Stack is empty\") \n",
        "        else :\n",
        "           print(\"The elements in the stack :\") \n",
        "           for i in reversed(a):\n",
        "                 print(i) \n",
        "    elif ch==4:\n",
        "       break\n",
        "    else :\n",
        "        print(\"Invalid choice \")"
      ],
      "execution_count": null,
      "outputs": [
        {
          "name": "stdout",
          "output_type": "stream",
          "text": [
            "1.PUSH 2.POP 3.DISPLAY 4.EXIT\n",
            "enter your choice:1\n",
            "Enter element:20\n",
            "20 is inserted\n",
            "1.PUSH 2.POP 3.DISPLAY 4.EXIT\n",
            "enter your choice:2\n",
            "Deleted element is : 20\n",
            "1.PUSH 2.POP 3.DISPLAY 4.EXIT\n",
            "enter your choice:3\n",
            "Stack is empty\n",
            "1.PUSH 2.POP 3.DISPLAY 4.EXIT\n",
            "enter your choice:1\n",
            "Enter element:40\n",
            "40 is inserted\n",
            "1.PUSH 2.POP 3.DISPLAY 4.EXIT\n",
            "enter your choice:1\n",
            "Enter element:203\n",
            "203 is inserted\n",
            "1.PUSH 2.POP 3.DISPLAY 4.EXIT\n",
            "enter your choice:2\n",
            "Deleted element is : 203\n",
            "1.PUSH 2.POP 3.DISPLAY 4.EXIT\n",
            "enter your choice:3\n",
            "The elements in the stack :\n",
            "40\n",
            "1.PUSH 2.POP 3.DISPLAY 4.EXIT\n",
            "enter your choice:4\n"
          ]
        }
      ]
    },
    {
      "cell_type": "markdown",
      "metadata": {
        "id": "vkfaG1b1YbJK"
      },
      "source": [
        "𝐛) 𝐖𝐫𝐢𝐭𝐞 𝐚 𝐩𝐫𝐨𝐠𝐫𝐚𝐦 𝐭𝐨 𝐬𝐨𝐥𝐯𝐞 𝐤𝐧𝐚𝐩𝐬𝐚𝐜𝐤 𝐩𝐫𝐨𝐛𝐥𝐞𝐦."
      ]
    },
    {
      "cell_type": "markdown",
      "metadata": {
        "id": "oHdEtvnsSaTA"
      },
      "source": [
        "\n",
        "\n",
        "𝐀𝐈𝐌:To write a program to solve knapsack problem\n",
        "\n",
        "𝐃𝐄𝐒𝐂𝐑𝐈𝐏𝐓𝐈𝐎𝐍:\n",
        " A knapsack problem algorithm is a constructive approach to combinatorial optimization. The problem is basically about a given set of items, each with a specific weight and a value. Therefore the programmer needs to determine each item’s number to include in a collection so that the total weight is less than or equal to a given limit. And also, the total value is maximum. It derives its name from the fixed-size knapsack that must be filled up to its limit with the most valuable items."
      ]
    },
    {
      "cell_type": "code",
      "metadata": {
        "colab": {
          "base_uri": "https://localhost:8080/"
        },
        "id": "Tgikg9XaYlUM",
        "outputId": "976650a3-1f61-448c-d627-ba6eb2a282c8"
      },
      "source": [
        "def knapSack(W, wt, val, n): \n",
        "    K = [[0 for x in range(W + 1)] for x in range(n + 1)] \n",
        "    # Build table K[][] in bottom up manner \n",
        "    for i in range(n + 1): \n",
        "        for w in range(W + 1): \n",
        "            if i == 0 or w == 0: \n",
        "                K[i][w] = 0\n",
        "            elif wt[i-1] <= w: \n",
        "                K[i][w] = max(val[i-1] + K[i-1][w-wt[i-1]],  K[i-1][w]) \n",
        "            else: \n",
        "                K[i][w] = K[i-1][w] \n",
        "    return K[n][W] \n",
        "profits=[10,5,15,7,6,18,3] \n",
        "wt = [2,3,5,7,1,4,1] \n",
        "W = 15\n",
        "n = len(profits) \n",
        "print(\"Minimum value knapsack of capacity :\", knapSack(W, wt, profits, n))"
      ],
      "execution_count": null,
      "outputs": [
        {
          "name": "stdout",
          "output_type": "stream",
          "text": [
            "Minimum value knapsack of capacity : 54\n"
          ]
        }
      ]
    },
    {
      "cell_type": "markdown",
      "metadata": {
        "id": "yc6kdNhQEfN2"
      },
      "source": [
        " 𝗘𝗫𝗘𝗥𝗖𝗜𝗦𝗘 :𝟭𝟳&𝟭𝟴 𝗗𝗮𝘁𝗮 𝗔𝗻𝗮𝗹𝘆𝘀𝗶𝘀\n",
        "𝐃𝐚𝐭𝐚 𝐚𝐧𝐚𝐥𝐲𝐬𝐢𝐬 𝐚𝐧𝐝 𝐦𝐚𝐧𝐢𝐩𝐮𝐥𝐚𝐭𝐢𝐨𝐧 𝐮𝐬𝐢𝐧𝐠 𝐭𝐡𝐞 𝐟𝐨𝐥𝐥𝐨𝐰𝐢𝐧𝐠 𝐩𝐚𝐜𝐤𝐚𝐠𝐞𝐬\n",
        "𝐚) 𝐧𝐮𝐦𝐩𝐲 𝐛) 𝐩𝐚𝐧𝐝𝐚𝐬 \n",
        "𝐜) 𝐬𝐜𝐢𝐩𝐲  𝐝) 𝐦𝐚𝐭𝐩𝐥𝐨𝐭𝐥𝐢𝐛\n",
        " (𝐌𝐚𝐜𝐡𝐢𝐧𝐞 𝐥𝐞𝐚𝐫𝐧𝐢𝐧𝐠 𝐋𝐢𝐛𝐫𝐚𝐫𝐢𝐞𝐬)"
      ]
    },
    {
      "cell_type": "markdown",
      "metadata": {
        "id": "gmRCz-JdI8mQ"
      },
      "source": [
        " \n",
        "𝐀𝐈𝐌:using packages do data analysis and manipulation  \n",
        "   \n",
        "𝐃𝐄𝐒𝐂𝐑𝐈𝐏𝐓𝐈𝐎𝐍 :SciPy is a free and open-source Python library used for scientific computing and technical \n",
        "computing. It is a collection of mathematical algorithms and convenience functions built on the \n",
        "NumPy extension of Python\n",
        "NumPy is the fundamental package for scientific computing in Python. ....NumPy arrays\n",
        "facilitate advanced mathematical and other types of operations on large numbers of data.\n",
        "Matplotlib is a plotting library for the Python programming language and its numerical\n",
        "mathematics extension NumPy. It provides an object-oriented API for embedding plots into \n",
        "applications using general-purpose GUI toolkits like Tkinter, wxPython, Qt, or GTK\n",
        "Pandas is an open source Python package that is most widely used for data science/data \n",
        "analysis and machine learning tasks. It is built on top of another package named Numpy, which \n",
        "provides support for multi-dimensional arrays.\n",
        "Scikit-learn is probably the most useful library for machine learning in Python. The sklearn\n",
        "library contains a lot of eficient tools for machine learning and statistical modeling including \n",
        "classification, regression, clustering and dimensionality reduction.\n",
        "Seaborn is a library in Python predominantly used for making statistical graphics. Seaborn is a \n",
        "data visualization library built on top of matplotlib and closely integrated with pandas data \n",
        "structures in Python"
      ]
    },
    {
      "cell_type": "code",
      "metadata": {
        "colab": {
          "base_uri": "https://localhost:8080/"
        },
        "id": "LL38_Wq1EeHj",
        "outputId": "77639cc0-b32d-4937-e44e-bbb1ea7678f8"
      },
      "source": [
        "import sys\n",
        "print('python : {} '. format(sys.version))\n",
        "#scipy\n",
        "import scipy\n",
        "print('scipy:{} ' . format(scipy.__version__))\n",
        "#numpy\n",
        "import numpy\n",
        "print('numpy:{} ' . format(numpy.__version__))\n",
        "#matplotlib\n",
        "import matplotlib\n",
        "print('matplotlib:{} ' . format(matplotlib.__version__))\n",
        "#pandas\n",
        "import pandas\n",
        "print('pandas:{} ' . format(pandas.__version__))\n",
        "#sklearn\n",
        "import sklearn\n",
        "print('sklearn:{} ' . format(sklearn.__version__))\n",
        "#seaborn\n",
        "import seaborn\n",
        "print('seaborn:{} ' . format(seaborn.__version__))\n",
        "import urllib\n",
        "print('urlib:{} ' . format(urllib.__name__))\n",
        "import csv\n",
        "print('csv:{} ' . format(csv.__version__))"
      ],
      "execution_count": null,
      "outputs": [
        {
          "name": "stdout",
          "output_type": "stream",
          "text": [
            "python : 3.7.10 (default, May  3 2021, 02:48:31) \n",
            "[GCC 7.5.0] \n",
            "scipy:1.4.1 \n",
            "numpy:1.19.5 \n",
            "matplotlib:3.2.2 \n",
            "pandas:1.1.5 \n",
            "sklearn:0.22.2.post1 \n",
            "seaborn:0.11.1 \n",
            "urlib:urllib \n",
            "csv:1.0 \n"
          ]
        }
      ]
    }
  ]
}